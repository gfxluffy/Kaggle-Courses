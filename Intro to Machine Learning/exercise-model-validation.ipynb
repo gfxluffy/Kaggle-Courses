{
 "cells": [
  {
   "cell_type": "markdown",
   "id": "ec94bac0",
   "metadata": {
    "papermill": {
     "duration": 0.014709,
     "end_time": "2021-12-13T15:14:22.948940",
     "exception": false,
     "start_time": "2021-12-13T15:14:22.934231",
     "status": "completed"
    },
    "tags": []
   },
   "source": [
    "**This notebook is an exercise in the [Introduction to Machine Learning](https://www.kaggle.com/learn/intro-to-machine-learning) course.  You can reference the tutorial at [this link](https://www.kaggle.com/dansbecker/model-validation).**\n",
    "\n",
    "---\n"
   ]
  },
  {
   "cell_type": "markdown",
   "id": "bb46dfc5",
   "metadata": {
    "papermill": {
     "duration": 0.013868,
     "end_time": "2021-12-13T15:14:22.977280",
     "exception": false,
     "start_time": "2021-12-13T15:14:22.963412",
     "status": "completed"
    },
    "tags": []
   },
   "source": [
    "## Recap\n",
    "You've built a model. In this exercise you will test how good your model is.\n",
    "\n",
    "Run the cell below to set up your coding environment where the previous exercise left off."
   ]
  },
  {
   "cell_type": "code",
   "execution_count": 1,
   "id": "f91d8ae5",
   "metadata": {
    "execution": {
     "iopub.execute_input": "2021-12-13T15:14:23.011427Z",
     "iopub.status.busy": "2021-12-13T15:14:23.009584Z",
     "iopub.status.idle": "2021-12-13T15:14:24.477869Z",
     "shell.execute_reply": "2021-12-13T15:14:24.477130Z",
     "shell.execute_reply.started": "2021-12-13T15:04:25.066973Z"
    },
    "papermill": {
     "duration": 1.487629,
     "end_time": "2021-12-13T15:14:24.478045",
     "exception": false,
     "start_time": "2021-12-13T15:14:22.990416",
     "status": "completed"
    },
    "tags": []
   },
   "outputs": [
    {
     "name": "stdout",
     "output_type": "stream",
     "text": [
      "First in-sample predictions: [208500. 181500. 223500. 140000. 250000.]\n",
      "Actual target values for those homes: [208500, 181500, 223500, 140000, 250000]\n",
      "Setup Complete\n"
     ]
    }
   ],
   "source": [
    "# Code you have previously used to load data\n",
    "import pandas as pd\n",
    "from sklearn.tree import DecisionTreeRegressor\n",
    "\n",
    "# Path of the file to read\n",
    "iowa_file_path = '../input/home-data-for-ml-course/train.csv'\n",
    "\n",
    "home_data = pd.read_csv(iowa_file_path)\n",
    "y = home_data.SalePrice\n",
    "feature_columns = ['LotArea', 'YearBuilt', '1stFlrSF', '2ndFlrSF', 'FullBath', 'BedroomAbvGr', 'TotRmsAbvGrd']\n",
    "X = home_data[feature_columns]\n",
    "\n",
    "# Specify Model\n",
    "iowa_model = DecisionTreeRegressor()\n",
    "# Fit Model\n",
    "iowa_model.fit(X, y)\n",
    "\n",
    "print(\"First in-sample predictions:\", iowa_model.predict(X.head()))\n",
    "print(\"Actual target values for those homes:\", y.head().tolist())\n",
    "\n",
    "# Set up code checking\n",
    "from learntools.core import binder\n",
    "binder.bind(globals())\n",
    "from learntools.machine_learning.ex4 import *\n",
    "print(\"Setup Complete\")"
   ]
  },
  {
   "cell_type": "markdown",
   "id": "8fc5c8d0",
   "metadata": {
    "papermill": {
     "duration": 0.013404,
     "end_time": "2021-12-13T15:14:24.505983",
     "exception": false,
     "start_time": "2021-12-13T15:14:24.492579",
     "status": "completed"
    },
    "tags": []
   },
   "source": [
    "# Exercises\n",
    "\n",
    "## Step 1: Split Your Data\n",
    "Use the `train_test_split` function to split up your data.\n",
    "\n",
    "Give it the argument `random_state=1` so the `check` functions know what to expect when verifying your code.\n",
    "\n",
    "Recall, your features are loaded in the DataFrame **X** and your target is loaded in **y**.\n"
   ]
  },
  {
   "cell_type": "code",
   "execution_count": 2,
   "id": "d356918a",
   "metadata": {
    "execution": {
     "iopub.execute_input": "2021-12-13T15:14:24.537656Z",
     "iopub.status.busy": "2021-12-13T15:14:24.536964Z",
     "iopub.status.idle": "2021-12-13T15:14:24.550650Z",
     "shell.execute_reply": "2021-12-13T15:14:24.551183Z",
     "shell.execute_reply.started": "2021-12-13T15:04:56.014412Z"
    },
    "papermill": {
     "duration": 0.031868,
     "end_time": "2021-12-13T15:14:24.551352",
     "exception": false,
     "start_time": "2021-12-13T15:14:24.519484",
     "status": "completed"
    },
    "tags": []
   },
   "outputs": [
    {
     "data": {
      "application/javascript": [
       "parent.postMessage({\"jupyterEvent\": \"custom.exercise_interaction\", \"data\": {\"outcomeType\": 1, \"valueTowardsCompletion\": 0.25, \"interactionType\": 1, \"questionType\": 2, \"questionId\": \"1_SplitData\", \"learnToolsVersion\": \"0.3.4\", \"failureMessage\": \"\", \"exceptionClass\": \"\", \"trace\": \"\"}}, \"*\")"
      ],
      "text/plain": [
       "<IPython.core.display.Javascript object>"
      ]
     },
     "metadata": {},
     "output_type": "display_data"
    },
    {
     "data": {
      "text/markdown": [
       "<span style=\"color:#33cc33\">Correct</span>"
      ],
      "text/plain": [
       "Correct"
      ]
     },
     "metadata": {},
     "output_type": "display_data"
    }
   ],
   "source": [
    "# Import the train_test_split function and uncomment\n",
    "from sklearn.model_selection import train_test_split\n",
    "\n",
    "# fill in and uncomment\n",
    "train_X, val_X, train_y, val_y = train_test_split(X, y, random_state=1)\n",
    "\n",
    "# Check your answer\n",
    "step_1.check()"
   ]
  },
  {
   "cell_type": "code",
   "execution_count": 3,
   "id": "89ccbdb5",
   "metadata": {
    "execution": {
     "iopub.execute_input": "2021-12-13T15:14:24.584694Z",
     "iopub.status.busy": "2021-12-13T15:14:24.583991Z",
     "iopub.status.idle": "2021-12-13T15:14:24.586696Z",
     "shell.execute_reply": "2021-12-13T15:14:24.587144Z"
    },
    "papermill": {
     "duration": 0.021059,
     "end_time": "2021-12-13T15:14:24.587332",
     "exception": false,
     "start_time": "2021-12-13T15:14:24.566273",
     "status": "completed"
    },
    "tags": []
   },
   "outputs": [],
   "source": [
    "# The lines below will show you a hint or the solution.\n",
    "# step_1.hint() \n",
    "# step_1.solution()\n"
   ]
  },
  {
   "cell_type": "markdown",
   "id": "dd9670be",
   "metadata": {
    "papermill": {
     "duration": 0.014733,
     "end_time": "2021-12-13T15:14:24.617021",
     "exception": false,
     "start_time": "2021-12-13T15:14:24.602288",
     "status": "completed"
    },
    "tags": []
   },
   "source": [
    "## Step 2: Specify and Fit the Model\n",
    "\n",
    "Create a `DecisionTreeRegressor` model and fit it to the relevant data.\n",
    "Set `random_state` to 1 again when creating the model."
   ]
  },
  {
   "cell_type": "code",
   "execution_count": 4,
   "id": "6b030015",
   "metadata": {
    "execution": {
     "iopub.execute_input": "2021-12-13T15:14:24.649808Z",
     "iopub.status.busy": "2021-12-13T15:14:24.649116Z",
     "iopub.status.idle": "2021-12-13T15:14:24.674286Z",
     "shell.execute_reply": "2021-12-13T15:14:24.674797Z",
     "shell.execute_reply.started": "2021-12-13T15:06:07.213602Z"
    },
    "papermill": {
     "duration": 0.043115,
     "end_time": "2021-12-13T15:14:24.674980",
     "exception": false,
     "start_time": "2021-12-13T15:14:24.631865",
     "status": "completed"
    },
    "tags": []
   },
   "outputs": [
    {
     "name": "stdout",
     "output_type": "stream",
     "text": [
      "[186500. 184000. 130000.  92000. 164500. 220000. 335000. 144152. 215000.\n",
      " 262000.]\n",
      "[186500. 184000. 130000.  92000. 164500. 220000. 335000. 144152. 215000.\n",
      " 262000.]\n"
     ]
    },
    {
     "data": {
      "application/javascript": [
       "parent.postMessage({\"jupyterEvent\": \"custom.exercise_interaction\", \"data\": {\"outcomeType\": 1, \"valueTowardsCompletion\": 0.25, \"interactionType\": 1, \"questionType\": 2, \"questionId\": \"2_FitModelWithTrain\", \"learnToolsVersion\": \"0.3.4\", \"failureMessage\": \"\", \"exceptionClass\": \"\", \"trace\": \"\"}}, \"*\")"
      ],
      "text/plain": [
       "<IPython.core.display.Javascript object>"
      ]
     },
     "metadata": {},
     "output_type": "display_data"
    },
    {
     "data": {
      "text/markdown": [
       "<span style=\"color:#33cc33\">Correct</span>"
      ],
      "text/plain": [
       "Correct"
      ]
     },
     "metadata": {},
     "output_type": "display_data"
    }
   ],
   "source": [
    "# You imported DecisionTreeRegressor in your last exercise\n",
    "# and that code has been copied to the setup code above. So, no need to\n",
    "# import it again\n",
    "\n",
    "# Specify the model\n",
    "iowa_model = DecisionTreeRegressor(random_state=1)\n",
    "\n",
    "# Fit iowa_model with the training data.\n",
    "iowa_model.fit(train_X, train_y)\n",
    "\n",
    "# Check your answer\n",
    "step_2.check()"
   ]
  },
  {
   "cell_type": "code",
   "execution_count": 5,
   "id": "8462d8f8",
   "metadata": {
    "execution": {
     "iopub.execute_input": "2021-12-13T15:14:24.709986Z",
     "iopub.status.busy": "2021-12-13T15:14:24.709322Z",
     "iopub.status.idle": "2021-12-13T15:14:24.712074Z",
     "shell.execute_reply": "2021-12-13T15:14:24.712541Z",
     "shell.execute_reply.started": "2021-12-13T15:06:10.230786Z"
    },
    "papermill": {
     "duration": 0.021728,
     "end_time": "2021-12-13T15:14:24.712736",
     "exception": false,
     "start_time": "2021-12-13T15:14:24.691008",
     "status": "completed"
    },
    "tags": []
   },
   "outputs": [],
   "source": [
    "# step_2.hint()\n",
    "# step_2.solution()"
   ]
  },
  {
   "cell_type": "markdown",
   "id": "e3b63760",
   "metadata": {
    "papermill": {
     "duration": 0.015362,
     "end_time": "2021-12-13T15:14:24.743867",
     "exception": false,
     "start_time": "2021-12-13T15:14:24.728505",
     "status": "completed"
    },
    "tags": []
   },
   "source": [
    "## Step 3: Make Predictions with Validation data\n"
   ]
  },
  {
   "cell_type": "code",
   "execution_count": 6,
   "id": "4f810237",
   "metadata": {
    "execution": {
     "iopub.execute_input": "2021-12-13T15:14:24.778569Z",
     "iopub.status.busy": "2021-12-13T15:14:24.777915Z",
     "iopub.status.idle": "2021-12-13T15:14:24.789164Z",
     "shell.execute_reply": "2021-12-13T15:14:24.788596Z",
     "shell.execute_reply.started": "2021-12-13T15:06:32.148412Z"
    },
    "papermill": {
     "duration": 0.029779,
     "end_time": "2021-12-13T15:14:24.789315",
     "exception": false,
     "start_time": "2021-12-13T15:14:24.759536",
     "status": "completed"
    },
    "tags": []
   },
   "outputs": [
    {
     "data": {
      "application/javascript": [
       "parent.postMessage({\"jupyterEvent\": \"custom.exercise_interaction\", \"data\": {\"outcomeType\": 1, \"valueTowardsCompletion\": 0.25, \"interactionType\": 1, \"questionType\": 2, \"questionId\": \"3_ValPreds\", \"learnToolsVersion\": \"0.3.4\", \"failureMessage\": \"\", \"exceptionClass\": \"\", \"trace\": \"\"}}, \"*\")"
      ],
      "text/plain": [
       "<IPython.core.display.Javascript object>"
      ]
     },
     "metadata": {},
     "output_type": "display_data"
    },
    {
     "data": {
      "text/markdown": [
       "<span style=\"color:#33cc33\">Correct</span>"
      ],
      "text/plain": [
       "Correct"
      ]
     },
     "metadata": {},
     "output_type": "display_data"
    }
   ],
   "source": [
    "# Predict with all validation observations\n",
    "val_predictions = iowa_model.predict(val_X)\n",
    "\n",
    "# Check your answer\n",
    "step_3.check()"
   ]
  },
  {
   "cell_type": "code",
   "execution_count": 7,
   "id": "a78db3dd",
   "metadata": {
    "execution": {
     "iopub.execute_input": "2021-12-13T15:14:24.826806Z",
     "iopub.status.busy": "2021-12-13T15:14:24.826117Z",
     "iopub.status.idle": "2021-12-13T15:14:24.829026Z",
     "shell.execute_reply": "2021-12-13T15:14:24.829543Z"
    },
    "papermill": {
     "duration": 0.02345,
     "end_time": "2021-12-13T15:14:24.829730",
     "exception": false,
     "start_time": "2021-12-13T15:14:24.806280",
     "status": "completed"
    },
    "tags": []
   },
   "outputs": [],
   "source": [
    "# step_3.hint()\n",
    "# step_3.solution()"
   ]
  },
  {
   "cell_type": "markdown",
   "id": "48aead69",
   "metadata": {
    "papermill": {
     "duration": 0.017082,
     "end_time": "2021-12-13T15:14:24.863600",
     "exception": false,
     "start_time": "2021-12-13T15:14:24.846518",
     "status": "completed"
    },
    "tags": []
   },
   "source": [
    "Inspect your predictions and actual values from validation data."
   ]
  },
  {
   "cell_type": "code",
   "execution_count": 8,
   "id": "bb6e53b4",
   "metadata": {
    "execution": {
     "iopub.execute_input": "2021-12-13T15:14:24.900721Z",
     "iopub.status.busy": "2021-12-13T15:14:24.900038Z",
     "iopub.status.idle": "2021-12-13T15:14:24.906374Z",
     "shell.execute_reply": "2021-12-13T15:14:24.905810Z",
     "shell.execute_reply.started": "2021-12-13T15:12:48.626200Z"
    },
    "papermill": {
     "duration": 0.026032,
     "end_time": "2021-12-13T15:14:24.906512",
     "exception": false,
     "start_time": "2021-12-13T15:14:24.880480",
     "status": "completed"
    },
    "tags": []
   },
   "outputs": [
    {
     "name": "stdout",
     "output_type": "stream",
     "text": [
      "[186500. 184000. 130000.  92000. 164500.]\n",
      "[231500, 179500, 122000, 84500, 142000]\n"
     ]
    }
   ],
   "source": [
    "# print the top few validation predictions\n",
    "print(val_predictions[:5])\n",
    "# print the top few actual prices from validation data\n",
    "print(val_y.head().tolist())"
   ]
  },
  {
   "cell_type": "markdown",
   "id": "8d1eda8e",
   "metadata": {
    "papermill": {
     "duration": 0.018079,
     "end_time": "2021-12-13T15:14:24.943172",
     "exception": false,
     "start_time": "2021-12-13T15:14:24.925093",
     "status": "completed"
    },
    "tags": []
   },
   "source": [
    "What do you notice that is different from what you saw with in-sample predictions (which are printed after the top code cell in this page).\n",
    "\n",
    "Do you remember why validation predictions differ from in-sample (or training) predictions? This is an important idea from the last lesson.\n",
    "\n",
    "## Step 4: Calculate the Mean Absolute Error in Validation Data\n"
   ]
  },
  {
   "cell_type": "code",
   "execution_count": 9,
   "id": "eb90eda3",
   "metadata": {
    "execution": {
     "iopub.execute_input": "2021-12-13T15:14:24.982082Z",
     "iopub.status.busy": "2021-12-13T15:14:24.981420Z",
     "iopub.status.idle": "2021-12-13T15:14:24.992093Z",
     "shell.execute_reply": "2021-12-13T15:14:24.992752Z",
     "shell.execute_reply.started": "2021-12-13T15:12:57.160646Z"
    },
    "papermill": {
     "duration": 0.03188,
     "end_time": "2021-12-13T15:14:24.992935",
     "exception": false,
     "start_time": "2021-12-13T15:14:24.961055",
     "status": "completed"
    },
    "tags": []
   },
   "outputs": [
    {
     "name": "stdout",
     "output_type": "stream",
     "text": [
      "29652.931506849316\n"
     ]
    },
    {
     "data": {
      "application/javascript": [
       "parent.postMessage({\"jupyterEvent\": \"custom.exercise_interaction\", \"data\": {\"outcomeType\": 1, \"valueTowardsCompletion\": 0.25, \"interactionType\": 1, \"questionType\": 1, \"questionId\": \"4_MAE\", \"learnToolsVersion\": \"0.3.4\", \"failureMessage\": \"\", \"exceptionClass\": \"\", \"trace\": \"\"}}, \"*\")"
      ],
      "text/plain": [
       "<IPython.core.display.Javascript object>"
      ]
     },
     "metadata": {},
     "output_type": "display_data"
    },
    {
     "data": {
      "text/markdown": [
       "<span style=\"color:#33cc33\">Correct</span>"
      ],
      "text/plain": [
       "Correct"
      ]
     },
     "metadata": {},
     "output_type": "display_data"
    }
   ],
   "source": [
    "from sklearn.metrics import mean_absolute_error\n",
    "val_mae = mean_absolute_error(val_y, val_predictions)\n",
    "\n",
    "# uncomment following line to see the validation_mae\n",
    "print(val_mae)\n",
    "\n",
    "# Check your answer\n",
    "step_4.check()"
   ]
  },
  {
   "cell_type": "code",
   "execution_count": 10,
   "id": "759b0535",
   "metadata": {
    "execution": {
     "iopub.execute_input": "2021-12-13T15:14:25.035764Z",
     "iopub.status.busy": "2021-12-13T15:14:25.035049Z",
     "iopub.status.idle": "2021-12-13T15:14:25.038119Z",
     "shell.execute_reply": "2021-12-13T15:14:25.038720Z"
    },
    "papermill": {
     "duration": 0.026064,
     "end_time": "2021-12-13T15:14:25.038897",
     "exception": false,
     "start_time": "2021-12-13T15:14:25.012833",
     "status": "completed"
    },
    "tags": []
   },
   "outputs": [],
   "source": [
    "# step_4.hint()\n",
    "# step_4.solution()"
   ]
  },
  {
   "cell_type": "markdown",
   "id": "2bcac49b",
   "metadata": {
    "papermill": {
     "duration": 0.018089,
     "end_time": "2021-12-13T15:14:25.076113",
     "exception": false,
     "start_time": "2021-12-13T15:14:25.058024",
     "status": "completed"
    },
    "tags": []
   },
   "source": [
    "Is that MAE good?  There isn't a general rule for what values are good that applies across applications. But you'll see how to use (and improve) this number in the next step.\n",
    "\n",
    "# Keep Going\n",
    "\n",
    "You are ready for **[Underfitting and Overfitting](https://www.kaggle.com/dansbecker/underfitting-and-overfitting).**\n"
   ]
  },
  {
   "cell_type": "markdown",
   "id": "f378a553",
   "metadata": {
    "papermill": {
     "duration": 0.018244,
     "end_time": "2021-12-13T15:14:25.112812",
     "exception": false,
     "start_time": "2021-12-13T15:14:25.094568",
     "status": "completed"
    },
    "tags": []
   },
   "source": [
    "---\n",
    "\n",
    "\n",
    "\n",
    "\n",
    "*Have questions or comments? Visit the [course discussion forum](https://www.kaggle.com/learn/intro-to-machine-learning/discussion) to chat with other learners.*"
   ]
  }
 ],
 "metadata": {
  "kernelspec": {
   "display_name": "Python 3",
   "language": "python",
   "name": "python3"
  },
  "language_info": {
   "codemirror_mode": {
    "name": "ipython",
    "version": 3
   },
   "file_extension": ".py",
   "mimetype": "text/x-python",
   "name": "python",
   "nbconvert_exporter": "python",
   "pygments_lexer": "ipython3",
   "version": "3.7.12"
  },
  "papermill": {
   "default_parameters": {},
   "duration": 14.088571,
   "end_time": "2021-12-13T15:14:25.841326",
   "environment_variables": {},
   "exception": null,
   "input_path": "__notebook__.ipynb",
   "output_path": "__notebook__.ipynb",
   "parameters": {},
   "start_time": "2021-12-13T15:14:11.752755",
   "version": "2.3.3"
  }
 },
 "nbformat": 4,
 "nbformat_minor": 5
}

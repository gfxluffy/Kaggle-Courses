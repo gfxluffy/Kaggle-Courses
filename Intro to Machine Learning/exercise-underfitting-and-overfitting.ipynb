{
 "cells": [
  {
   "cell_type": "markdown",
   "id": "b4a80499",
   "metadata": {
    "papermill": {
     "duration": 0.010803,
     "end_time": "2021-12-13T16:02:22.133542",
     "exception": false,
     "start_time": "2021-12-13T16:02:22.122739",
     "status": "completed"
    },
    "tags": []
   },
   "source": [
    "**This notebook is an exercise in the [Introduction to Machine Learning](https://www.kaggle.com/learn/intro-to-machine-learning) course.  You can reference the tutorial at [this link](https://www.kaggle.com/dansbecker/underfitting-and-overfitting).**\n",
    "\n",
    "---\n"
   ]
  },
  {
   "cell_type": "markdown",
   "id": "b49ee1c5",
   "metadata": {
    "papermill": {
     "duration": 0.009296,
     "end_time": "2021-12-13T16:02:22.153652",
     "exception": false,
     "start_time": "2021-12-13T16:02:22.144356",
     "status": "completed"
    },
    "tags": []
   },
   "source": [
    "## Recap\n",
    "You've built your first model, and now it's time to optimize the size of the tree to make better predictions. Run this cell to set up your coding environment where the previous step left off."
   ]
  },
  {
   "cell_type": "code",
   "execution_count": 1,
   "id": "5be390ed",
   "metadata": {
    "execution": {
     "iopub.execute_input": "2021-12-13T16:02:22.177329Z",
     "iopub.status.busy": "2021-12-13T16:02:22.176104Z",
     "iopub.status.idle": "2021-12-13T16:02:23.696078Z",
     "shell.execute_reply": "2021-12-13T16:02:23.697173Z",
     "shell.execute_reply.started": "2021-12-13T15:45:10.374217Z"
    },
    "papermill": {
     "duration": 1.534038,
     "end_time": "2021-12-13T16:02:23.697558",
     "exception": false,
     "start_time": "2021-12-13T16:02:22.163520",
     "status": "completed"
    },
    "tags": []
   },
   "outputs": [
    {
     "name": "stdout",
     "output_type": "stream",
     "text": [
      "Validation MAE: 29,653\n",
      "\n",
      "Setup complete\n"
     ]
    }
   ],
   "source": [
    "# Code you have previously used to load data\n",
    "import pandas as pd\n",
    "from sklearn.metrics import mean_absolute_error\n",
    "from sklearn.model_selection import train_test_split\n",
    "from sklearn.tree import DecisionTreeRegressor\n",
    "\n",
    "\n",
    "# Path of the file to read\n",
    "iowa_file_path = '../input/home-data-for-ml-course/train.csv'\n",
    "\n",
    "home_data = pd.read_csv(iowa_file_path)\n",
    "# Create target object and call it y\n",
    "y = home_data.SalePrice\n",
    "# Create X\n",
    "features = ['LotArea', 'YearBuilt', '1stFlrSF', '2ndFlrSF', 'FullBath', 'BedroomAbvGr', 'TotRmsAbvGrd']\n",
    "X = home_data[features]\n",
    "\n",
    "# Split into validation and training data\n",
    "train_X, val_X, train_y, val_y = train_test_split(X, y, random_state=1)\n",
    "\n",
    "# Specify Model\n",
    "iowa_model = DecisionTreeRegressor(random_state=1)\n",
    "# Fit Model\n",
    "iowa_model.fit(train_X, train_y)\n",
    "\n",
    "# Make validation predictions and calculate mean absolute error\n",
    "val_predictions = iowa_model.predict(val_X)\n",
    "val_mae = mean_absolute_error(val_predictions, val_y)\n",
    "print(\"Validation MAE: {:,.0f}\".format(val_mae))\n",
    "\n",
    "# Set up code checking\n",
    "from learntools.core import binder\n",
    "binder.bind(globals())\n",
    "from learntools.machine_learning.ex5 import *\n",
    "print(\"\\nSetup complete\")"
   ]
  },
  {
   "cell_type": "markdown",
   "id": "711479bc",
   "metadata": {
    "papermill": {
     "duration": 0.010036,
     "end_time": "2021-12-13T16:02:23.718329",
     "exception": false,
     "start_time": "2021-12-13T16:02:23.708293",
     "status": "completed"
    },
    "tags": []
   },
   "source": [
    "# Exercises\n",
    "You could write the function `get_mae` yourself. For now, we'll supply it. This is the same function you read about in the previous lesson. Just run the cell below."
   ]
  },
  {
   "cell_type": "code",
   "execution_count": 2,
   "id": "92bda324",
   "metadata": {
    "execution": {
     "iopub.execute_input": "2021-12-13T16:02:23.742773Z",
     "iopub.status.busy": "2021-12-13T16:02:23.742102Z",
     "iopub.status.idle": "2021-12-13T16:02:23.746989Z",
     "shell.execute_reply": "2021-12-13T16:02:23.747539Z",
     "shell.execute_reply.started": "2021-12-13T15:45:12.313728Z"
    },
    "papermill": {
     "duration": 0.018616,
     "end_time": "2021-12-13T16:02:23.747708",
     "exception": false,
     "start_time": "2021-12-13T16:02:23.729092",
     "status": "completed"
    },
    "tags": []
   },
   "outputs": [],
   "source": [
    "def get_mae(max_leaf_nodes, train_X, val_X, train_y, val_y):\n",
    "    model = DecisionTreeRegressor(max_leaf_nodes=max_leaf_nodes, random_state=0)\n",
    "    model.fit(train_X, train_y)\n",
    "    preds_val = model.predict(val_X)\n",
    "    mae = mean_absolute_error(val_y, preds_val)\n",
    "    return(mae)"
   ]
  },
  {
   "cell_type": "markdown",
   "id": "5e968088",
   "metadata": {
    "papermill": {
     "duration": 0.009954,
     "end_time": "2021-12-13T16:02:23.767609",
     "exception": false,
     "start_time": "2021-12-13T16:02:23.757655",
     "status": "completed"
    },
    "tags": []
   },
   "source": [
    "## Step 1: Compare Different Tree Sizes\n",
    "Write a loop that tries the following values for *max_leaf_nodes* from a set of possible values.\n",
    "\n",
    "Call the *get_mae* function on each value of max_leaf_nodes. Store the output in some way that allows you to select the value of `max_leaf_nodes` that gives the most accurate model on your data."
   ]
  },
  {
   "cell_type": "code",
   "execution_count": 3,
   "id": "14b2c645",
   "metadata": {
    "execution": {
     "iopub.execute_input": "2021-12-13T16:02:23.796341Z",
     "iopub.status.busy": "2021-12-13T16:02:23.790755Z",
     "iopub.status.idle": "2021-12-13T16:02:23.841682Z",
     "shell.execute_reply": "2021-12-13T16:02:23.841027Z",
     "shell.execute_reply.started": "2021-12-13T15:56:21.388754Z"
    },
    "papermill": {
     "duration": 0.063984,
     "end_time": "2021-12-13T16:02:23.841818",
     "exception": false,
     "start_time": "2021-12-13T16:02:23.777834",
     "status": "completed"
    },
    "tags": []
   },
   "outputs": [
    {
     "data": {
      "application/javascript": [
       "parent.postMessage({\"jupyterEvent\": \"custom.exercise_interaction\", \"data\": {\"outcomeType\": 1, \"valueTowardsCompletion\": 0.5, \"interactionType\": 1, \"questionType\": 1, \"questionId\": \"1_BestTreeSize\", \"learnToolsVersion\": \"0.3.4\", \"failureMessage\": \"\", \"exceptionClass\": \"\", \"trace\": \"\"}}, \"*\")"
      ],
      "text/plain": [
       "<IPython.core.display.Javascript object>"
      ]
     },
     "metadata": {},
     "output_type": "display_data"
    },
    {
     "data": {
      "text/markdown": [
       "<span style=\"color:#33cc33\">Correct</span>"
      ],
      "text/plain": [
       "Correct"
      ]
     },
     "metadata": {},
     "output_type": "display_data"
    }
   ],
   "source": [
    "candidate_max_leaf_nodes = [5, 25, 50, 100, 250, 500]\n",
    "# Write loop to find the ideal tree size from candidate_max_leaf_nodes\n",
    "mae = {max_leaf_nodes: get_mae(max_leaf_nodes, train_X, val_X, train_y, val_y) for max_leaf_nodes in candidate_max_leaf_nodes}\n",
    "\n",
    "# Store the best value of max_leaf_nodes (it will be either 5, 25, 50, 100, 250 or 500)\n",
    "best_tree_size = min(mae, key=mae.get)\n",
    "\n",
    "# Check your answer\n",
    "step_1.check()"
   ]
  },
  {
   "cell_type": "code",
   "execution_count": 4,
   "id": "25b901e7",
   "metadata": {
    "execution": {
     "iopub.execute_input": "2021-12-13T16:02:23.868962Z",
     "iopub.status.busy": "2021-12-13T16:02:23.868218Z",
     "iopub.status.idle": "2021-12-13T16:02:23.870991Z",
     "shell.execute_reply": "2021-12-13T16:02:23.870527Z",
     "shell.execute_reply.started": "2021-12-13T15:53:50.394439Z"
    },
    "papermill": {
     "duration": 0.017931,
     "end_time": "2021-12-13T16:02:23.871152",
     "exception": false,
     "start_time": "2021-12-13T16:02:23.853221",
     "status": "completed"
    },
    "tags": []
   },
   "outputs": [],
   "source": [
    "# The lines below will show you a hint or the solution.\n",
    "# step_1.hint() \n",
    "# step_1.solution()"
   ]
  },
  {
   "cell_type": "markdown",
   "id": "2a20faa1",
   "metadata": {
    "papermill": {
     "duration": 0.010687,
     "end_time": "2021-12-13T16:02:23.892596",
     "exception": false,
     "start_time": "2021-12-13T16:02:23.881909",
     "status": "completed"
    },
    "tags": []
   },
   "source": [
    "## Step 2: Fit Model Using All Data\n",
    "You know the best tree size. If you were going to deploy this model in practice, you would make it even more accurate by using all of the data and keeping that tree size.  That is, you don't need to hold out the validation data now that you've made all your modeling decisions."
   ]
  },
  {
   "cell_type": "code",
   "execution_count": 5,
   "id": "a52477f4",
   "metadata": {
    "execution": {
     "iopub.execute_input": "2021-12-13T16:02:23.921139Z",
     "iopub.status.busy": "2021-12-13T16:02:23.920440Z",
     "iopub.status.idle": "2021-12-13T16:02:23.932109Z",
     "shell.execute_reply": "2021-12-13T16:02:23.932630Z",
     "shell.execute_reply.started": "2021-12-13T15:58:31.383589Z"
    },
    "papermill": {
     "duration": 0.029288,
     "end_time": "2021-12-13T16:02:23.932800",
     "exception": false,
     "start_time": "2021-12-13T16:02:23.903512",
     "status": "completed"
    },
    "tags": []
   },
   "outputs": [
    {
     "data": {
      "application/javascript": [
       "parent.postMessage({\"jupyterEvent\": \"custom.exercise_interaction\", \"data\": {\"outcomeType\": 1, \"valueTowardsCompletion\": 0.5, \"interactionType\": 1, \"questionType\": 2, \"questionId\": \"2_FitModelWithAllData\", \"learnToolsVersion\": \"0.3.4\", \"failureMessage\": \"\", \"exceptionClass\": \"\", \"trace\": \"\"}}, \"*\")"
      ],
      "text/plain": [
       "<IPython.core.display.Javascript object>"
      ]
     },
     "metadata": {},
     "output_type": "display_data"
    },
    {
     "data": {
      "text/markdown": [
       "<span style=\"color:#33cc33\">Correct</span>"
      ],
      "text/plain": [
       "Correct"
      ]
     },
     "metadata": {},
     "output_type": "display_data"
    }
   ],
   "source": [
    "# Fill in argument to make optimal size and uncomment\n",
    "final_model = DecisionTreeRegressor(max_leaf_nodes=best_tree_size)\n",
    "\n",
    "# fit the final model and uncomment the next two lines\n",
    "final_model.fit(X, y)\n",
    "\n",
    "# Check your answer\n",
    "step_2.check()"
   ]
  },
  {
   "cell_type": "code",
   "execution_count": 6,
   "id": "6bd8ec47",
   "metadata": {
    "execution": {
     "iopub.execute_input": "2021-12-13T16:02:23.961487Z",
     "iopub.status.busy": "2021-12-13T16:02:23.960776Z",
     "iopub.status.idle": "2021-12-13T16:02:23.962401Z",
     "shell.execute_reply": "2021-12-13T16:02:23.962992Z"
    },
    "papermill": {
     "duration": 0.018273,
     "end_time": "2021-12-13T16:02:23.963179",
     "exception": false,
     "start_time": "2021-12-13T16:02:23.944906",
     "status": "completed"
    },
    "tags": []
   },
   "outputs": [],
   "source": [
    "# step_2.hint()\n",
    "# step_2.solution()"
   ]
  },
  {
   "cell_type": "markdown",
   "id": "e1ace848",
   "metadata": {
    "papermill": {
     "duration": 0.011698,
     "end_time": "2021-12-13T16:02:23.987302",
     "exception": false,
     "start_time": "2021-12-13T16:02:23.975604",
     "status": "completed"
    },
    "tags": []
   },
   "source": [
    "You've tuned this model and improved your results. But we are still using Decision Tree models, which are not very sophisticated by modern machine learning standards. In the next step you will learn to use Random Forests to improve your models even more.\n",
    "\n",
    "# Keep Going\n",
    "\n",
    "You are ready for **[Random Forests](https://www.kaggle.com/dansbecker/random-forests).**\n"
   ]
  },
  {
   "cell_type": "markdown",
   "id": "9493f504",
   "metadata": {
    "papermill": {
     "duration": 0.011677,
     "end_time": "2021-12-13T16:02:24.010940",
     "exception": false,
     "start_time": "2021-12-13T16:02:23.999263",
     "status": "completed"
    },
    "tags": []
   },
   "source": [
    "---\n",
    "\n",
    "\n",
    "\n",
    "\n",
    "*Have questions or comments? Visit the [course discussion forum](https://www.kaggle.com/learn/intro-to-machine-learning/discussion) to chat with other learners.*"
   ]
  }
 ],
 "metadata": {
  "kernelspec": {
   "display_name": "Python 3",
   "language": "python",
   "name": "python3"
  },
  "language_info": {
   "codemirror_mode": {
    "name": "ipython",
    "version": 3
   },
   "file_extension": ".py",
   "mimetype": "text/x-python",
   "name": "python",
   "nbconvert_exporter": "python",
   "pygments_lexer": "ipython3",
   "version": "3.7.12"
  },
  "papermill": {
   "default_parameters": {},
   "duration": 13.45228,
   "end_time": "2021-12-13T16:02:24.733077",
   "environment_variables": {},
   "exception": null,
   "input_path": "__notebook__.ipynb",
   "output_path": "__notebook__.ipynb",
   "parameters": {},
   "start_time": "2021-12-13T16:02:11.280797",
   "version": "2.3.3"
  }
 },
 "nbformat": 4,
 "nbformat_minor": 5
}

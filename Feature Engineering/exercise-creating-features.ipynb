{
 "cells": [
  {
   "cell_type": "markdown",
   "id": "3040fd64",
   "metadata": {
    "papermill": {
     "duration": 0.019258,
     "end_time": "2022-01-08T06:35:27.927052",
     "exception": false,
     "start_time": "2022-01-08T06:35:27.907794",
     "status": "completed"
    },
    "tags": []
   },
   "source": [
    "**This notebook is an exercise in the [Feature Engineering](https://www.kaggle.com/learn/feature-engineering) course.  You can reference the tutorial at [this link](https://www.kaggle.com/ryanholbrook/creating-features).**\n",
    "\n",
    "---\n"
   ]
  },
  {
   "cell_type": "markdown",
   "id": "39f91d8d",
   "metadata": {
    "papermill": {
     "duration": 0.018047,
     "end_time": "2022-01-08T06:35:27.966526",
     "exception": false,
     "start_time": "2022-01-08T06:35:27.948479",
     "status": "completed"
    },
    "tags": []
   },
   "source": [
    "# Introduction #\n",
    "\n",
    "In this exercise you'll start developing the features you identified in Exercise 2 as having the most potential. As you work through this exercise, you might take a moment to look at the data documentation again and consider whether the features we're creating make sense from a real-world perspective, and whether there are any useful combinations that stand out to you.\n",
    "\n",
    "Run this cell to set everything up!"
   ]
  },
  {
   "cell_type": "code",
   "execution_count": 1,
   "id": "cafdee75",
   "metadata": {
    "execution": {
     "iopub.execute_input": "2022-01-08T06:35:28.007723Z",
     "iopub.status.busy": "2022-01-08T06:35:28.006463Z",
     "iopub.status.idle": "2022-01-08T06:35:29.482658Z",
     "shell.execute_reply": "2022-01-08T06:35:29.481923Z",
     "shell.execute_reply.started": "2022-01-08T06:08:13.923602Z"
    },
    "papermill": {
     "duration": 1.498582,
     "end_time": "2022-01-08T06:35:29.482854",
     "exception": false,
     "start_time": "2022-01-08T06:35:27.984272",
     "status": "completed"
    },
    "tags": []
   },
   "outputs": [],
   "source": [
    "# Setup feedback system\n",
    "from learntools.core import binder\n",
    "binder.bind(globals())\n",
    "from learntools.feature_engineering_new.ex3 import *\n",
    "\n",
    "import numpy as np\n",
    "import pandas as pd\n",
    "from sklearn.model_selection import cross_val_score\n",
    "from xgboost import XGBRegressor\n",
    "\n",
    "\n",
    "def score_dataset(X, y, model=XGBRegressor()):\n",
    "    # Label encoding for categoricals\n",
    "    for colname in X.select_dtypes([\"category\", \"object\"]):\n",
    "        X[colname], _ = X[colname].factorize()\n",
    "    # Metric for Housing competition is RMSLE (Root Mean Squared Log Error)\n",
    "    score = cross_val_score(\n",
    "        model, X, y, cv=5, scoring=\"neg_mean_squared_log_error\",\n",
    "    )\n",
    "    score = -1 * score.mean()\n",
    "    score = np.sqrt(score)\n",
    "    return score\n",
    "\n",
    "\n",
    "# Prepare data\n",
    "df = pd.read_csv(\"../input/fe-course-data/ames.csv\")\n",
    "X = df.copy()\n",
    "y = X.pop(\"SalePrice\")"
   ]
  },
  {
   "cell_type": "markdown",
   "id": "b4ef57ba",
   "metadata": {
    "papermill": {
     "duration": 0.018602,
     "end_time": "2022-01-08T06:35:29.521560",
     "exception": false,
     "start_time": "2022-01-08T06:35:29.502958",
     "status": "completed"
    },
    "tags": []
   },
   "source": [
    "-------------------------------------------------------------------------------\n",
    "\n",
    "Let's start with a few mathematical combinations. We'll focus on features describing areas -- having the same units (square-feet) makes it easy to combine them in sensible ways. Since we're using XGBoost (a tree-based model), we'll focus on ratios and sums.\n",
    "\n",
    "# 1) Create Mathematical Transforms\n",
    "\n",
    "Create the following features:\n",
    "\n",
    "- `LivLotRatio`: the ratio of `GrLivArea` to `LotArea`\n",
    "- `Spaciousness`: the sum of `FirstFlrSF` and `SecondFlrSF` divided by `TotRmsAbvGrd`\n",
    "- `TotalOutsideSF`: the sum of `WoodDeckSF`, `OpenPorchSF`, `EnclosedPorch`, `Threeseasonporch`, and `ScreenPorch`"
   ]
  },
  {
   "cell_type": "code",
   "execution_count": 2,
   "id": "c54f3972",
   "metadata": {
    "execution": {
     "iopub.execute_input": "2022-01-08T06:35:29.576969Z",
     "iopub.status.busy": "2022-01-08T06:35:29.575866Z",
     "iopub.status.idle": "2022-01-08T06:35:29.587628Z",
     "shell.execute_reply": "2022-01-08T06:35:29.586929Z",
     "shell.execute_reply.started": "2022-01-08T06:09:13.070525Z"
    },
    "lines_to_next_cell": 0,
    "papermill": {
     "duration": 0.048117,
     "end_time": "2022-01-08T06:35:29.587776",
     "exception": false,
     "start_time": "2022-01-08T06:35:29.539659",
     "status": "completed"
    },
    "tags": []
   },
   "outputs": [
    {
     "data": {
      "application/javascript": [
       "parent.postMessage({\"jupyterEvent\": \"custom.exercise_interaction\", \"data\": {\"outcomeType\": 1, \"valueTowardsCompletion\": 0.2, \"interactionType\": 1, \"questionType\": 2, \"questionId\": \"1_Q1\", \"learnToolsVersion\": \"0.3.4\", \"failureMessage\": \"\", \"exceptionClass\": \"\", \"trace\": \"\"}}, \"*\")"
      ],
      "text/plain": [
       "<IPython.core.display.Javascript object>"
      ]
     },
     "metadata": {},
     "output_type": "display_data"
    },
    {
     "data": {
      "text/markdown": [
       "<span style=\"color:#33cc33\">Correct</span>"
      ],
      "text/plain": [
       "Correct"
      ]
     },
     "metadata": {},
     "output_type": "display_data"
    }
   ],
   "source": [
    "# YOUR CODE HERE\n",
    "X_1 = pd.DataFrame()  # dataframe to hold new features\n",
    "\n",
    "X_1[\"LivLotRatio\"] = df['GrLivArea'] / df['LotArea']\n",
    "X_1[\"Spaciousness\"] =  (df['FirstFlrSF'] +  df['SecondFlrSF']) /  df['TotRmsAbvGrd']\n",
    "X_1[\"TotalOutsideSF\"] = df['WoodDeckSF'] + df['OpenPorchSF'] + df['EnclosedPorch'] + df['Threeseasonporch'] + df['ScreenPorch']\n",
    "\n",
    "\n",
    "# Check your answer\n",
    "q_1.check()"
   ]
  },
  {
   "cell_type": "code",
   "execution_count": 3,
   "id": "6eada612",
   "metadata": {
    "execution": {
     "iopub.execute_input": "2022-01-08T06:35:29.631914Z",
     "iopub.status.busy": "2022-01-08T06:35:29.631104Z",
     "iopub.status.idle": "2022-01-08T06:35:29.632846Z",
     "shell.execute_reply": "2022-01-08T06:35:29.633336Z",
     "shell.execute_reply.started": "2022-01-08T06:28:51.852238Z"
    },
    "lines_to_next_cell": 0,
    "papermill": {
     "duration": 0.026525,
     "end_time": "2022-01-08T06:35:29.633519",
     "exception": false,
     "start_time": "2022-01-08T06:35:29.606994",
     "status": "completed"
    },
    "tags": []
   },
   "outputs": [],
   "source": [
    "# Lines below will give you a hint or solution code\n",
    "#q_1.hint()\n",
    "#q_1.solution()"
   ]
  },
  {
   "cell_type": "markdown",
   "id": "e10c9061",
   "metadata": {
    "papermill": {
     "duration": 0.0192,
     "end_time": "2022-01-08T06:35:29.672377",
     "exception": false,
     "start_time": "2022-01-08T06:35:29.653177",
     "status": "completed"
    },
    "tags": []
   },
   "source": [
    "-------------------------------------------------------------------------------\n",
    "\n",
    "If you've discovered an interaction effect between a numeric feature and a categorical feature, you might want to model it explicitly using a one-hot encoding, like so:\n",
    "\n",
    "```\n",
    "# One-hot encode Categorical feature, adding a column prefix \"Cat\"\n",
    "X_new = pd.get_dummies(df.Categorical, prefix=\"Cat\")\n",
    "\n",
    "# Multiply row-by-row\n",
    "X_new = X_new.mul(df.Continuous, axis=0)\n",
    "\n",
    "# Join the new features to the feature set\n",
    "X = X.join(X_new)\n",
    "```\n",
    "\n",
    "# 2) Interaction with a Categorical\n",
    "\n",
    "We discovered an interaction between `BldgType` and `GrLivArea` in Exercise 2. Now create their interaction features."
   ]
  },
  {
   "cell_type": "code",
   "execution_count": 4,
   "id": "996352ac",
   "metadata": {
    "execution": {
     "iopub.execute_input": "2022-01-08T06:35:29.717367Z",
     "iopub.status.busy": "2022-01-08T06:35:29.716626Z",
     "iopub.status.idle": "2022-01-08T06:35:29.728076Z",
     "shell.execute_reply": "2022-01-08T06:35:29.727549Z",
     "shell.execute_reply.started": "2022-01-08T06:28:57.082961Z"
    },
    "lines_to_next_cell": 0,
    "papermill": {
     "duration": 0.036718,
     "end_time": "2022-01-08T06:35:29.728236",
     "exception": false,
     "start_time": "2022-01-08T06:35:29.691518",
     "status": "completed"
    },
    "tags": []
   },
   "outputs": [
    {
     "data": {
      "application/javascript": [
       "parent.postMessage({\"jupyterEvent\": \"custom.exercise_interaction\", \"data\": {\"outcomeType\": 1, \"valueTowardsCompletion\": 0.2, \"interactionType\": 1, \"questionType\": 2, \"questionId\": \"2_Q2\", \"learnToolsVersion\": \"0.3.4\", \"failureMessage\": \"\", \"exceptionClass\": \"\", \"trace\": \"\"}}, \"*\")"
      ],
      "text/plain": [
       "<IPython.core.display.Javascript object>"
      ]
     },
     "metadata": {},
     "output_type": "display_data"
    },
    {
     "data": {
      "text/markdown": [
       "<span style=\"color:#33cc33\">Correct</span>"
      ],
      "text/plain": [
       "Correct"
      ]
     },
     "metadata": {},
     "output_type": "display_data"
    }
   ],
   "source": [
    "# YOUR CODE HERE\n",
    "# One-hot encode BldgType. Use `prefix=\"Bldg\"` in `get_dummies`\n",
    "X_2 = pd.get_dummies(df.BldgType, prefix=\"Bldg\") \n",
    "# Multiply\n",
    "X_2 = X_2.mul(df.GrLivArea, axis=0)\n",
    "\n",
    "\n",
    "# Check your answer\n",
    "q_2.check()"
   ]
  },
  {
   "cell_type": "code",
   "execution_count": 5,
   "id": "99e36f94",
   "metadata": {
    "execution": {
     "iopub.execute_input": "2022-01-08T06:35:29.773328Z",
     "iopub.status.busy": "2022-01-08T06:35:29.770444Z",
     "iopub.status.idle": "2022-01-08T06:35:29.793293Z",
     "shell.execute_reply": "2022-01-08T06:35:29.792705Z",
     "shell.execute_reply.started": "2022-01-08T06:20:33.496962Z"
    },
    "papermill": {
     "duration": 0.045525,
     "end_time": "2022-01-08T06:35:29.793438",
     "exception": false,
     "start_time": "2022-01-08T06:35:29.747913",
     "status": "completed"
    },
    "tags": []
   },
   "outputs": [
    {
     "data": {
      "text/html": [
       "<div>\n",
       "<style scoped>\n",
       "    .dataframe tbody tr th:only-of-type {\n",
       "        vertical-align: middle;\n",
       "    }\n",
       "\n",
       "    .dataframe tbody tr th {\n",
       "        vertical-align: top;\n",
       "    }\n",
       "\n",
       "    .dataframe thead th {\n",
       "        text-align: right;\n",
       "    }\n",
       "</style>\n",
       "<table border=\"1\" class=\"dataframe\">\n",
       "  <thead>\n",
       "    <tr style=\"text-align: right;\">\n",
       "      <th></th>\n",
       "      <th>BldgType</th>\n",
       "      <th>GrLivArea</th>\n",
       "    </tr>\n",
       "  </thead>\n",
       "  <tbody>\n",
       "    <tr>\n",
       "      <th>0</th>\n",
       "      <td>OneFam</td>\n",
       "      <td>1656.0</td>\n",
       "    </tr>\n",
       "    <tr>\n",
       "      <th>1</th>\n",
       "      <td>OneFam</td>\n",
       "      <td>896.0</td>\n",
       "    </tr>\n",
       "    <tr>\n",
       "      <th>2</th>\n",
       "      <td>OneFam</td>\n",
       "      <td>1329.0</td>\n",
       "    </tr>\n",
       "    <tr>\n",
       "      <th>3</th>\n",
       "      <td>OneFam</td>\n",
       "      <td>2110.0</td>\n",
       "    </tr>\n",
       "    <tr>\n",
       "      <th>4</th>\n",
       "      <td>OneFam</td>\n",
       "      <td>1629.0</td>\n",
       "    </tr>\n",
       "  </tbody>\n",
       "</table>\n",
       "</div>"
      ],
      "text/plain": [
       "  BldgType  GrLivArea\n",
       "0   OneFam     1656.0\n",
       "1   OneFam      896.0\n",
       "2   OneFam     1329.0\n",
       "3   OneFam     2110.0\n",
       "4   OneFam     1629.0"
      ]
     },
     "execution_count": 5,
     "metadata": {},
     "output_type": "execute_result"
    }
   ],
   "source": [
    "X[['BldgType', 'GrLivArea']].head()"
   ]
  },
  {
   "cell_type": "code",
   "execution_count": 6,
   "id": "ff75e3d6",
   "metadata": {
    "execution": {
     "iopub.execute_input": "2022-01-08T06:35:29.851481Z",
     "iopub.status.busy": "2022-01-08T06:35:29.850355Z",
     "iopub.status.idle": "2022-01-08T06:35:29.854951Z",
     "shell.execute_reply": "2022-01-08T06:35:29.854303Z",
     "shell.execute_reply.started": "2022-01-08T06:18:53.659966Z"
    },
    "papermill": {
     "duration": 0.040981,
     "end_time": "2022-01-08T06:35:29.855106",
     "exception": false,
     "start_time": "2022-01-08T06:35:29.814125",
     "status": "completed"
    },
    "tags": []
   },
   "outputs": [
    {
     "data": {
      "text/html": [
       "<div>\n",
       "<style scoped>\n",
       "    .dataframe tbody tr th:only-of-type {\n",
       "        vertical-align: middle;\n",
       "    }\n",
       "\n",
       "    .dataframe tbody tr th {\n",
       "        vertical-align: top;\n",
       "    }\n",
       "\n",
       "    .dataframe thead th {\n",
       "        text-align: right;\n",
       "    }\n",
       "</style>\n",
       "<table border=\"1\" class=\"dataframe\">\n",
       "  <thead>\n",
       "    <tr style=\"text-align: right;\">\n",
       "      <th></th>\n",
       "      <th>Bldg_Duplex</th>\n",
       "      <th>Bldg_OneFam</th>\n",
       "      <th>Bldg_Twnhs</th>\n",
       "      <th>Bldg_TwnhsE</th>\n",
       "      <th>Bldg_TwoFmCon</th>\n",
       "    </tr>\n",
       "  </thead>\n",
       "  <tbody>\n",
       "    <tr>\n",
       "      <th>0</th>\n",
       "      <td>0.0</td>\n",
       "      <td>1656.0</td>\n",
       "      <td>0.0</td>\n",
       "      <td>0.0</td>\n",
       "      <td>0.0</td>\n",
       "    </tr>\n",
       "    <tr>\n",
       "      <th>1</th>\n",
       "      <td>0.0</td>\n",
       "      <td>896.0</td>\n",
       "      <td>0.0</td>\n",
       "      <td>0.0</td>\n",
       "      <td>0.0</td>\n",
       "    </tr>\n",
       "    <tr>\n",
       "      <th>2</th>\n",
       "      <td>0.0</td>\n",
       "      <td>1329.0</td>\n",
       "      <td>0.0</td>\n",
       "      <td>0.0</td>\n",
       "      <td>0.0</td>\n",
       "    </tr>\n",
       "    <tr>\n",
       "      <th>3</th>\n",
       "      <td>0.0</td>\n",
       "      <td>2110.0</td>\n",
       "      <td>0.0</td>\n",
       "      <td>0.0</td>\n",
       "      <td>0.0</td>\n",
       "    </tr>\n",
       "    <tr>\n",
       "      <th>4</th>\n",
       "      <td>0.0</td>\n",
       "      <td>1629.0</td>\n",
       "      <td>0.0</td>\n",
       "      <td>0.0</td>\n",
       "      <td>0.0</td>\n",
       "    </tr>\n",
       "  </tbody>\n",
       "</table>\n",
       "</div>"
      ],
      "text/plain": [
       "   Bldg_Duplex  Bldg_OneFam  Bldg_Twnhs  Bldg_TwnhsE  Bldg_TwoFmCon\n",
       "0          0.0       1656.0         0.0          0.0            0.0\n",
       "1          0.0        896.0         0.0          0.0            0.0\n",
       "2          0.0       1329.0         0.0          0.0            0.0\n",
       "3          0.0       2110.0         0.0          0.0            0.0\n",
       "4          0.0       1629.0         0.0          0.0            0.0"
      ]
     },
     "execution_count": 6,
     "metadata": {},
     "output_type": "execute_result"
    }
   ],
   "source": [
    "X_2.head()"
   ]
  },
  {
   "cell_type": "code",
   "execution_count": 7,
   "id": "0c2bf527",
   "metadata": {
    "execution": {
     "iopub.execute_input": "2022-01-08T06:35:29.903236Z",
     "iopub.status.busy": "2022-01-08T06:35:29.902423Z",
     "iopub.status.idle": "2022-01-08T06:35:29.905889Z",
     "shell.execute_reply": "2022-01-08T06:35:29.905182Z",
     "shell.execute_reply.started": "2022-01-08T06:18:13.359395Z"
    },
    "lines_to_next_cell": 0,
    "papermill": {
     "duration": 0.029555,
     "end_time": "2022-01-08T06:35:29.906048",
     "exception": false,
     "start_time": "2022-01-08T06:35:29.876493",
     "status": "completed"
    },
    "tags": []
   },
   "outputs": [],
   "source": [
    "# Lines below will give you a hint or solution code\n",
    "#q_2.hint()\n",
    "#q_2.solution()"
   ]
  },
  {
   "cell_type": "markdown",
   "id": "e79d6228",
   "metadata": {
    "lines_to_next_cell": 0,
    "papermill": {
     "duration": 0.020466,
     "end_time": "2022-01-08T06:35:29.947918",
     "exception": false,
     "start_time": "2022-01-08T06:35:29.927452",
     "status": "completed"
    },
    "tags": []
   },
   "source": [
    "# 3) Count Feature\n",
    "\n",
    "Let's try creating a feature that describes how many kinds of outdoor areas a dwelling has. Create a feature `PorchTypes` that counts how many of the following are greater than 0.0:\n",
    "\n",
    "```\n",
    "WoodDeckSF\n",
    "OpenPorchSF\n",
    "EnclosedPorch\n",
    "Threeseasonporch\n",
    "ScreenPorch\n",
    "```"
   ]
  },
  {
   "cell_type": "code",
   "execution_count": 8,
   "id": "f191c895",
   "metadata": {
    "execution": {
     "iopub.execute_input": "2022-01-08T06:35:30.005081Z",
     "iopub.status.busy": "2022-01-08T06:35:30.004374Z",
     "iopub.status.idle": "2022-01-08T06:35:30.010019Z",
     "shell.execute_reply": "2022-01-08T06:35:30.009451Z",
     "shell.execute_reply.started": "2022-01-08T06:29:03.582088Z"
    },
    "lines_to_next_cell": 0,
    "papermill": {
     "duration": 0.041369,
     "end_time": "2022-01-08T06:35:30.010184",
     "exception": false,
     "start_time": "2022-01-08T06:35:29.968815",
     "status": "completed"
    },
    "tags": []
   },
   "outputs": [
    {
     "data": {
      "application/javascript": [
       "parent.postMessage({\"jupyterEvent\": \"custom.exercise_interaction\", \"data\": {\"outcomeType\": 1, \"valueTowardsCompletion\": 0.2, \"interactionType\": 1, \"questionType\": 2, \"questionId\": \"3_Q3\", \"learnToolsVersion\": \"0.3.4\", \"failureMessage\": \"\", \"exceptionClass\": \"\", \"trace\": \"\"}}, \"*\")"
      ],
      "text/plain": [
       "<IPython.core.display.Javascript object>"
      ]
     },
     "metadata": {},
     "output_type": "display_data"
    },
    {
     "data": {
      "text/markdown": [
       "<span style=\"color:#33cc33\">Correct</span>"
      ],
      "text/plain": [
       "Correct"
      ]
     },
     "metadata": {},
     "output_type": "display_data"
    }
   ],
   "source": [
    "X_3 = pd.DataFrame()\n",
    "\n",
    "# YOUR CODE HERE\n",
    "porchtypes = ['WoodDeckSF', 'OpenPorchSF', 'EnclosedPorch', 'Threeseasonporch', 'ScreenPorch']\n",
    "X_3[\"PorchTypes\"] = df[porchtypes].gt(0).sum(axis=1)\n",
    "\n",
    "\n",
    "# Check your answer\n",
    "q_3.check()"
   ]
  },
  {
   "cell_type": "code",
   "execution_count": 9,
   "id": "65d22997",
   "metadata": {
    "execution": {
     "iopub.execute_input": "2022-01-08T06:35:30.058848Z",
     "iopub.status.busy": "2022-01-08T06:35:30.058164Z",
     "iopub.status.idle": "2022-01-08T06:35:30.060494Z",
     "shell.execute_reply": "2022-01-08T06:35:30.059885Z",
     "shell.execute_reply.started": "2022-01-08T06:29:07.478335Z"
    },
    "lines_to_next_cell": 0,
    "papermill": {
     "duration": 0.028055,
     "end_time": "2022-01-08T06:35:30.060647",
     "exception": false,
     "start_time": "2022-01-08T06:35:30.032592",
     "status": "completed"
    },
    "tags": []
   },
   "outputs": [],
   "source": [
    "# Lines below will give you a hint or solution code\n",
    "#q_3.hint()\n",
    "#q_3.solution()"
   ]
  },
  {
   "cell_type": "markdown",
   "id": "3517b890",
   "metadata": {
    "papermill": {
     "duration": 0.021088,
     "end_time": "2022-01-08T06:35:30.103212",
     "exception": false,
     "start_time": "2022-01-08T06:35:30.082124",
     "status": "completed"
    },
    "tags": []
   },
   "source": [
    "# 4) Break Down a Categorical Feature\n",
    "\n",
    "`MSSubClass` describes the type of a dwelling:"
   ]
  },
  {
   "cell_type": "code",
   "execution_count": 10,
   "id": "1b348c9d",
   "metadata": {
    "execution": {
     "iopub.execute_input": "2022-01-08T06:35:30.152785Z",
     "iopub.status.busy": "2022-01-08T06:35:30.152073Z",
     "iopub.status.idle": "2022-01-08T06:35:30.154691Z",
     "shell.execute_reply": "2022-01-08T06:35:30.155200Z",
     "shell.execute_reply.started": "2022-01-08T06:24:28.016514Z"
    },
    "papermill": {
     "duration": 0.030663,
     "end_time": "2022-01-08T06:35:30.155400",
     "exception": false,
     "start_time": "2022-01-08T06:35:30.124737",
     "status": "completed"
    },
    "tags": []
   },
   "outputs": [
    {
     "data": {
      "text/plain": [
       "array(['One_Story_1946_and_Newer_All_Styles', 'Two_Story_1946_and_Newer',\n",
       "       'One_Story_PUD_1946_and_Newer',\n",
       "       'One_and_Half_Story_Finished_All_Ages', 'Split_Foyer',\n",
       "       'Two_Story_PUD_1946_and_Newer', 'Split_or_Multilevel',\n",
       "       'One_Story_1945_and_Older', 'Duplex_All_Styles_and_Ages',\n",
       "       'Two_Family_conversion_All_Styles_and_Ages',\n",
       "       'One_and_Half_Story_Unfinished_All_Ages',\n",
       "       'Two_Story_1945_and_Older', 'Two_and_Half_Story_All_Ages',\n",
       "       'One_Story_with_Finished_Attic_All_Ages',\n",
       "       'PUD_Multilevel_Split_Level_Foyer',\n",
       "       'One_and_Half_Story_PUD_All_Ages'], dtype=object)"
      ]
     },
     "execution_count": 10,
     "metadata": {},
     "output_type": "execute_result"
    }
   ],
   "source": [
    "df.MSSubClass.unique()"
   ]
  },
  {
   "cell_type": "markdown",
   "id": "4ac2067a",
   "metadata": {
    "papermill": {
     "duration": 0.021576,
     "end_time": "2022-01-08T06:35:30.199709",
     "exception": false,
     "start_time": "2022-01-08T06:35:30.178133",
     "status": "completed"
    },
    "tags": []
   },
   "source": [
    "You can see that there is a more general categorization described (roughly) by the first word of each category. Create a feature containing only these first words by splitting `MSSubClass` at the first underscore `_`. (Hint: In the `split` method use an argument `n=1`.)"
   ]
  },
  {
   "cell_type": "code",
   "execution_count": 11,
   "id": "e6b82df7",
   "metadata": {
    "execution": {
     "iopub.execute_input": "2022-01-08T06:35:30.247065Z",
     "iopub.status.busy": "2022-01-08T06:35:30.246395Z",
     "iopub.status.idle": "2022-01-08T06:35:30.271716Z",
     "shell.execute_reply": "2022-01-08T06:35:30.272331Z",
     "shell.execute_reply.started": "2022-01-08T06:30:52.150871Z"
    },
    "lines_to_next_cell": 0,
    "papermill": {
     "duration": 0.050764,
     "end_time": "2022-01-08T06:35:30.272508",
     "exception": false,
     "start_time": "2022-01-08T06:35:30.221744",
     "status": "completed"
    },
    "tags": []
   },
   "outputs": [
    {
     "data": {
      "application/javascript": [
       "parent.postMessage({\"jupyterEvent\": \"custom.exercise_interaction\", \"data\": {\"outcomeType\": 1, \"valueTowardsCompletion\": 0.2, \"interactionType\": 1, \"questionType\": 2, \"questionId\": \"4_Q4\", \"learnToolsVersion\": \"0.3.4\", \"failureMessage\": \"\", \"exceptionClass\": \"\", \"trace\": \"\"}}, \"*\")"
      ],
      "text/plain": [
       "<IPython.core.display.Javascript object>"
      ]
     },
     "metadata": {},
     "output_type": "display_data"
    },
    {
     "data": {
      "text/markdown": [
       "<span style=\"color:#33cc33\">Correct</span>"
      ],
      "text/plain": [
       "Correct"
      ]
     },
     "metadata": {},
     "output_type": "display_data"
    }
   ],
   "source": [
    "X_4 = pd.DataFrame()\n",
    "\n",
    "# YOUR CODE HERE\n",
    "X_4['MSClass'] = (df['MSSubClass'].str\n",
    "        .split('_', n=1, expand=True)[0])\n",
    "\n",
    "# Check your answer\n",
    "q_4.check()"
   ]
  },
  {
   "cell_type": "code",
   "execution_count": 12,
   "id": "870c986b",
   "metadata": {
    "execution": {
     "iopub.execute_input": "2022-01-08T06:35:30.322980Z",
     "iopub.status.busy": "2022-01-08T06:35:30.322265Z",
     "iopub.status.idle": "2022-01-08T06:35:30.323731Z",
     "shell.execute_reply": "2022-01-08T06:35:30.324331Z",
     "shell.execute_reply.started": "2022-01-08T06:31:12.081057Z"
    },
    "lines_to_next_cell": 0,
    "papermill": {
     "duration": 0.029155,
     "end_time": "2022-01-08T06:35:30.324504",
     "exception": false,
     "start_time": "2022-01-08T06:35:30.295349",
     "status": "completed"
    },
    "tags": []
   },
   "outputs": [],
   "source": [
    "# Lines below will give you a hint or solution code\n",
    "#q_4.hint()\n",
    "#q_4.solution()"
   ]
  },
  {
   "cell_type": "markdown",
   "id": "dccc9ddf",
   "metadata": {
    "papermill": {
     "duration": 0.023614,
     "end_time": "2022-01-08T06:35:30.372297",
     "exception": false,
     "start_time": "2022-01-08T06:35:30.348683",
     "status": "completed"
    },
    "tags": []
   },
   "source": [
    "# 5) Use a Grouped Transform\n",
    "\n",
    "The value of a home often depends on how it compares to typical homes in its neighborhood. Create a feature `MedNhbdArea` that describes the *median* of `GrLivArea` grouped on `Neighborhood`."
   ]
  },
  {
   "cell_type": "code",
   "execution_count": 13,
   "id": "c9653a6b",
   "metadata": {
    "execution": {
     "iopub.execute_input": "2022-01-08T06:35:30.422290Z",
     "iopub.status.busy": "2022-01-08T06:35:30.421547Z",
     "iopub.status.idle": "2022-01-08T06:35:30.438420Z",
     "shell.execute_reply": "2022-01-08T06:35:30.439004Z",
     "shell.execute_reply.started": "2022-01-08T06:32:34.002163Z"
    },
    "lines_to_next_cell": 0,
    "papermill": {
     "duration": 0.04337,
     "end_time": "2022-01-08T06:35:30.439176",
     "exception": false,
     "start_time": "2022-01-08T06:35:30.395806",
     "status": "completed"
    },
    "tags": []
   },
   "outputs": [
    {
     "data": {
      "application/javascript": [
       "parent.postMessage({\"jupyterEvent\": \"custom.exercise_interaction\", \"data\": {\"outcomeType\": 1, \"valueTowardsCompletion\": 0.2, \"interactionType\": 1, \"questionType\": 2, \"questionId\": \"5_Q5\", \"learnToolsVersion\": \"0.3.4\", \"failureMessage\": \"\", \"exceptionClass\": \"\", \"trace\": \"\"}}, \"*\")"
      ],
      "text/plain": [
       "<IPython.core.display.Javascript object>"
      ]
     },
     "metadata": {},
     "output_type": "display_data"
    },
    {
     "data": {
      "text/markdown": [
       "<span style=\"color:#33cc33\">Correct</span>"
      ],
      "text/plain": [
       "Correct"
      ]
     },
     "metadata": {},
     "output_type": "display_data"
    }
   ],
   "source": [
    "X_5 = pd.DataFrame()\n",
    "\n",
    "# YOUR CODE HERE\n",
    "X_5[\"MedNhbdArea\"] = df.groupby('Neighborhood')['GrLivArea'].transform('median')\n",
    "\n",
    "# Check your answer\n",
    "q_5.check()"
   ]
  },
  {
   "cell_type": "code",
   "execution_count": 14,
   "id": "6e030b8e",
   "metadata": {
    "execution": {
     "iopub.execute_input": "2022-01-08T06:35:30.490633Z",
     "iopub.status.busy": "2022-01-08T06:35:30.489956Z",
     "iopub.status.idle": "2022-01-08T06:35:30.492855Z",
     "shell.execute_reply": "2022-01-08T06:35:30.493400Z"
    },
    "lines_to_next_cell": 0,
    "papermill": {
     "duration": 0.030437,
     "end_time": "2022-01-08T06:35:30.493568",
     "exception": false,
     "start_time": "2022-01-08T06:35:30.463131",
     "status": "completed"
    },
    "tags": []
   },
   "outputs": [],
   "source": [
    "# Lines below will give you a hint or solution code\n",
    "#q_5.hint()\n",
    "#q_5.solution()"
   ]
  },
  {
   "cell_type": "markdown",
   "id": "e4a27dd9",
   "metadata": {
    "papermill": {
     "duration": 0.023561,
     "end_time": "2022-01-08T06:35:30.541413",
     "exception": false,
     "start_time": "2022-01-08T06:35:30.517852",
     "status": "completed"
    },
    "tags": []
   },
   "source": [
    "Now you've made your first new feature set! If you like, you can run the cell below to score the model with all of your new features added:"
   ]
  },
  {
   "cell_type": "code",
   "execution_count": 15,
   "id": "2f07bd98",
   "metadata": {
    "execution": {
     "iopub.execute_input": "2022-01-08T06:35:30.592424Z",
     "iopub.status.busy": "2022-01-08T06:35:30.591775Z",
     "iopub.status.idle": "2022-01-08T06:35:35.306722Z",
     "shell.execute_reply": "2022-01-08T06:35:35.307570Z"
    },
    "papermill": {
     "duration": 4.74255,
     "end_time": "2022-01-08T06:35:35.307787",
     "exception": false,
     "start_time": "2022-01-08T06:35:30.565237",
     "status": "completed"
    },
    "tags": []
   },
   "outputs": [
    {
     "data": {
      "text/plain": [
       "0.13847331710099203"
      ]
     },
     "execution_count": 15,
     "metadata": {},
     "output_type": "execute_result"
    }
   ],
   "source": [
    "X_new = X.join([X_1, X_2, X_3, X_4, X_5])\n",
    "score_dataset(X_new, y)"
   ]
  },
  {
   "cell_type": "markdown",
   "id": "7ecc5986",
   "metadata": {
    "papermill": {
     "duration": 0.024277,
     "end_time": "2022-01-08T06:35:35.358327",
     "exception": false,
     "start_time": "2022-01-08T06:35:35.334050",
     "status": "completed"
    },
    "tags": []
   },
   "source": [
    "# Keep Going #\n",
    "\n",
    "[**Untangle spatial relationships**](https://www.kaggle.com/ryanholbrook/clustering-with-k-means) by adding cluster labels to your dataset."
   ]
  }
 ],
 "metadata": {
  "kernelspec": {
   "display_name": "Python 3",
   "language": "python",
   "name": "python3"
  },
  "language_info": {
   "codemirror_mode": {
    "name": "ipython",
    "version": 3
   },
   "file_extension": ".py",
   "mimetype": "text/x-python",
   "name": "python",
   "nbconvert_exporter": "python",
   "pygments_lexer": "ipython3",
   "version": "3.7.12"
  },
  "papermill": {
   "default_parameters": {},
   "duration": 19.245146,
   "end_time": "2022-01-08T06:35:36.093076",
   "environment_variables": {},
   "exception": null,
   "input_path": "__notebook__.ipynb",
   "output_path": "__notebook__.ipynb",
   "parameters": {},
   "start_time": "2022-01-08T06:35:16.847930",
   "version": "2.3.3"
  }
 },
 "nbformat": 4,
 "nbformat_minor": 5
}

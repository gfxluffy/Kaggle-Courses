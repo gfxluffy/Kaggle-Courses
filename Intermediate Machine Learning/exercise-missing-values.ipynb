{
 "cells": [
  {
   "cell_type": "markdown",
   "id": "22be2748",
   "metadata": {
    "papermill": {
     "duration": 0.028716,
     "end_time": "2021-12-21T07:46:55.266836",
     "exception": false,
     "start_time": "2021-12-21T07:46:55.238120",
     "status": "completed"
    },
    "tags": []
   },
   "source": [
    "**This notebook is an exercise in the [Intermediate Machine Learning](https://www.kaggle.com/learn/intermediate-machine-learning) course.  You can reference the tutorial at [this link](https://www.kaggle.com/alexisbcook/missing-values).**\n",
    "\n",
    "---\n"
   ]
  },
  {
   "cell_type": "markdown",
   "id": "43daca92",
   "metadata": {
    "papermill": {
     "duration": 0.02762,
     "end_time": "2021-12-21T07:46:55.324431",
     "exception": false,
     "start_time": "2021-12-21T07:46:55.296811",
     "status": "completed"
    },
    "tags": []
   },
   "source": [
    "Now it's your turn to test your new knowledge of **missing values** handling. You'll probably find it makes a big difference.\n",
    "\n",
    "# Setup\n",
    "\n",
    "The questions will give you feedback on your work. Run the following cell to set up the feedback system."
   ]
  },
  {
   "cell_type": "code",
   "execution_count": 1,
   "id": "a89b1fb7",
   "metadata": {
    "execution": {
     "iopub.execute_input": "2021-12-21T07:46:55.383416Z",
     "iopub.status.busy": "2021-12-21T07:46:55.382271Z",
     "iopub.status.idle": "2021-12-21T07:46:55.435326Z",
     "shell.execute_reply": "2021-12-21T07:46:55.436031Z",
     "shell.execute_reply.started": "2021-12-21T07:24:13.731809Z"
    },
    "papermill": {
     "duration": 0.084561,
     "end_time": "2021-12-21T07:46:55.436400",
     "exception": false,
     "start_time": "2021-12-21T07:46:55.351839",
     "status": "completed"
    },
    "tags": []
   },
   "outputs": [
    {
     "name": "stdout",
     "output_type": "stream",
     "text": [
      "Setup Complete\n"
     ]
    }
   ],
   "source": [
    "# Set up code checking\n",
    "import os\n",
    "if not os.path.exists(\"../input/train.csv\"):\n",
    "    os.symlink(\"../input/home-data-for-ml-course/train.csv\", \"../input/train.csv\")  \n",
    "    os.symlink(\"../input/home-data-for-ml-course/test.csv\", \"../input/test.csv\") \n",
    "from learntools.core import binder\n",
    "binder.bind(globals())\n",
    "from learntools.ml_intermediate.ex2 import *\n",
    "print(\"Setup Complete\")"
   ]
  },
  {
   "cell_type": "markdown",
   "id": "ec5cecec",
   "metadata": {
    "papermill": {
     "duration": 0.027597,
     "end_time": "2021-12-21T07:46:55.493682",
     "exception": false,
     "start_time": "2021-12-21T07:46:55.466085",
     "status": "completed"
    },
    "tags": []
   },
   "source": [
    "In this exercise, you will work with data from the [Housing Prices Competition for Kaggle Learn Users](https://www.kaggle.com/c/home-data-for-ml-course). \n",
    "\n",
    "![Ames Housing dataset image](https://i.imgur.com/lTJVG4e.png)\n",
    "\n",
    "Run the next code cell without changes to load the training and validation sets in `X_train`, `X_valid`, `y_train`, and `y_valid`.  The test set is loaded in `X_test`."
   ]
  },
  {
   "cell_type": "code",
   "execution_count": 2,
   "id": "a12d8f96",
   "metadata": {
    "execution": {
     "iopub.execute_input": "2021-12-21T07:46:55.553899Z",
     "iopub.status.busy": "2021-12-21T07:46:55.553231Z",
     "iopub.status.idle": "2021-12-21T07:46:56.880487Z",
     "shell.execute_reply": "2021-12-21T07:46:56.879828Z",
     "shell.execute_reply.started": "2021-12-21T07:24:16.800251Z"
    },
    "papermill": {
     "duration": 1.35818,
     "end_time": "2021-12-21T07:46:56.880645",
     "exception": false,
     "start_time": "2021-12-21T07:46:55.522465",
     "status": "completed"
    },
    "tags": []
   },
   "outputs": [],
   "source": [
    "import pandas as pd\n",
    "from sklearn.model_selection import train_test_split\n",
    "\n",
    "# Read the data\n",
    "X_full = pd.read_csv('../input/train.csv', index_col='Id')\n",
    "X_test_full = pd.read_csv('../input/test.csv', index_col='Id')\n",
    "\n",
    "# Remove rows with missing target, separate target from predictors\n",
    "X_full.dropna(axis=0, subset=['SalePrice'], inplace=True)\n",
    "y = X_full.SalePrice\n",
    "X_full.drop(['SalePrice'], axis=1, inplace=True)\n",
    "\n",
    "# To keep things simple, we'll use only numerical predictors\n",
    "X = X_full.select_dtypes(exclude=['object'])\n",
    "X_test = X_test_full.select_dtypes(exclude=['object'])\n",
    "\n",
    "# Break off validation set from training data\n",
    "X_train, X_valid, y_train, y_valid = train_test_split(X, y, train_size=0.8, test_size=0.2,\n",
    "                                                      random_state=0)"
   ]
  },
  {
   "cell_type": "markdown",
   "id": "0a35ac8f",
   "metadata": {
    "papermill": {
     "duration": 0.029321,
     "end_time": "2021-12-21T07:46:56.938295",
     "exception": false,
     "start_time": "2021-12-21T07:46:56.908974",
     "status": "completed"
    },
    "tags": []
   },
   "source": [
    "Use the next code cell to print the first five rows of the data."
   ]
  },
  {
   "cell_type": "code",
   "execution_count": 3,
   "id": "fabefd1a",
   "metadata": {
    "execution": {
     "iopub.execute_input": "2021-12-21T07:46:57.004064Z",
     "iopub.status.busy": "2021-12-21T07:46:57.003390Z",
     "iopub.status.idle": "2021-12-21T07:46:57.025509Z",
     "shell.execute_reply": "2021-12-21T07:46:57.026027Z",
     "shell.execute_reply.started": "2021-12-21T07:24:31.174995Z"
    },
    "papermill": {
     "duration": 0.059458,
     "end_time": "2021-12-21T07:46:57.026211",
     "exception": false,
     "start_time": "2021-12-21T07:46:56.966753",
     "status": "completed"
    },
    "tags": []
   },
   "outputs": [
    {
     "data": {
      "text/html": [
       "<div>\n",
       "<style scoped>\n",
       "    .dataframe tbody tr th:only-of-type {\n",
       "        vertical-align: middle;\n",
       "    }\n",
       "\n",
       "    .dataframe tbody tr th {\n",
       "        vertical-align: top;\n",
       "    }\n",
       "\n",
       "    .dataframe thead th {\n",
       "        text-align: right;\n",
       "    }\n",
       "</style>\n",
       "<table border=\"1\" class=\"dataframe\">\n",
       "  <thead>\n",
       "    <tr style=\"text-align: right;\">\n",
       "      <th></th>\n",
       "      <th>MSSubClass</th>\n",
       "      <th>LotFrontage</th>\n",
       "      <th>LotArea</th>\n",
       "      <th>OverallQual</th>\n",
       "      <th>OverallCond</th>\n",
       "      <th>YearBuilt</th>\n",
       "      <th>YearRemodAdd</th>\n",
       "      <th>MasVnrArea</th>\n",
       "      <th>BsmtFinSF1</th>\n",
       "      <th>BsmtFinSF2</th>\n",
       "      <th>...</th>\n",
       "      <th>GarageArea</th>\n",
       "      <th>WoodDeckSF</th>\n",
       "      <th>OpenPorchSF</th>\n",
       "      <th>EnclosedPorch</th>\n",
       "      <th>3SsnPorch</th>\n",
       "      <th>ScreenPorch</th>\n",
       "      <th>PoolArea</th>\n",
       "      <th>MiscVal</th>\n",
       "      <th>MoSold</th>\n",
       "      <th>YrSold</th>\n",
       "    </tr>\n",
       "    <tr>\n",
       "      <th>Id</th>\n",
       "      <th></th>\n",
       "      <th></th>\n",
       "      <th></th>\n",
       "      <th></th>\n",
       "      <th></th>\n",
       "      <th></th>\n",
       "      <th></th>\n",
       "      <th></th>\n",
       "      <th></th>\n",
       "      <th></th>\n",
       "      <th></th>\n",
       "      <th></th>\n",
       "      <th></th>\n",
       "      <th></th>\n",
       "      <th></th>\n",
       "      <th></th>\n",
       "      <th></th>\n",
       "      <th></th>\n",
       "      <th></th>\n",
       "      <th></th>\n",
       "      <th></th>\n",
       "    </tr>\n",
       "  </thead>\n",
       "  <tbody>\n",
       "    <tr>\n",
       "      <th>619</th>\n",
       "      <td>20</td>\n",
       "      <td>90.0</td>\n",
       "      <td>11694</td>\n",
       "      <td>9</td>\n",
       "      <td>5</td>\n",
       "      <td>2007</td>\n",
       "      <td>2007</td>\n",
       "      <td>452.0</td>\n",
       "      <td>48</td>\n",
       "      <td>0</td>\n",
       "      <td>...</td>\n",
       "      <td>774</td>\n",
       "      <td>0</td>\n",
       "      <td>108</td>\n",
       "      <td>0</td>\n",
       "      <td>0</td>\n",
       "      <td>260</td>\n",
       "      <td>0</td>\n",
       "      <td>0</td>\n",
       "      <td>7</td>\n",
       "      <td>2007</td>\n",
       "    </tr>\n",
       "    <tr>\n",
       "      <th>871</th>\n",
       "      <td>20</td>\n",
       "      <td>60.0</td>\n",
       "      <td>6600</td>\n",
       "      <td>5</td>\n",
       "      <td>5</td>\n",
       "      <td>1962</td>\n",
       "      <td>1962</td>\n",
       "      <td>0.0</td>\n",
       "      <td>0</td>\n",
       "      <td>0</td>\n",
       "      <td>...</td>\n",
       "      <td>308</td>\n",
       "      <td>0</td>\n",
       "      <td>0</td>\n",
       "      <td>0</td>\n",
       "      <td>0</td>\n",
       "      <td>0</td>\n",
       "      <td>0</td>\n",
       "      <td>0</td>\n",
       "      <td>8</td>\n",
       "      <td>2009</td>\n",
       "    </tr>\n",
       "    <tr>\n",
       "      <th>93</th>\n",
       "      <td>30</td>\n",
       "      <td>80.0</td>\n",
       "      <td>13360</td>\n",
       "      <td>5</td>\n",
       "      <td>7</td>\n",
       "      <td>1921</td>\n",
       "      <td>2006</td>\n",
       "      <td>0.0</td>\n",
       "      <td>713</td>\n",
       "      <td>0</td>\n",
       "      <td>...</td>\n",
       "      <td>432</td>\n",
       "      <td>0</td>\n",
       "      <td>0</td>\n",
       "      <td>44</td>\n",
       "      <td>0</td>\n",
       "      <td>0</td>\n",
       "      <td>0</td>\n",
       "      <td>0</td>\n",
       "      <td>8</td>\n",
       "      <td>2009</td>\n",
       "    </tr>\n",
       "    <tr>\n",
       "      <th>818</th>\n",
       "      <td>20</td>\n",
       "      <td>NaN</td>\n",
       "      <td>13265</td>\n",
       "      <td>8</td>\n",
       "      <td>5</td>\n",
       "      <td>2002</td>\n",
       "      <td>2002</td>\n",
       "      <td>148.0</td>\n",
       "      <td>1218</td>\n",
       "      <td>0</td>\n",
       "      <td>...</td>\n",
       "      <td>857</td>\n",
       "      <td>150</td>\n",
       "      <td>59</td>\n",
       "      <td>0</td>\n",
       "      <td>0</td>\n",
       "      <td>0</td>\n",
       "      <td>0</td>\n",
       "      <td>0</td>\n",
       "      <td>7</td>\n",
       "      <td>2008</td>\n",
       "    </tr>\n",
       "    <tr>\n",
       "      <th>303</th>\n",
       "      <td>20</td>\n",
       "      <td>118.0</td>\n",
       "      <td>13704</td>\n",
       "      <td>7</td>\n",
       "      <td>5</td>\n",
       "      <td>2001</td>\n",
       "      <td>2002</td>\n",
       "      <td>150.0</td>\n",
       "      <td>0</td>\n",
       "      <td>0</td>\n",
       "      <td>...</td>\n",
       "      <td>843</td>\n",
       "      <td>468</td>\n",
       "      <td>81</td>\n",
       "      <td>0</td>\n",
       "      <td>0</td>\n",
       "      <td>0</td>\n",
       "      <td>0</td>\n",
       "      <td>0</td>\n",
       "      <td>1</td>\n",
       "      <td>2006</td>\n",
       "    </tr>\n",
       "  </tbody>\n",
       "</table>\n",
       "<p>5 rows × 36 columns</p>\n",
       "</div>"
      ],
      "text/plain": [
       "     MSSubClass  LotFrontage  LotArea  OverallQual  OverallCond  YearBuilt  \\\n",
       "Id                                                                           \n",
       "619          20         90.0    11694            9            5       2007   \n",
       "871          20         60.0     6600            5            5       1962   \n",
       "93           30         80.0    13360            5            7       1921   \n",
       "818          20          NaN    13265            8            5       2002   \n",
       "303          20        118.0    13704            7            5       2001   \n",
       "\n",
       "     YearRemodAdd  MasVnrArea  BsmtFinSF1  BsmtFinSF2  ...  GarageArea  \\\n",
       "Id                                                     ...               \n",
       "619          2007       452.0          48           0  ...         774   \n",
       "871          1962         0.0           0           0  ...         308   \n",
       "93           2006         0.0         713           0  ...         432   \n",
       "818          2002       148.0        1218           0  ...         857   \n",
       "303          2002       150.0           0           0  ...         843   \n",
       "\n",
       "     WoodDeckSF  OpenPorchSF  EnclosedPorch  3SsnPorch  ScreenPorch  PoolArea  \\\n",
       "Id                                                                              \n",
       "619           0          108              0          0          260         0   \n",
       "871           0            0              0          0            0         0   \n",
       "93            0            0             44          0            0         0   \n",
       "818         150           59              0          0            0         0   \n",
       "303         468           81              0          0            0         0   \n",
       "\n",
       "     MiscVal  MoSold  YrSold  \n",
       "Id                            \n",
       "619        0       7    2007  \n",
       "871        0       8    2009  \n",
       "93         0       8    2009  \n",
       "818        0       7    2008  \n",
       "303        0       1    2006  \n",
       "\n",
       "[5 rows x 36 columns]"
      ]
     },
     "execution_count": 3,
     "metadata": {},
     "output_type": "execute_result"
    }
   ],
   "source": [
    "X_train.head()"
   ]
  },
  {
   "cell_type": "markdown",
   "id": "60a3de3e",
   "metadata": {
    "papermill": {
     "duration": 0.028537,
     "end_time": "2021-12-21T07:46:57.084379",
     "exception": false,
     "start_time": "2021-12-21T07:46:57.055842",
     "status": "completed"
    },
    "tags": []
   },
   "source": [
    "You can already see a few missing values in the first several rows.  In the next step, you'll obtain a more comprehensive understanding of the missing values in the dataset.\n",
    "\n",
    "# Step 1: Preliminary investigation\n",
    "\n",
    "Run the code cell below without changes."
   ]
  },
  {
   "cell_type": "code",
   "execution_count": 4,
   "id": "54d1e4ac",
   "metadata": {
    "execution": {
     "iopub.execute_input": "2021-12-21T07:46:57.146637Z",
     "iopub.status.busy": "2021-12-21T07:46:57.145983Z",
     "iopub.status.idle": "2021-12-21T07:46:57.154453Z",
     "shell.execute_reply": "2021-12-21T07:46:57.153818Z",
     "shell.execute_reply.started": "2021-12-21T07:24:35.735186Z"
    },
    "papermill": {
     "duration": 0.040416,
     "end_time": "2021-12-21T07:46:57.154612",
     "exception": false,
     "start_time": "2021-12-21T07:46:57.114196",
     "status": "completed"
    },
    "tags": []
   },
   "outputs": [
    {
     "name": "stdout",
     "output_type": "stream",
     "text": [
      "(1168, 36)\n",
      "LotFrontage    212\n",
      "MasVnrArea       6\n",
      "GarageYrBlt     58\n",
      "dtype: int64\n"
     ]
    }
   ],
   "source": [
    "# Shape of training data (num_rows, num_columns)\n",
    "print(X_train.shape)\n",
    "\n",
    "# Number of missing values in each column of training data\n",
    "missing_val_count_by_column = (X_train.isnull().sum())\n",
    "print(missing_val_count_by_column[missing_val_count_by_column > 0])"
   ]
  },
  {
   "cell_type": "markdown",
   "id": "3728bc38",
   "metadata": {
    "papermill": {
     "duration": 0.028807,
     "end_time": "2021-12-21T07:46:57.212928",
     "exception": false,
     "start_time": "2021-12-21T07:46:57.184121",
     "status": "completed"
    },
    "tags": []
   },
   "source": [
    "### Part A\n",
    "\n",
    "Use the above output to answer the questions below."
   ]
  },
  {
   "cell_type": "code",
   "execution_count": 5,
   "id": "7b47449c",
   "metadata": {
    "execution": {
     "iopub.execute_input": "2021-12-21T07:46:57.274841Z",
     "iopub.status.busy": "2021-12-21T07:46:57.274056Z",
     "iopub.status.idle": "2021-12-21T07:46:57.283168Z",
     "shell.execute_reply": "2021-12-21T07:46:57.282654Z",
     "shell.execute_reply.started": "2021-12-21T07:28:23.102394Z"
    },
    "papermill": {
     "duration": 0.041312,
     "end_time": "2021-12-21T07:46:57.283312",
     "exception": false,
     "start_time": "2021-12-21T07:46:57.242000",
     "status": "completed"
    },
    "tags": []
   },
   "outputs": [
    {
     "data": {
      "application/javascript": [
       "parent.postMessage({\"jupyterEvent\": \"custom.exercise_interaction\", \"data\": {\"outcomeType\": 1, \"valueTowardsCompletion\": 1.0, \"interactionType\": 1, \"questionType\": 1, \"questionId\": \"1.1_InvestigateEquality\", \"learnToolsVersion\": \"0.3.4\", \"failureMessage\": \"\", \"exceptionClass\": \"\", \"trace\": \"\"}}, \"*\")"
      ],
      "text/plain": [
       "<IPython.core.display.Javascript object>"
      ]
     },
     "metadata": {},
     "output_type": "display_data"
    },
    {
     "data": {
      "text/markdown": [
       "<span style=\"color:#33cc33\">Correct</span>"
      ],
      "text/plain": [
       "Correct"
      ]
     },
     "metadata": {},
     "output_type": "display_data"
    }
   ],
   "source": [
    "# Fill in the line below: How many rows are in the training data?\n",
    "num_rows = X_train.shape[0] #1168\n",
    "\n",
    "# Fill in the line below: How many columns in the training data\n",
    "# have missing values?\n",
    "num_cols_with_missing = len(missing_val_count_by_column[missing_val_count_by_column > 0]) #3\n",
    "\n",
    "# Fill in the line below: How many missing entries are contained in \n",
    "# all of the training data?\n",
    "tot_missing = missing_val_count_by_column.sum() #212+6+58\n",
    "\n",
    "# Check your answers\n",
    "step_1.a.check()"
   ]
  },
  {
   "cell_type": "code",
   "execution_count": 6,
   "id": "5392c2d9",
   "metadata": {
    "execution": {
     "iopub.execute_input": "2021-12-21T07:46:57.348097Z",
     "iopub.status.busy": "2021-12-21T07:46:57.347110Z",
     "iopub.status.idle": "2021-12-21T07:46:57.350234Z",
     "shell.execute_reply": "2021-12-21T07:46:57.350823Z",
     "shell.execute_reply.started": "2021-12-21T07:28:24.821543Z"
    },
    "papermill": {
     "duration": 0.037272,
     "end_time": "2021-12-21T07:46:57.350988",
     "exception": false,
     "start_time": "2021-12-21T07:46:57.313716",
     "status": "completed"
    },
    "tags": []
   },
   "outputs": [],
   "source": [
    "# Lines below will give you a hint or solution code\n",
    "#step_1.a.hint()\n",
    "#step_1.a.solution()"
   ]
  },
  {
   "cell_type": "markdown",
   "id": "f4873041",
   "metadata": {
    "papermill": {
     "duration": 0.030376,
     "end_time": "2021-12-21T07:46:57.411415",
     "exception": false,
     "start_time": "2021-12-21T07:46:57.381039",
     "status": "completed"
    },
    "tags": []
   },
   "source": [
    "### Part B\n",
    "Considering your answers above, what do you think is likely the best approach to dealing with the missing values?"
   ]
  },
  {
   "cell_type": "code",
   "execution_count": 7,
   "id": "78c1f487",
   "metadata": {
    "execution": {
     "iopub.execute_input": "2021-12-21T07:46:57.475285Z",
     "iopub.status.busy": "2021-12-21T07:46:57.474314Z",
     "iopub.status.idle": "2021-12-21T07:46:57.481230Z",
     "shell.execute_reply": "2021-12-21T07:46:57.481895Z",
     "shell.execute_reply.started": "2021-12-21T07:28:29.570686Z"
    },
    "papermill": {
     "duration": 0.040744,
     "end_time": "2021-12-21T07:46:57.482069",
     "exception": false,
     "start_time": "2021-12-21T07:46:57.441325",
     "status": "completed"
    },
    "tags": []
   },
   "outputs": [
    {
     "data": {
      "application/javascript": [
       "parent.postMessage({\"jupyterEvent\": \"custom.exercise_interaction\", \"data\": {\"outcomeType\": 1, \"valueTowardsCompletion\": 1.0, \"interactionType\": 1, \"questionType\": 4, \"questionId\": \"1.2_InvestigateThought\", \"learnToolsVersion\": \"0.3.4\", \"failureMessage\": \"\", \"exceptionClass\": \"\", \"trace\": \"\"}}, \"*\")"
      ],
      "text/plain": [
       "<IPython.core.display.Javascript object>"
      ]
     },
     "metadata": {},
     "output_type": "display_data"
    },
    {
     "data": {
      "text/markdown": [
       "<span style=\"color:#33cc33\">Correct:</span> \n",
       "\n",
       "Since there are relatively few missing entries in the data (the column with the greatest percentage of missing values is missing less than 20% of its entries), we can expect that dropping columns is unlikely to yield good results.  This is because we'd be throwing away a lot of valuable data, and so imputation will likely perform better."
      ],
      "text/plain": [
       "Correct: \n",
       "\n",
       "Since there are relatively few missing entries in the data (the column with the greatest percentage of missing values is missing less than 20% of its entries), we can expect that dropping columns is unlikely to yield good results.  This is because we'd be throwing away a lot of valuable data, and so imputation will likely perform better."
      ]
     },
     "metadata": {},
     "output_type": "display_data"
    }
   ],
   "source": [
    "# Check your answer (Run this code cell to receive credit!)\n",
    "step_1.b.check()"
   ]
  },
  {
   "cell_type": "code",
   "execution_count": 8,
   "id": "fd3293a1",
   "metadata": {
    "execution": {
     "iopub.execute_input": "2021-12-21T07:46:57.547707Z",
     "iopub.status.busy": "2021-12-21T07:46:57.547013Z",
     "iopub.status.idle": "2021-12-21T07:46:57.549526Z",
     "shell.execute_reply": "2021-12-21T07:46:57.549996Z",
     "shell.execute_reply.started": "2021-12-21T07:29:03.531770Z"
    },
    "papermill": {
     "duration": 0.037153,
     "end_time": "2021-12-21T07:46:57.550181",
     "exception": false,
     "start_time": "2021-12-21T07:46:57.513028",
     "status": "completed"
    },
    "tags": []
   },
   "outputs": [],
   "source": [
    "#step_1.b.hint()"
   ]
  },
  {
   "cell_type": "markdown",
   "id": "77253f93",
   "metadata": {
    "papermill": {
     "duration": 0.030925,
     "end_time": "2021-12-21T07:46:57.612254",
     "exception": false,
     "start_time": "2021-12-21T07:46:57.581329",
     "status": "completed"
    },
    "tags": []
   },
   "source": [
    "To compare different approaches to dealing with missing values, you'll use the same `score_dataset()` function from the tutorial.  This function reports the [mean absolute error](https://en.wikipedia.org/wiki/Mean_absolute_error) (MAE) from a random forest model."
   ]
  },
  {
   "cell_type": "code",
   "execution_count": 9,
   "id": "7a9d7629",
   "metadata": {
    "execution": {
     "iopub.execute_input": "2021-12-21T07:46:57.680030Z",
     "iopub.status.busy": "2021-12-21T07:46:57.679364Z",
     "iopub.status.idle": "2021-12-21T07:46:57.888332Z",
     "shell.execute_reply": "2021-12-21T07:46:57.887685Z",
     "shell.execute_reply.started": "2021-12-21T07:29:09.012609Z"
    },
    "papermill": {
     "duration": 0.245226,
     "end_time": "2021-12-21T07:46:57.888476",
     "exception": false,
     "start_time": "2021-12-21T07:46:57.643250",
     "status": "completed"
    },
    "tags": []
   },
   "outputs": [],
   "source": [
    "from sklearn.ensemble import RandomForestRegressor\n",
    "from sklearn.metrics import mean_absolute_error\n",
    "\n",
    "# Function for comparing different approaches\n",
    "def score_dataset(X_train, X_valid, y_train, y_valid):\n",
    "    model = RandomForestRegressor(n_estimators=100, random_state=0)\n",
    "    model.fit(X_train, y_train)\n",
    "    preds = model.predict(X_valid)\n",
    "    return mean_absolute_error(y_valid, preds)"
   ]
  },
  {
   "cell_type": "markdown",
   "id": "abe02a46",
   "metadata": {
    "papermill": {
     "duration": 0.031132,
     "end_time": "2021-12-21T07:46:57.951089",
     "exception": false,
     "start_time": "2021-12-21T07:46:57.919957",
     "status": "completed"
    },
    "tags": []
   },
   "source": [
    "# Step 2: Drop columns with missing values\n",
    "\n",
    "In this step, you'll preprocess the data in `X_train` and `X_valid` to remove columns with missing values.  Set the preprocessed DataFrames to `reduced_X_train` and `reduced_X_valid`, respectively.  "
   ]
  },
  {
   "cell_type": "code",
   "execution_count": 10,
   "id": "c7964b8f",
   "metadata": {
    "execution": {
     "iopub.execute_input": "2021-12-21T07:46:58.016819Z",
     "iopub.status.busy": "2021-12-21T07:46:58.016101Z",
     "iopub.status.idle": "2021-12-21T07:46:58.041436Z",
     "shell.execute_reply": "2021-12-21T07:46:58.041948Z",
     "shell.execute_reply.started": "2021-12-21T07:30:46.381226Z"
    },
    "papermill": {
     "duration": 0.060086,
     "end_time": "2021-12-21T07:46:58.042126",
     "exception": false,
     "start_time": "2021-12-21T07:46:57.982040",
     "status": "completed"
    },
    "tags": []
   },
   "outputs": [
    {
     "data": {
      "application/javascript": [
       "parent.postMessage({\"jupyterEvent\": \"custom.exercise_interaction\", \"data\": {\"outcomeType\": 1, \"valueTowardsCompletion\": 1.0, \"interactionType\": 1, \"questionType\": 2, \"questionId\": \"2_DropMissing\", \"learnToolsVersion\": \"0.3.4\", \"failureMessage\": \"\", \"exceptionClass\": \"\", \"trace\": \"\"}}, \"*\")"
      ],
      "text/plain": [
       "<IPython.core.display.Javascript object>"
      ]
     },
     "metadata": {},
     "output_type": "display_data"
    },
    {
     "data": {
      "text/markdown": [
       "<span style=\"color:#33cc33\">Correct</span>"
      ],
      "text/plain": [
       "Correct"
      ]
     },
     "metadata": {},
     "output_type": "display_data"
    }
   ],
   "source": [
    "# Fill in the line below: get names of columns with missing values\n",
    "# Your code here\n",
    "cols_with_missing = [col for col in X_train.columns if X_train[col].isnull().any()] \n",
    "\n",
    "# Fill in the lines below: drop columns in training and validation data\n",
    "reduced_X_train = X_train.drop(cols_with_missing, axis=1)\n",
    "reduced_X_valid = X_valid.drop(cols_with_missing, axis=1)\n",
    "\n",
    "# Check your answers\n",
    "step_2.check()"
   ]
  },
  {
   "cell_type": "code",
   "execution_count": 11,
   "id": "c829d5b3",
   "metadata": {
    "execution": {
     "iopub.execute_input": "2021-12-21T07:46:58.109908Z",
     "iopub.status.busy": "2021-12-21T07:46:58.109226Z",
     "iopub.status.idle": "2021-12-21T07:46:58.112424Z",
     "shell.execute_reply": "2021-12-21T07:46:58.111896Z",
     "shell.execute_reply.started": "2021-12-21T07:30:49.632449Z"
    },
    "papermill": {
     "duration": 0.038176,
     "end_time": "2021-12-21T07:46:58.112563",
     "exception": false,
     "start_time": "2021-12-21T07:46:58.074387",
     "status": "completed"
    },
    "tags": []
   },
   "outputs": [],
   "source": [
    "# Lines below will give you a hint or solution code\n",
    "#step_2.hint()\n",
    "#step_2.solution()"
   ]
  },
  {
   "cell_type": "markdown",
   "id": "1109dfaa",
   "metadata": {
    "papermill": {
     "duration": 0.031667,
     "end_time": "2021-12-21T07:46:58.176373",
     "exception": false,
     "start_time": "2021-12-21T07:46:58.144706",
     "status": "completed"
    },
    "tags": []
   },
   "source": [
    "Run the next code cell without changes to obtain the MAE for this approach."
   ]
  },
  {
   "cell_type": "code",
   "execution_count": 12,
   "id": "0b7abf94",
   "metadata": {
    "execution": {
     "iopub.execute_input": "2021-12-21T07:46:58.248866Z",
     "iopub.status.busy": "2021-12-21T07:46:58.247871Z",
     "iopub.status.idle": "2021-12-21T07:46:59.468610Z",
     "shell.execute_reply": "2021-12-21T07:46:59.467970Z",
     "shell.execute_reply.started": "2021-12-21T07:30:52.267235Z"
    },
    "papermill": {
     "duration": 1.260266,
     "end_time": "2021-12-21T07:46:59.468765",
     "exception": false,
     "start_time": "2021-12-21T07:46:58.208499",
     "status": "completed"
    },
    "tags": []
   },
   "outputs": [
    {
     "name": "stdout",
     "output_type": "stream",
     "text": [
      "MAE (Drop columns with missing values):\n",
      "17837.82570776256\n"
     ]
    }
   ],
   "source": [
    "print(\"MAE (Drop columns with missing values):\")\n",
    "print(score_dataset(reduced_X_train, reduced_X_valid, y_train, y_valid))"
   ]
  },
  {
   "cell_type": "markdown",
   "id": "80ebdddd",
   "metadata": {
    "papermill": {
     "duration": 0.032588,
     "end_time": "2021-12-21T07:46:59.533954",
     "exception": false,
     "start_time": "2021-12-21T07:46:59.501366",
     "status": "completed"
    },
    "tags": []
   },
   "source": [
    "# Step 3: Imputation\n",
    "\n",
    "### Part A\n",
    "\n",
    "Use the next code cell to impute missing values with the mean value along each column.  Set the preprocessed DataFrames to `imputed_X_train` and `imputed_X_valid`.  Make sure that the column names match those in `X_train` and `X_valid`."
   ]
  },
  {
   "cell_type": "code",
   "execution_count": 13,
   "id": "5e12bef6",
   "metadata": {
    "execution": {
     "iopub.execute_input": "2021-12-21T07:46:59.602424Z",
     "iopub.status.busy": "2021-12-21T07:46:59.601806Z",
     "iopub.status.idle": "2021-12-21T07:46:59.635172Z",
     "shell.execute_reply": "2021-12-21T07:46:59.635654Z",
     "shell.execute_reply.started": "2021-12-21T07:37:44.832349Z"
    },
    "papermill": {
     "duration": 0.068912,
     "end_time": "2021-12-21T07:46:59.635835",
     "exception": false,
     "start_time": "2021-12-21T07:46:59.566923",
     "status": "completed"
    },
    "tags": []
   },
   "outputs": [
    {
     "data": {
      "application/javascript": [
       "parent.postMessage({\"jupyterEvent\": \"custom.exercise_interaction\", \"data\": {\"outcomeType\": 1, \"valueTowardsCompletion\": 1.0, \"interactionType\": 1, \"questionType\": 2, \"questionId\": \"3.1_ImputeCode\", \"learnToolsVersion\": \"0.3.4\", \"failureMessage\": \"\", \"exceptionClass\": \"\", \"trace\": \"\"}}, \"*\")"
      ],
      "text/plain": [
       "<IPython.core.display.Javascript object>"
      ]
     },
     "metadata": {},
     "output_type": "display_data"
    },
    {
     "data": {
      "text/markdown": [
       "<span style=\"color:#33cc33\">Correct</span>"
      ],
      "text/plain": [
       "Correct"
      ]
     },
     "metadata": {},
     "output_type": "display_data"
    }
   ],
   "source": [
    "from sklearn.impute import SimpleImputer\n",
    "\n",
    "# Fill in the lines below: imputation\n",
    "my_imputer = SimpleImputer() # Your code here\n",
    "imputed_X_train = pd.DataFrame(my_imputer.fit_transform(X_train))\n",
    "imputed_X_valid = pd.DataFrame(my_imputer.transform(X_valid))\n",
    "\n",
    "# Fill in the lines below: imputation removed column names; put them back\n",
    "imputed_X_train.columns = X_train.columns\n",
    "imputed_X_valid.columns = X_valid.columns\n",
    "\n",
    "# Check your answers\n",
    "step_3.a.check()"
   ]
  },
  {
   "cell_type": "code",
   "execution_count": 14,
   "id": "d58399be",
   "metadata": {
    "execution": {
     "iopub.execute_input": "2021-12-21T07:46:59.707313Z",
     "iopub.status.busy": "2021-12-21T07:46:59.706712Z",
     "iopub.status.idle": "2021-12-21T07:46:59.709199Z",
     "shell.execute_reply": "2021-12-21T07:46:59.709657Z",
     "shell.execute_reply.started": "2021-12-21T07:37:47.864666Z"
    },
    "papermill": {
     "duration": 0.039283,
     "end_time": "2021-12-21T07:46:59.709825",
     "exception": false,
     "start_time": "2021-12-21T07:46:59.670542",
     "status": "completed"
    },
    "tags": []
   },
   "outputs": [],
   "source": [
    "# Lines below will give you a hint or solution code\n",
    "#step_3.a.hint()\n",
    "#step_3.a.solution()"
   ]
  },
  {
   "cell_type": "markdown",
   "id": "8b061e31",
   "metadata": {
    "papermill": {
     "duration": 0.033073,
     "end_time": "2021-12-21T07:46:59.776816",
     "exception": false,
     "start_time": "2021-12-21T07:46:59.743743",
     "status": "completed"
    },
    "tags": []
   },
   "source": [
    "Run the next code cell without changes to obtain the MAE for this approach."
   ]
  },
  {
   "cell_type": "code",
   "execution_count": 15,
   "id": "ef2099ba",
   "metadata": {
    "execution": {
     "iopub.execute_input": "2021-12-21T07:46:59.848937Z",
     "iopub.status.busy": "2021-12-21T07:46:59.847942Z",
     "iopub.status.idle": "2021-12-21T07:47:01.207704Z",
     "shell.execute_reply": "2021-12-21T07:47:01.207127Z",
     "shell.execute_reply.started": "2021-12-21T07:37:48.681413Z"
    },
    "papermill": {
     "duration": 1.397503,
     "end_time": "2021-12-21T07:47:01.207848",
     "exception": false,
     "start_time": "2021-12-21T07:46:59.810345",
     "status": "completed"
    },
    "tags": []
   },
   "outputs": [
    {
     "name": "stdout",
     "output_type": "stream",
     "text": [
      "MAE (Imputation):\n",
      "18062.894611872147\n"
     ]
    }
   ],
   "source": [
    "print(\"MAE (Imputation):\")\n",
    "print(score_dataset(imputed_X_train, imputed_X_valid, y_train, y_valid))"
   ]
  },
  {
   "cell_type": "markdown",
   "id": "43f2afb5",
   "metadata": {
    "papermill": {
     "duration": 0.033997,
     "end_time": "2021-12-21T07:47:01.276232",
     "exception": false,
     "start_time": "2021-12-21T07:47:01.242235",
     "status": "completed"
    },
    "tags": []
   },
   "source": [
    "### Part B\n",
    "\n",
    "Compare the MAE from each approach.  Does anything surprise you about the results?  Why do you think one approach performed better than the other?"
   ]
  },
  {
   "cell_type": "code",
   "execution_count": 16,
   "id": "12fa7007",
   "metadata": {
    "execution": {
     "iopub.execute_input": "2021-12-21T07:47:01.348425Z",
     "iopub.status.busy": "2021-12-21T07:47:01.347737Z",
     "iopub.status.idle": "2021-12-21T07:47:01.353448Z",
     "shell.execute_reply": "2021-12-21T07:47:01.353979Z",
     "shell.execute_reply.started": "2021-12-21T07:37:52.251165Z"
    },
    "papermill": {
     "duration": 0.043753,
     "end_time": "2021-12-21T07:47:01.354180",
     "exception": false,
     "start_time": "2021-12-21T07:47:01.310427",
     "status": "completed"
    },
    "tags": []
   },
   "outputs": [
    {
     "data": {
      "application/javascript": [
       "parent.postMessage({\"jupyterEvent\": \"custom.exercise_interaction\", \"data\": {\"outcomeType\": 1, \"valueTowardsCompletion\": 1.0, \"interactionType\": 1, \"questionType\": 4, \"questionId\": \"3.2_ImputeThought\", \"learnToolsVersion\": \"0.3.4\", \"failureMessage\": \"\", \"exceptionClass\": \"\", \"trace\": \"\"}}, \"*\")"
      ],
      "text/plain": [
       "<IPython.core.display.Javascript object>"
      ]
     },
     "metadata": {},
     "output_type": "display_data"
    },
    {
     "data": {
      "text/markdown": [
       "<span style=\"color:#33cc33\">Correct:</span> \n",
       "\n",
       "Given that thre are so few missing values in the dataset, we'd expect imputation to perform better than dropping columns entirely.  However, we see that dropping columns performs slightly better!  While this can probably partially be attributed to noise in the dataset, another potential explanation is that the imputation method is not a great match to this dataset.  That is, maybe instead of filling in the mean value, it makes more sense to set every missing value to a value of 0, to fill in the most frequently encountered value, or to use some other method.  For instance, consider the `GarageYrBlt` column (which indicates the year that the garage was built).  It's likely that in some cases, a missing value could indicate a house that does not have a garage.  Does it make more sense to fill in the median value along each column in this case?  Or could we get better results by filling in the minimum value along each column?  It's not quite clear what's best in this case, but perhaps we can rule out some options immediately - for instance, setting missing values in this column to 0 is likely to yield horrible results!"
      ],
      "text/plain": [
       "Correct: \n",
       "\n",
       "Given that thre are so few missing values in the dataset, we'd expect imputation to perform better than dropping columns entirely.  However, we see that dropping columns performs slightly better!  While this can probably partially be attributed to noise in the dataset, another potential explanation is that the imputation method is not a great match to this dataset.  That is, maybe instead of filling in the mean value, it makes more sense to set every missing value to a value of 0, to fill in the most frequently encountered value, or to use some other method.  For instance, consider the `GarageYrBlt` column (which indicates the year that the garage was built).  It's likely that in some cases, a missing value could indicate a house that does not have a garage.  Does it make more sense to fill in the median value along each column in this case?  Or could we get better results by filling in the minimum value along each column?  It's not quite clear what's best in this case, but perhaps we can rule out some options immediately - for instance, setting missing values in this column to 0 is likely to yield horrible results!"
      ]
     },
     "metadata": {},
     "output_type": "display_data"
    }
   ],
   "source": [
    "# Check your answer (Run this code cell to receive credit!)\n",
    "step_3.b.check()"
   ]
  },
  {
   "cell_type": "code",
   "execution_count": 17,
   "id": "6dc66e3d",
   "metadata": {
    "execution": {
     "iopub.execute_input": "2021-12-21T07:47:01.428099Z",
     "iopub.status.busy": "2021-12-21T07:47:01.427469Z",
     "iopub.status.idle": "2021-12-21T07:47:01.430483Z",
     "shell.execute_reply": "2021-12-21T07:47:01.431011Z",
     "shell.execute_reply.started": "2021-12-21T07:38:49.745472Z"
    },
    "papermill": {
     "duration": 0.041335,
     "end_time": "2021-12-21T07:47:01.431168",
     "exception": false,
     "start_time": "2021-12-21T07:47:01.389833",
     "status": "completed"
    },
    "tags": []
   },
   "outputs": [],
   "source": [
    "#step_3.b.hint()"
   ]
  },
  {
   "cell_type": "markdown",
   "id": "d69d1541",
   "metadata": {
    "papermill": {
     "duration": 0.034676,
     "end_time": "2021-12-21T07:47:01.500814",
     "exception": false,
     "start_time": "2021-12-21T07:47:01.466138",
     "status": "completed"
    },
    "tags": []
   },
   "source": [
    "# Step 4: Generate test predictions\n",
    "\n",
    "In this final step, you'll use any approach of your choosing to deal with missing values.  Once you've preprocessed the training and validation features, you'll train and evaluate a random forest model.  Then, you'll preprocess the test data before generating predictions that can be submitted to the competition!\n",
    "\n",
    "### Part A\n",
    "\n",
    "Use the next code cell to preprocess the training and validation data.  Set the preprocessed DataFrames to `final_X_train` and `final_X_valid`.  **You can use any approach of your choosing here!**  in order for this step to be marked as correct, you need only ensure:\n",
    "- the preprocessed DataFrames have the same number of columns,\n",
    "- the preprocessed DataFrames have no missing values, \n",
    "- `final_X_train` and `y_train` have the same number of rows, and\n",
    "- `final_X_valid` and `y_valid` have the same number of rows."
   ]
  },
  {
   "cell_type": "code",
   "execution_count": 18,
   "id": "37caaf94",
   "metadata": {
    "execution": {
     "iopub.execute_input": "2021-12-21T07:47:01.573832Z",
     "iopub.status.busy": "2021-12-21T07:47:01.573167Z",
     "iopub.status.idle": "2021-12-21T07:47:01.602060Z",
     "shell.execute_reply": "2021-12-21T07:47:01.602618Z",
     "shell.execute_reply.started": "2021-12-21T07:45:03.020387Z"
    },
    "papermill": {
     "duration": 0.06707,
     "end_time": "2021-12-21T07:47:01.602804",
     "exception": false,
     "start_time": "2021-12-21T07:47:01.535734",
     "status": "completed"
    },
    "tags": []
   },
   "outputs": [
    {
     "data": {
      "application/javascript": [
       "parent.postMessage({\"jupyterEvent\": \"custom.exercise_interaction\", \"data\": {\"outcomeType\": 1, \"valueTowardsCompletion\": 1.0, \"interactionType\": 1, \"questionType\": 2, \"questionId\": \"4.1_PredsCodeA\", \"learnToolsVersion\": \"0.3.4\", \"failureMessage\": \"\", \"exceptionClass\": \"\", \"trace\": \"\"}}, \"*\")"
      ],
      "text/plain": [
       "<IPython.core.display.Javascript object>"
      ]
     },
     "metadata": {},
     "output_type": "display_data"
    },
    {
     "data": {
      "text/markdown": [
       "<span style=\"color:#33cc33\">Correct</span>"
      ],
      "text/plain": [
       "Correct"
      ]
     },
     "metadata": {},
     "output_type": "display_data"
    }
   ],
   "source": [
    "# Preprocessed training and validation features\n",
    "final_imputer = SimpleImputer(strategy='median')\n",
    "final_X_train = pd.DataFrame(final_imputer.fit_transform(X_train))\n",
    "final_X_valid = pd.DataFrame(final_imputer.transform(X_valid))\n",
    "\n",
    "# Imputation removed column names; put them back\n",
    "final_X_train.columns = X_train.columns\n",
    "final_X_valid.columns = X_valid.columns\n",
    "\n",
    "# Check your answers\n",
    "step_4.a.check()"
   ]
  },
  {
   "cell_type": "code",
   "execution_count": 19,
   "id": "2f6950c9",
   "metadata": {
    "execution": {
     "iopub.execute_input": "2021-12-21T07:47:01.678619Z",
     "iopub.status.busy": "2021-12-21T07:47:01.677936Z",
     "iopub.status.idle": "2021-12-21T07:47:01.680538Z",
     "shell.execute_reply": "2021-12-21T07:47:01.681104Z",
     "shell.execute_reply.started": "2021-12-21T07:45:03.848070Z"
    },
    "papermill": {
     "duration": 0.042227,
     "end_time": "2021-12-21T07:47:01.681271",
     "exception": false,
     "start_time": "2021-12-21T07:47:01.639044",
     "status": "completed"
    },
    "tags": []
   },
   "outputs": [],
   "source": [
    "# Lines below will give you a hint or solution code\n",
    "#step_4.a.hint()\n",
    "#step_4.a.solution()"
   ]
  },
  {
   "cell_type": "markdown",
   "id": "31bce8fb",
   "metadata": {
    "papermill": {
     "duration": 0.03793,
     "end_time": "2021-12-21T07:47:01.755875",
     "exception": false,
     "start_time": "2021-12-21T07:47:01.717945",
     "status": "completed"
    },
    "tags": []
   },
   "source": [
    "Run the next code cell to train and evaluate a random forest model.  (*Note that we don't use the `score_dataset()` function above, because we will soon use the trained model to generate test predictions!*)"
   ]
  },
  {
   "cell_type": "code",
   "execution_count": 20,
   "id": "cc10ecc2",
   "metadata": {
    "execution": {
     "iopub.execute_input": "2021-12-21T07:47:01.833849Z",
     "iopub.status.busy": "2021-12-21T07:47:01.832879Z",
     "iopub.status.idle": "2021-12-21T07:47:03.212218Z",
     "shell.execute_reply": "2021-12-21T07:47:03.212947Z",
     "shell.execute_reply.started": "2021-12-21T07:45:05.969835Z"
    },
    "papermill": {
     "duration": 1.419277,
     "end_time": "2021-12-21T07:47:03.213134",
     "exception": false,
     "start_time": "2021-12-21T07:47:01.793857",
     "status": "completed"
    },
    "tags": []
   },
   "outputs": [
    {
     "name": "stdout",
     "output_type": "stream",
     "text": [
      "MAE (Your approach):\n",
      "17791.59899543379\n"
     ]
    }
   ],
   "source": [
    "# Define and fit model\n",
    "model = RandomForestRegressor(n_estimators=100, random_state=0)\n",
    "model.fit(final_X_train, y_train)\n",
    "\n",
    "# Get validation predictions and MAE\n",
    "preds_valid = model.predict(final_X_valid)\n",
    "print(\"MAE (Your approach):\")\n",
    "print(mean_absolute_error(y_valid, preds_valid))"
   ]
  },
  {
   "cell_type": "markdown",
   "id": "866decda",
   "metadata": {
    "papermill": {
     "duration": 0.036302,
     "end_time": "2021-12-21T07:47:03.285827",
     "exception": false,
     "start_time": "2021-12-21T07:47:03.249525",
     "status": "completed"
    },
    "tags": []
   },
   "source": [
    "### Part B\n",
    "\n",
    "Use the next code cell to preprocess your test data.  Make sure that you use a method that agrees with how you preprocessed the training and validation data, and set the preprocessed test features to `final_X_test`.\n",
    "\n",
    "Then, use the preprocessed test features and the trained model to generate test predictions in `preds_test`.\n",
    "\n",
    "In order for this step to be marked correct, you need only ensure:\n",
    "- the preprocessed test DataFrame has no missing values, and\n",
    "- `final_X_test` has the same number of rows as `X_test`."
   ]
  },
  {
   "cell_type": "code",
   "execution_count": 21,
   "id": "2f5981ce",
   "metadata": {
    "execution": {
     "iopub.execute_input": "2021-12-21T07:47:03.369910Z",
     "iopub.status.busy": "2021-12-21T07:47:03.369252Z",
     "iopub.status.idle": "2021-12-21T07:47:03.413491Z",
     "shell.execute_reply": "2021-12-21T07:47:03.414033Z",
     "shell.execute_reply.started": "2021-12-21T07:46:12.515049Z"
    },
    "papermill": {
     "duration": 0.091315,
     "end_time": "2021-12-21T07:47:03.414223",
     "exception": false,
     "start_time": "2021-12-21T07:47:03.322908",
     "status": "completed"
    },
    "tags": []
   },
   "outputs": [
    {
     "data": {
      "application/javascript": [
       "parent.postMessage({\"jupyterEvent\": \"custom.exercise_interaction\", \"data\": {\"outcomeType\": 1, \"valueTowardsCompletion\": 1.0, \"interactionType\": 1, \"questionType\": 2, \"questionId\": \"4.2_PredsCodeB\", \"learnToolsVersion\": \"0.3.4\", \"failureMessage\": \"\", \"exceptionClass\": \"\", \"trace\": \"\"}}, \"*\")"
      ],
      "text/plain": [
       "<IPython.core.display.Javascript object>"
      ]
     },
     "metadata": {},
     "output_type": "display_data"
    },
    {
     "data": {
      "text/markdown": [
       "<span style=\"color:#33cc33\">Correct</span>"
      ],
      "text/plain": [
       "Correct"
      ]
     },
     "metadata": {},
     "output_type": "display_data"
    }
   ],
   "source": [
    "# Fill in the line below: preprocess test data\n",
    "final_X_test = pd.DataFrame(final_imputer.transform(X_test))\n",
    "\n",
    "# Fill in the line below: get test predictions\n",
    "preds_test = model.predict(final_X_test)\n",
    "\n",
    "# Check your answers\n",
    "step_4.b.check()"
   ]
  },
  {
   "cell_type": "code",
   "execution_count": 22,
   "id": "57598eed",
   "metadata": {
    "execution": {
     "iopub.execute_input": "2021-12-21T07:47:03.494984Z",
     "iopub.status.busy": "2021-12-21T07:47:03.494294Z",
     "iopub.status.idle": "2021-12-21T07:47:03.497322Z",
     "shell.execute_reply": "2021-12-21T07:47:03.496808Z",
     "shell.execute_reply.started": "2021-12-21T07:46:16.177470Z"
    },
    "papermill": {
     "duration": 0.045155,
     "end_time": "2021-12-21T07:47:03.497463",
     "exception": false,
     "start_time": "2021-12-21T07:47:03.452308",
     "status": "completed"
    },
    "tags": []
   },
   "outputs": [],
   "source": [
    "# Lines below will give you a hint or solution code\n",
    "#step_4.b.hint()\n",
    "#step_4.b.solution()"
   ]
  },
  {
   "cell_type": "markdown",
   "id": "8d2ae471",
   "metadata": {
    "papermill": {
     "duration": 0.036831,
     "end_time": "2021-12-21T07:47:03.572017",
     "exception": false,
     "start_time": "2021-12-21T07:47:03.535186",
     "status": "completed"
    },
    "tags": []
   },
   "source": [
    "Run the next code cell without changes to save your results to a CSV file that can be submitted directly to the competition."
   ]
  },
  {
   "cell_type": "code",
   "execution_count": 23,
   "id": "6d244f0a",
   "metadata": {
    "execution": {
     "iopub.execute_input": "2021-12-21T07:47:03.652776Z",
     "iopub.status.busy": "2021-12-21T07:47:03.652116Z",
     "iopub.status.idle": "2021-12-21T07:47:03.663076Z",
     "shell.execute_reply": "2021-12-21T07:47:03.662396Z",
     "shell.execute_reply.started": "2021-12-21T07:46:17.231490Z"
    },
    "papermill": {
     "duration": 0.053909,
     "end_time": "2021-12-21T07:47:03.663228",
     "exception": false,
     "start_time": "2021-12-21T07:47:03.609319",
     "status": "completed"
    },
    "tags": []
   },
   "outputs": [],
   "source": [
    "# Save test predictions to file\n",
    "output = pd.DataFrame({'Id': X_test.index,\n",
    "                       'SalePrice': preds_test})\n",
    "output.to_csv('submission.csv', index=False)"
   ]
  },
  {
   "cell_type": "markdown",
   "id": "3f896944",
   "metadata": {
    "papermill": {
     "duration": 0.037921,
     "end_time": "2021-12-21T07:47:03.739117",
     "exception": false,
     "start_time": "2021-12-21T07:47:03.701196",
     "status": "completed"
    },
    "tags": []
   },
   "source": [
    "# Submit your results\n",
    "\n",
    "Once you have successfully completed Step 4, you're ready to submit your results to the leaderboard!  (_You also learned how to do this in the previous exercise.  If you need a reminder of how to do this, please use the instructions below._)  \n",
    "\n",
    "First, you'll need to join the competition if you haven't already.  So open a new window by clicking on [this link](https://www.kaggle.com/c/home-data-for-ml-course).  Then click on the **Join Competition** button.\n",
    "\n",
    "![join competition image](https://i.imgur.com/wLmFtH3.png)\n",
    "\n",
    "Next, follow the instructions below:\n",
    "1. Begin by clicking on the **Save Version** button in the top right corner of the window.  This will generate a pop-up window.  \n",
    "2. Ensure that the **Save and Run All** option is selected, and then click on the **Save** button.\n",
    "3. This generates a window in the bottom left corner of the notebook.  After it has finished running, click on the number to the right of the **Save Version** button.  This pulls up a list of versions on the right of the screen.  Click on the ellipsis **(...)** to the right of the most recent version, and select **Open in Viewer**.  This brings you into view mode of the same page. You will need to scroll down to get back to these instructions.\n",
    "4. Click on the **Output** tab on the right of the screen.  Then, click on the file you would like to submit, and click on the **Submit** button to submit your results to the leaderboard.\n",
    "\n",
    "You have now successfully submitted to the competition!\n",
    "\n",
    "If you want to keep working to improve your performance, select the **Edit** button in the top right of the screen. Then you can change your code and repeat the process. There's a lot of room to improve, and you will climb up the leaderboard as you work.\n",
    "\n",
    "\n",
    "# Keep going\n",
    "\n",
    "Move on to learn what **[categorical variables](https://www.kaggle.com/alexisbcook/categorical-variables)** are, along with how to incorporate them into your machine learning models.  Categorical variables are very common in real-world data, but you'll get an error if you try to plug them into your models without processing them first!"
   ]
  },
  {
   "cell_type": "markdown",
   "id": "c76c38c5",
   "metadata": {
    "papermill": {
     "duration": 0.03727,
     "end_time": "2021-12-21T07:47:03.815720",
     "exception": false,
     "start_time": "2021-12-21T07:47:03.778450",
     "status": "completed"
    },
    "tags": []
   },
   "source": [
    "---\n",
    "\n",
    "\n",
    "\n",
    "\n",
    "*Have questions or comments? Visit the [course discussion forum](https://www.kaggle.com/learn/intermediate-machine-learning/discussion) to chat with other learners.*"
   ]
  }
 ],
 "metadata": {
  "kernelspec": {
   "display_name": "Python 3",
   "language": "python",
   "name": "python3"
  },
  "language_info": {
   "codemirror_mode": {
    "name": "ipython",
    "version": 3
   },
   "file_extension": ".py",
   "mimetype": "text/x-python",
   "name": "python",
   "nbconvert_exporter": "python",
   "pygments_lexer": "ipython3",
   "version": "3.7.12"
  },
  "papermill": {
   "default_parameters": {},
   "duration": 19.604984,
   "end_time": "2021-12-21T07:47:04.563542",
   "environment_variables": {},
   "exception": null,
   "input_path": "__notebook__.ipynb",
   "output_path": "__notebook__.ipynb",
   "parameters": {},
   "start_time": "2021-12-21T07:46:44.958558",
   "version": "2.3.3"
  }
 },
 "nbformat": 4,
 "nbformat_minor": 5
}

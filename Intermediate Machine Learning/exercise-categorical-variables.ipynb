{
 "cells": [
  {
   "cell_type": "markdown",
   "id": "35e55668",
   "metadata": {
    "papermill": {
     "duration": 0.026376,
     "end_time": "2021-12-31T04:36:46.148754",
     "exception": false,
     "start_time": "2021-12-31T04:36:46.122378",
     "status": "completed"
    },
    "tags": []
   },
   "source": [
    "**This notebook is an exercise in the [Intermediate Machine Learning](https://www.kaggle.com/learn/intermediate-machine-learning) course.  You can reference the tutorial at [this link](https://www.kaggle.com/alexisbcook/categorical-variables).**\n",
    "\n",
    "---\n"
   ]
  },
  {
   "cell_type": "markdown",
   "id": "a350c681",
   "metadata": {
    "papermill": {
     "duration": 0.024867,
     "end_time": "2021-12-31T04:36:46.199202",
     "exception": false,
     "start_time": "2021-12-31T04:36:46.174335",
     "status": "completed"
    },
    "tags": []
   },
   "source": [
    "By encoding **categorical variables**, you'll obtain your best results thus far!\n",
    "\n",
    "# Setup\n",
    "\n",
    "The questions below will give you feedback on your work. Run the following cell to set up the feedback system."
   ]
  },
  {
   "cell_type": "code",
   "execution_count": 1,
   "id": "892175fb",
   "metadata": {
    "execution": {
     "iopub.execute_input": "2021-12-31T04:36:46.254125Z",
     "iopub.status.busy": "2021-12-31T04:36:46.253065Z",
     "iopub.status.idle": "2021-12-31T04:36:46.296784Z",
     "shell.execute_reply": "2021-12-31T04:36:46.297272Z",
     "shell.execute_reply.started": "2021-12-31T04:13:46.642604Z"
    },
    "papermill": {
     "duration": 0.072576,
     "end_time": "2021-12-31T04:36:46.297553",
     "exception": false,
     "start_time": "2021-12-31T04:36:46.224977",
     "status": "completed"
    },
    "tags": []
   },
   "outputs": [
    {
     "name": "stdout",
     "output_type": "stream",
     "text": [
      "Setup Complete\n"
     ]
    }
   ],
   "source": [
    "# Set up code checking\n",
    "import os\n",
    "if not os.path.exists(\"../input/train.csv\"):\n",
    "    os.symlink(\"../input/home-data-for-ml-course/train.csv\", \"../input/train.csv\")  \n",
    "    os.symlink(\"../input/home-data-for-ml-course/test.csv\", \"../input/test.csv\") \n",
    "from learntools.core import binder\n",
    "binder.bind(globals())\n",
    "from learntools.ml_intermediate.ex3 import *\n",
    "print(\"Setup Complete\")"
   ]
  },
  {
   "cell_type": "markdown",
   "id": "bbbaea3e",
   "metadata": {
    "papermill": {
     "duration": 0.029007,
     "end_time": "2021-12-31T04:36:46.354627",
     "exception": false,
     "start_time": "2021-12-31T04:36:46.325620",
     "status": "completed"
    },
    "tags": []
   },
   "source": [
    "In this exercise, you will work with data from the [Housing Prices Competition for Kaggle Learn Users](https://www.kaggle.com/c/home-data-for-ml-course). \n",
    "\n",
    "![Ames Housing dataset image](https://i.imgur.com/lTJVG4e.png)\n",
    "\n",
    "Run the next code cell without changes to load the training and validation sets in `X_train`, `X_valid`, `y_train`, and `y_valid`.  The test set is loaded in `X_test`."
   ]
  },
  {
   "cell_type": "code",
   "execution_count": 2,
   "id": "b646dd48",
   "metadata": {
    "execution": {
     "iopub.execute_input": "2021-12-31T04:36:46.408854Z",
     "iopub.status.busy": "2021-12-31T04:36:46.408198Z",
     "iopub.status.idle": "2021-12-31T04:36:47.534625Z",
     "shell.execute_reply": "2021-12-31T04:36:47.533893Z",
     "shell.execute_reply.started": "2021-12-31T04:13:47.830262Z"
    },
    "papermill": {
     "duration": 1.154604,
     "end_time": "2021-12-31T04:36:47.534808",
     "exception": false,
     "start_time": "2021-12-31T04:36:46.380204",
     "status": "completed"
    },
    "tags": []
   },
   "outputs": [],
   "source": [
    "import pandas as pd\n",
    "from sklearn.model_selection import train_test_split\n",
    "\n",
    "# Read the data\n",
    "X = pd.read_csv('../input/train.csv', index_col='Id') \n",
    "X_test = pd.read_csv('../input/test.csv', index_col='Id')\n",
    "\n",
    "# Remove rows with missing target, separate target from predictors\n",
    "X.dropna(axis=0, subset=['SalePrice'], inplace=True)\n",
    "y = X.SalePrice\n",
    "X.drop(['SalePrice'], axis=1, inplace=True)\n",
    "\n",
    "# To keep things simple, we'll drop columns with missing values\n",
    "cols_with_missing = [col for col in X.columns if X[col].isnull().any()] \n",
    "X.drop(cols_with_missing, axis=1, inplace=True)\n",
    "X_test.drop(cols_with_missing, axis=1, inplace=True)\n",
    "\n",
    "# Break off validation set from training data\n",
    "X_train, X_valid, y_train, y_valid = train_test_split(X, y,\n",
    "                                                      train_size=0.8, test_size=0.2,\n",
    "                                                      random_state=0)"
   ]
  },
  {
   "cell_type": "markdown",
   "id": "7d8507da",
   "metadata": {
    "papermill": {
     "duration": 0.027751,
     "end_time": "2021-12-31T04:36:47.588776",
     "exception": false,
     "start_time": "2021-12-31T04:36:47.561025",
     "status": "completed"
    },
    "tags": []
   },
   "source": [
    "Use the next code cell to print the first five rows of the data."
   ]
  },
  {
   "cell_type": "code",
   "execution_count": 3,
   "id": "169bb90a",
   "metadata": {
    "execution": {
     "iopub.execute_input": "2021-12-31T04:36:47.650219Z",
     "iopub.status.busy": "2021-12-31T04:36:47.649558Z",
     "iopub.status.idle": "2021-12-31T04:36:47.671958Z",
     "shell.execute_reply": "2021-12-31T04:36:47.672441Z",
     "shell.execute_reply.started": "2021-12-31T04:13:47.924604Z"
    },
    "papermill": {
     "duration": 0.055736,
     "end_time": "2021-12-31T04:36:47.672613",
     "exception": false,
     "start_time": "2021-12-31T04:36:47.616877",
     "status": "completed"
    },
    "tags": []
   },
   "outputs": [
    {
     "data": {
      "text/html": [
       "<div>\n",
       "<style scoped>\n",
       "    .dataframe tbody tr th:only-of-type {\n",
       "        vertical-align: middle;\n",
       "    }\n",
       "\n",
       "    .dataframe tbody tr th {\n",
       "        vertical-align: top;\n",
       "    }\n",
       "\n",
       "    .dataframe thead th {\n",
       "        text-align: right;\n",
       "    }\n",
       "</style>\n",
       "<table border=\"1\" class=\"dataframe\">\n",
       "  <thead>\n",
       "    <tr style=\"text-align: right;\">\n",
       "      <th></th>\n",
       "      <th>MSSubClass</th>\n",
       "      <th>MSZoning</th>\n",
       "      <th>LotArea</th>\n",
       "      <th>Street</th>\n",
       "      <th>LotShape</th>\n",
       "      <th>LandContour</th>\n",
       "      <th>Utilities</th>\n",
       "      <th>LotConfig</th>\n",
       "      <th>LandSlope</th>\n",
       "      <th>Neighborhood</th>\n",
       "      <th>...</th>\n",
       "      <th>OpenPorchSF</th>\n",
       "      <th>EnclosedPorch</th>\n",
       "      <th>3SsnPorch</th>\n",
       "      <th>ScreenPorch</th>\n",
       "      <th>PoolArea</th>\n",
       "      <th>MiscVal</th>\n",
       "      <th>MoSold</th>\n",
       "      <th>YrSold</th>\n",
       "      <th>SaleType</th>\n",
       "      <th>SaleCondition</th>\n",
       "    </tr>\n",
       "    <tr>\n",
       "      <th>Id</th>\n",
       "      <th></th>\n",
       "      <th></th>\n",
       "      <th></th>\n",
       "      <th></th>\n",
       "      <th></th>\n",
       "      <th></th>\n",
       "      <th></th>\n",
       "      <th></th>\n",
       "      <th></th>\n",
       "      <th></th>\n",
       "      <th></th>\n",
       "      <th></th>\n",
       "      <th></th>\n",
       "      <th></th>\n",
       "      <th></th>\n",
       "      <th></th>\n",
       "      <th></th>\n",
       "      <th></th>\n",
       "      <th></th>\n",
       "      <th></th>\n",
       "      <th></th>\n",
       "    </tr>\n",
       "  </thead>\n",
       "  <tbody>\n",
       "    <tr>\n",
       "      <th>619</th>\n",
       "      <td>20</td>\n",
       "      <td>RL</td>\n",
       "      <td>11694</td>\n",
       "      <td>Pave</td>\n",
       "      <td>Reg</td>\n",
       "      <td>Lvl</td>\n",
       "      <td>AllPub</td>\n",
       "      <td>Inside</td>\n",
       "      <td>Gtl</td>\n",
       "      <td>NridgHt</td>\n",
       "      <td>...</td>\n",
       "      <td>108</td>\n",
       "      <td>0</td>\n",
       "      <td>0</td>\n",
       "      <td>260</td>\n",
       "      <td>0</td>\n",
       "      <td>0</td>\n",
       "      <td>7</td>\n",
       "      <td>2007</td>\n",
       "      <td>New</td>\n",
       "      <td>Partial</td>\n",
       "    </tr>\n",
       "    <tr>\n",
       "      <th>871</th>\n",
       "      <td>20</td>\n",
       "      <td>RL</td>\n",
       "      <td>6600</td>\n",
       "      <td>Pave</td>\n",
       "      <td>Reg</td>\n",
       "      <td>Lvl</td>\n",
       "      <td>AllPub</td>\n",
       "      <td>Inside</td>\n",
       "      <td>Gtl</td>\n",
       "      <td>NAmes</td>\n",
       "      <td>...</td>\n",
       "      <td>0</td>\n",
       "      <td>0</td>\n",
       "      <td>0</td>\n",
       "      <td>0</td>\n",
       "      <td>0</td>\n",
       "      <td>0</td>\n",
       "      <td>8</td>\n",
       "      <td>2009</td>\n",
       "      <td>WD</td>\n",
       "      <td>Normal</td>\n",
       "    </tr>\n",
       "    <tr>\n",
       "      <th>93</th>\n",
       "      <td>30</td>\n",
       "      <td>RL</td>\n",
       "      <td>13360</td>\n",
       "      <td>Pave</td>\n",
       "      <td>IR1</td>\n",
       "      <td>HLS</td>\n",
       "      <td>AllPub</td>\n",
       "      <td>Inside</td>\n",
       "      <td>Gtl</td>\n",
       "      <td>Crawfor</td>\n",
       "      <td>...</td>\n",
       "      <td>0</td>\n",
       "      <td>44</td>\n",
       "      <td>0</td>\n",
       "      <td>0</td>\n",
       "      <td>0</td>\n",
       "      <td>0</td>\n",
       "      <td>8</td>\n",
       "      <td>2009</td>\n",
       "      <td>WD</td>\n",
       "      <td>Normal</td>\n",
       "    </tr>\n",
       "    <tr>\n",
       "      <th>818</th>\n",
       "      <td>20</td>\n",
       "      <td>RL</td>\n",
       "      <td>13265</td>\n",
       "      <td>Pave</td>\n",
       "      <td>IR1</td>\n",
       "      <td>Lvl</td>\n",
       "      <td>AllPub</td>\n",
       "      <td>CulDSac</td>\n",
       "      <td>Gtl</td>\n",
       "      <td>Mitchel</td>\n",
       "      <td>...</td>\n",
       "      <td>59</td>\n",
       "      <td>0</td>\n",
       "      <td>0</td>\n",
       "      <td>0</td>\n",
       "      <td>0</td>\n",
       "      <td>0</td>\n",
       "      <td>7</td>\n",
       "      <td>2008</td>\n",
       "      <td>WD</td>\n",
       "      <td>Normal</td>\n",
       "    </tr>\n",
       "    <tr>\n",
       "      <th>303</th>\n",
       "      <td>20</td>\n",
       "      <td>RL</td>\n",
       "      <td>13704</td>\n",
       "      <td>Pave</td>\n",
       "      <td>IR1</td>\n",
       "      <td>Lvl</td>\n",
       "      <td>AllPub</td>\n",
       "      <td>Corner</td>\n",
       "      <td>Gtl</td>\n",
       "      <td>CollgCr</td>\n",
       "      <td>...</td>\n",
       "      <td>81</td>\n",
       "      <td>0</td>\n",
       "      <td>0</td>\n",
       "      <td>0</td>\n",
       "      <td>0</td>\n",
       "      <td>0</td>\n",
       "      <td>1</td>\n",
       "      <td>2006</td>\n",
       "      <td>WD</td>\n",
       "      <td>Normal</td>\n",
       "    </tr>\n",
       "  </tbody>\n",
       "</table>\n",
       "<p>5 rows × 60 columns</p>\n",
       "</div>"
      ],
      "text/plain": [
       "     MSSubClass MSZoning  LotArea Street LotShape LandContour Utilities  \\\n",
       "Id                                                                        \n",
       "619          20       RL    11694   Pave      Reg         Lvl    AllPub   \n",
       "871          20       RL     6600   Pave      Reg         Lvl    AllPub   \n",
       "93           30       RL    13360   Pave      IR1         HLS    AllPub   \n",
       "818          20       RL    13265   Pave      IR1         Lvl    AllPub   \n",
       "303          20       RL    13704   Pave      IR1         Lvl    AllPub   \n",
       "\n",
       "    LotConfig LandSlope Neighborhood  ... OpenPorchSF EnclosedPorch 3SsnPorch  \\\n",
       "Id                                    ...                                       \n",
       "619    Inside       Gtl      NridgHt  ...         108             0         0   \n",
       "871    Inside       Gtl        NAmes  ...           0             0         0   \n",
       "93     Inside       Gtl      Crawfor  ...           0            44         0   \n",
       "818   CulDSac       Gtl      Mitchel  ...          59             0         0   \n",
       "303    Corner       Gtl      CollgCr  ...          81             0         0   \n",
       "\n",
       "    ScreenPorch  PoolArea  MiscVal  MoSold  YrSold SaleType SaleCondition  \n",
       "Id                                                                         \n",
       "619         260         0        0       7    2007      New       Partial  \n",
       "871           0         0        0       8    2009       WD        Normal  \n",
       "93            0         0        0       8    2009       WD        Normal  \n",
       "818           0         0        0       7    2008       WD        Normal  \n",
       "303           0         0        0       1    2006       WD        Normal  \n",
       "\n",
       "[5 rows x 60 columns]"
      ]
     },
     "execution_count": 3,
     "metadata": {},
     "output_type": "execute_result"
    }
   ],
   "source": [
    "X_train.head()"
   ]
  },
  {
   "cell_type": "code",
   "execution_count": 4,
   "id": "689081e6",
   "metadata": {
    "execution": {
     "iopub.execute_input": "2021-12-31T04:36:47.729505Z",
     "iopub.status.busy": "2021-12-31T04:36:47.728860Z",
     "iopub.status.idle": "2021-12-31T04:36:47.734033Z",
     "shell.execute_reply": "2021-12-31T04:36:47.734596Z",
     "shell.execute_reply.started": "2021-12-31T04:13:47.950434Z"
    },
    "papermill": {
     "duration": 0.035243,
     "end_time": "2021-12-31T04:36:47.734790",
     "exception": false,
     "start_time": "2021-12-31T04:36:47.699547",
     "status": "completed"
    },
    "tags": []
   },
   "outputs": [
    {
     "data": {
      "text/plain": [
       "Index(['MSSubClass', 'MSZoning', 'LotArea', 'Street', 'LotShape',\n",
       "       'LandContour', 'Utilities', 'LotConfig', 'LandSlope', 'Neighborhood',\n",
       "       'Condition1', 'Condition2', 'BldgType', 'HouseStyle', 'OverallQual',\n",
       "       'OverallCond', 'YearBuilt', 'YearRemodAdd', 'RoofStyle', 'RoofMatl',\n",
       "       'Exterior1st', 'Exterior2nd', 'ExterQual', 'ExterCond', 'Foundation',\n",
       "       'BsmtFinSF1', 'BsmtFinSF2', 'BsmtUnfSF', 'TotalBsmtSF', 'Heating',\n",
       "       'HeatingQC', 'CentralAir', '1stFlrSF', '2ndFlrSF', 'LowQualFinSF',\n",
       "       'GrLivArea', 'BsmtFullBath', 'BsmtHalfBath', 'FullBath', 'HalfBath',\n",
       "       'BedroomAbvGr', 'KitchenAbvGr', 'KitchenQual', 'TotRmsAbvGrd',\n",
       "       'Functional', 'Fireplaces', 'GarageCars', 'GarageArea', 'PavedDrive',\n",
       "       'WoodDeckSF', 'OpenPorchSF', 'EnclosedPorch', '3SsnPorch',\n",
       "       'ScreenPorch', 'PoolArea', 'MiscVal', 'MoSold', 'YrSold', 'SaleType',\n",
       "       'SaleCondition'],\n",
       "      dtype='object')"
      ]
     },
     "execution_count": 4,
     "metadata": {},
     "output_type": "execute_result"
    }
   ],
   "source": [
    "X_train.columns"
   ]
  },
  {
   "cell_type": "markdown",
   "id": "5deec07c",
   "metadata": {
    "papermill": {
     "duration": 0.028478,
     "end_time": "2021-12-31T04:36:47.791457",
     "exception": false,
     "start_time": "2021-12-31T04:36:47.762979",
     "status": "completed"
    },
    "tags": []
   },
   "source": [
    "Notice that the dataset contains both numerical and categorical variables.  You'll need to encode the categorical data before training a model.\n",
    "\n",
    "To compare different models, you'll use the same `score_dataset()` function from the tutorial.  This function reports the [mean absolute error](https://en.wikipedia.org/wiki/Mean_absolute_error) (MAE) from a random forest model."
   ]
  },
  {
   "cell_type": "code",
   "execution_count": 5,
   "id": "1b338a0e",
   "metadata": {
    "execution": {
     "iopub.execute_input": "2021-12-31T04:36:47.848538Z",
     "iopub.status.busy": "2021-12-31T04:36:47.847921Z",
     "iopub.status.idle": "2021-12-31T04:36:48.041916Z",
     "shell.execute_reply": "2021-12-31T04:36:48.041280Z",
     "shell.execute_reply.started": "2021-12-31T04:13:47.967259Z"
    },
    "papermill": {
     "duration": 0.224128,
     "end_time": "2021-12-31T04:36:48.042060",
     "exception": false,
     "start_time": "2021-12-31T04:36:47.817932",
     "status": "completed"
    },
    "tags": []
   },
   "outputs": [],
   "source": [
    "from sklearn.ensemble import RandomForestRegressor\n",
    "from sklearn.metrics import mean_absolute_error\n",
    "\n",
    "# function for comparing different approaches\n",
    "def score_dataset(X_train, X_valid, y_train, y_valid):\n",
    "    model = RandomForestRegressor(n_estimators=100, random_state=0)\n",
    "    model.fit(X_train, y_train)\n",
    "    preds = model.predict(X_valid)\n",
    "    return mean_absolute_error(y_valid, preds)"
   ]
  },
  {
   "cell_type": "markdown",
   "id": "8f1b593e",
   "metadata": {
    "papermill": {
     "duration": 0.026876,
     "end_time": "2021-12-31T04:36:48.096109",
     "exception": false,
     "start_time": "2021-12-31T04:36:48.069233",
     "status": "completed"
    },
    "tags": []
   },
   "source": [
    "# Step 1: Drop columns with categorical data\n",
    "\n",
    "You'll get started with the most straightforward approach.  Use the code cell below to preprocess the data in `X_train` and `X_valid` to remove columns with categorical data.  Set the preprocessed DataFrames to `drop_X_train` and `drop_X_valid`, respectively.  "
   ]
  },
  {
   "cell_type": "code",
   "execution_count": 6,
   "id": "bb4d91a1",
   "metadata": {
    "execution": {
     "iopub.execute_input": "2021-12-31T04:36:48.162369Z",
     "iopub.status.busy": "2021-12-31T04:36:48.161725Z",
     "iopub.status.idle": "2021-12-31T04:36:48.165299Z",
     "shell.execute_reply": "2021-12-31T04:36:48.165816Z",
     "shell.execute_reply.started": "2021-12-31T04:13:47.981601Z"
    },
    "papermill": {
     "duration": 0.042814,
     "end_time": "2021-12-31T04:36:48.166001",
     "exception": false,
     "start_time": "2021-12-31T04:36:48.123187",
     "status": "completed"
    },
    "tags": []
   },
   "outputs": [
    {
     "data": {
      "application/javascript": [
       "parent.postMessage({\"jupyterEvent\": \"custom.exercise_interaction\", \"data\": {\"outcomeType\": 1, \"valueTowardsCompletion\": 0.5, \"interactionType\": 1, \"questionType\": 2, \"questionId\": \"1_Drop\", \"learnToolsVersion\": \"0.3.4\", \"failureMessage\": \"\", \"exceptionClass\": \"\", \"trace\": \"\"}}, \"*\")"
      ],
      "text/plain": [
       "<IPython.core.display.Javascript object>"
      ]
     },
     "metadata": {},
     "output_type": "display_data"
    },
    {
     "data": {
      "text/markdown": [
       "<span style=\"color:#33cc33\">Correct</span>"
      ],
      "text/plain": [
       "Correct"
      ]
     },
     "metadata": {},
     "output_type": "display_data"
    }
   ],
   "source": [
    "# Fill in the lines below: drop columns in training and validation data\n",
    "drop_X_train = X_train.select_dtypes(exclude=['object'])\n",
    "drop_X_valid = X_valid.select_dtypes(exclude=['object'])\n",
    "\n",
    "# Check your answers\n",
    "step_1.check()"
   ]
  },
  {
   "cell_type": "code",
   "execution_count": 7,
   "id": "19ed547a",
   "metadata": {
    "execution": {
     "iopub.execute_input": "2021-12-31T04:36:48.228256Z",
     "iopub.status.busy": "2021-12-31T04:36:48.227447Z",
     "iopub.status.idle": "2021-12-31T04:36:48.232086Z",
     "shell.execute_reply": "2021-12-31T04:36:48.231490Z",
     "shell.execute_reply.started": "2021-12-31T04:13:50.025699Z"
    },
    "papermill": {
     "duration": 0.037371,
     "end_time": "2021-12-31T04:36:48.232224",
     "exception": false,
     "start_time": "2021-12-31T04:36:48.194853",
     "status": "completed"
    },
    "tags": []
   },
   "outputs": [],
   "source": [
    "# Lines below will give you a hint or solution code\n",
    "#step_1.hint()\n",
    "#step_1.solution()"
   ]
  },
  {
   "cell_type": "markdown",
   "id": "a8fdee85",
   "metadata": {
    "papermill": {
     "duration": 0.02758,
     "end_time": "2021-12-31T04:36:48.287827",
     "exception": false,
     "start_time": "2021-12-31T04:36:48.260247",
     "status": "completed"
    },
    "tags": []
   },
   "source": [
    "Run the next code cell to get the MAE for this approach."
   ]
  },
  {
   "cell_type": "code",
   "execution_count": 8,
   "id": "534dfdf0",
   "metadata": {
    "execution": {
     "iopub.execute_input": "2021-12-31T04:36:48.349403Z",
     "iopub.status.busy": "2021-12-31T04:36:48.348775Z",
     "iopub.status.idle": "2021-12-31T04:36:49.535072Z",
     "shell.execute_reply": "2021-12-31T04:36:49.535557Z",
     "shell.execute_reply.started": "2021-12-31T04:13:50.032019Z"
    },
    "papermill": {
     "duration": 1.219744,
     "end_time": "2021-12-31T04:36:49.535761",
     "exception": false,
     "start_time": "2021-12-31T04:36:48.316017",
     "status": "completed"
    },
    "tags": []
   },
   "outputs": [
    {
     "name": "stdout",
     "output_type": "stream",
     "text": [
      "MAE from Approach 1 (Drop categorical variables):\n",
      "17837.82570776256\n"
     ]
    }
   ],
   "source": [
    "print(\"MAE from Approach 1 (Drop categorical variables):\")\n",
    "print(score_dataset(drop_X_train, drop_X_valid, y_train, y_valid))"
   ]
  },
  {
   "cell_type": "markdown",
   "id": "84f22e98",
   "metadata": {
    "papermill": {
     "duration": 0.028389,
     "end_time": "2021-12-31T04:36:49.592961",
     "exception": false,
     "start_time": "2021-12-31T04:36:49.564572",
     "status": "completed"
    },
    "tags": []
   },
   "source": [
    "Before jumping into ordinal encoding, we'll investigate the dataset.  Specifically, we'll look at the `'Condition2'` column.  The code cell below prints the unique entries in both the training and validation sets."
   ]
  },
  {
   "cell_type": "code",
   "execution_count": 9,
   "id": "4f520683",
   "metadata": {
    "execution": {
     "iopub.execute_input": "2021-12-31T04:36:49.654572Z",
     "iopub.status.busy": "2021-12-31T04:36:49.653946Z",
     "iopub.status.idle": "2021-12-31T04:36:49.658948Z",
     "shell.execute_reply": "2021-12-31T04:36:49.658196Z",
     "shell.execute_reply.started": "2021-12-31T04:13:51.328814Z"
    },
    "papermill": {
     "duration": 0.038062,
     "end_time": "2021-12-31T04:36:49.659137",
     "exception": false,
     "start_time": "2021-12-31T04:36:49.621075",
     "status": "completed"
    },
    "tags": []
   },
   "outputs": [
    {
     "name": "stdout",
     "output_type": "stream",
     "text": [
      "Unique values in 'Condition2' column in training data: ['Norm' 'PosA' 'Feedr' 'PosN' 'Artery' 'RRAe']\n",
      "\n",
      "Unique values in 'Condition2' column in validation data: ['Norm' 'RRAn' 'RRNn' 'Artery' 'Feedr' 'PosN']\n"
     ]
    }
   ],
   "source": [
    "print(\"Unique values in 'Condition2' column in training data:\", X_train['Condition2'].unique())\n",
    "print(\"\\nUnique values in 'Condition2' column in validation data:\", X_valid['Condition2'].unique())"
   ]
  },
  {
   "cell_type": "markdown",
   "id": "470c6caa",
   "metadata": {
    "papermill": {
     "duration": 0.028398,
     "end_time": "2021-12-31T04:36:49.717707",
     "exception": false,
     "start_time": "2021-12-31T04:36:49.689309",
     "status": "completed"
    },
    "tags": []
   },
   "source": [
    "# Step 2: Ordinal encoding\n",
    "\n",
    "### Part A\n",
    "\n",
    "If you now write code to: \n",
    "- fit an ordinal encoder to the training data, and then \n",
    "- use it to transform both the training and validation data, \n",
    "\n",
    "you'll get an error.  Can you see why this is the case?  (_You'll need  to use the above output to answer this question._)"
   ]
  },
  {
   "cell_type": "code",
   "execution_count": 10,
   "id": "24aedf2f",
   "metadata": {
    "execution": {
     "iopub.execute_input": "2021-12-31T04:36:49.779670Z",
     "iopub.status.busy": "2021-12-31T04:36:49.778751Z",
     "iopub.status.idle": "2021-12-31T04:36:49.785773Z",
     "shell.execute_reply": "2021-12-31T04:36:49.786235Z",
     "shell.execute_reply.started": "2021-12-31T04:13:51.338215Z"
    },
    "papermill": {
     "duration": 0.039924,
     "end_time": "2021-12-31T04:36:49.786408",
     "exception": false,
     "start_time": "2021-12-31T04:36:49.746484",
     "status": "completed"
    },
    "tags": []
   },
   "outputs": [
    {
     "data": {
      "application/javascript": [
       "parent.postMessage({\"jupyterEvent\": \"custom.exercise_interaction\", \"data\": {\"outcomeType\": 1, \"valueTowardsCompletion\": 0.5, \"interactionType\": 1, \"questionType\": 4, \"questionId\": \"2.1_LabelA\", \"learnToolsVersion\": \"0.3.4\", \"failureMessage\": \"\", \"exceptionClass\": \"\", \"trace\": \"\"}}, \"*\")"
      ],
      "text/plain": [
       "<IPython.core.display.Javascript object>"
      ]
     },
     "metadata": {},
     "output_type": "display_data"
    },
    {
     "data": {
      "text/markdown": [
       "<span style=\"color:#33cc33\">Correct:</span> \n",
       "\n",
       "Fitting an ordinal encoder to a column in the training data creates a corresponding integer-valued label for each unique value **that appears in the training data**. In the case that the validation data contains values that don't also appear in the training data, the encoder will throw an error, because these values won't have an integer assigned to them.  Notice that the `'Condition2'` column in the validation data contains the values `'RRAn'` and `'RRNn'`, but these don't appear in the training data -- thus, if we try to use an ordinal encoder with scikit-learn, the code will throw an error."
      ],
      "text/plain": [
       "Correct: \n",
       "\n",
       "Fitting an ordinal encoder to a column in the training data creates a corresponding integer-valued label for each unique value **that appears in the training data**. In the case that the validation data contains values that don't also appear in the training data, the encoder will throw an error, because these values won't have an integer assigned to them.  Notice that the `'Condition2'` column in the validation data contains the values `'RRAn'` and `'RRNn'`, but these don't appear in the training data -- thus, if we try to use an ordinal encoder with scikit-learn, the code will throw an error."
      ]
     },
     "metadata": {},
     "output_type": "display_data"
    }
   ],
   "source": [
    "# Check your answer (Run this code cell to receive credit!)\n",
    "step_2.a.check()"
   ]
  },
  {
   "cell_type": "code",
   "execution_count": 11,
   "id": "dd9ecbc7",
   "metadata": {
    "execution": {
     "iopub.execute_input": "2021-12-31T04:36:49.849443Z",
     "iopub.status.busy": "2021-12-31T04:36:49.848513Z",
     "iopub.status.idle": "2021-12-31T04:36:49.851831Z",
     "shell.execute_reply": "2021-12-31T04:36:49.852437Z",
     "shell.execute_reply.started": "2021-12-31T04:13:51.357103Z"
    },
    "papermill": {
     "duration": 0.037091,
     "end_time": "2021-12-31T04:36:49.852621",
     "exception": false,
     "start_time": "2021-12-31T04:36:49.815530",
     "status": "completed"
    },
    "tags": []
   },
   "outputs": [],
   "source": [
    "#step_2.a.hint()"
   ]
  },
  {
   "cell_type": "markdown",
   "id": "f42decd6",
   "metadata": {
    "papermill": {
     "duration": 0.029206,
     "end_time": "2021-12-31T04:36:49.913877",
     "exception": false,
     "start_time": "2021-12-31T04:36:49.884671",
     "status": "completed"
    },
    "tags": []
   },
   "source": [
    "This is a common problem that you'll encounter with real-world data, and there are many approaches to fixing this issue.  For instance, you can write a custom ordinal encoder to deal with new categories.  The simplest approach, however, is to drop the problematic categorical columns.  \n",
    "\n",
    "Run the code cell below to save the problematic columns to a Python list `bad_label_cols`.  Likewise, columns that can be safely ordinal encoded are stored in `good_label_cols`."
   ]
  },
  {
   "cell_type": "code",
   "execution_count": 12,
   "id": "22b8c254",
   "metadata": {
    "execution": {
     "iopub.execute_input": "2021-12-31T04:36:49.979856Z",
     "iopub.status.busy": "2021-12-31T04:36:49.979135Z",
     "iopub.status.idle": "2021-12-31T04:36:49.992137Z",
     "shell.execute_reply": "2021-12-31T04:36:49.992887Z",
     "shell.execute_reply.started": "2021-12-31T04:13:51.371032Z"
    },
    "papermill": {
     "duration": 0.047047,
     "end_time": "2021-12-31T04:36:49.993130",
     "exception": false,
     "start_time": "2021-12-31T04:36:49.946083",
     "status": "completed"
    },
    "tags": []
   },
   "outputs": [
    {
     "name": "stdout",
     "output_type": "stream",
     "text": [
      "Categorical columns that will be ordinal encoded: ['MSZoning', 'Street', 'LotShape', 'LandContour', 'Utilities', 'LotConfig', 'LandSlope', 'Neighborhood', 'Condition1', 'BldgType', 'HouseStyle', 'RoofStyle', 'Exterior1st', 'Exterior2nd', 'ExterQual', 'ExterCond', 'Foundation', 'Heating', 'HeatingQC', 'CentralAir', 'KitchenQual', 'PavedDrive', 'SaleType', 'SaleCondition']\n",
      "\n",
      "Categorical columns that will be dropped from the dataset: ['Condition2', 'Functional', 'RoofMatl']\n"
     ]
    }
   ],
   "source": [
    "# Categorical columns in the training data\n",
    "object_cols = [col for col in X_train.columns if X_train[col].dtype == \"object\"]\n",
    "\n",
    "# Columns that can be safely ordinal encoded\n",
    "good_label_cols = [col for col in object_cols if \n",
    "                   set(X_valid[col]).issubset(set(X_train[col]))]\n",
    "        \n",
    "# Problematic columns that will be dropped from the dataset\n",
    "bad_label_cols = list(set(object_cols)-set(good_label_cols))\n",
    "        \n",
    "print('Categorical columns that will be ordinal encoded:', good_label_cols)\n",
    "print('\\nCategorical columns that will be dropped from the dataset:', bad_label_cols)"
   ]
  },
  {
   "cell_type": "markdown",
   "id": "5dfc6fed",
   "metadata": {
    "papermill": {
     "duration": 0.029681,
     "end_time": "2021-12-31T04:36:50.056445",
     "exception": false,
     "start_time": "2021-12-31T04:36:50.026764",
     "status": "completed"
    },
    "tags": []
   },
   "source": [
    "### Part B\n",
    "\n",
    "Use the next code cell to ordinal encode the data in `X_train` and `X_valid`.  Set the preprocessed DataFrames to `label_X_train` and `label_X_valid`, respectively.  \n",
    "- We have provided code below to drop the categorical columns in `bad_label_cols` from the dataset. \n",
    "- You should ordinal encode the categorical columns in `good_label_cols`.  "
   ]
  },
  {
   "cell_type": "code",
   "execution_count": 13,
   "id": "0a9c26cf",
   "metadata": {
    "execution": {
     "iopub.execute_input": "2021-12-31T04:36:50.118605Z",
     "iopub.status.busy": "2021-12-31T04:36:50.117979Z",
     "iopub.status.idle": "2021-12-31T04:36:50.158019Z",
     "shell.execute_reply": "2021-12-31T04:36:50.158565Z",
     "shell.execute_reply.started": "2021-12-31T04:13:51.397188Z"
    },
    "papermill": {
     "duration": 0.072652,
     "end_time": "2021-12-31T04:36:50.158749",
     "exception": false,
     "start_time": "2021-12-31T04:36:50.086097",
     "status": "completed"
    },
    "tags": []
   },
   "outputs": [
    {
     "data": {
      "application/javascript": [
       "parent.postMessage({\"jupyterEvent\": \"custom.exercise_interaction\", \"data\": {\"outcomeType\": 1, \"valueTowardsCompletion\": 0.5, \"interactionType\": 1, \"questionType\": 2, \"questionId\": \"2.2_LabelB\", \"learnToolsVersion\": \"0.3.4\", \"failureMessage\": \"\", \"exceptionClass\": \"\", \"trace\": \"\"}}, \"*\")"
      ],
      "text/plain": [
       "<IPython.core.display.Javascript object>"
      ]
     },
     "metadata": {},
     "output_type": "display_data"
    },
    {
     "data": {
      "text/markdown": [
       "<span style=\"color:#33cc33\">Correct</span>"
      ],
      "text/plain": [
       "Correct"
      ]
     },
     "metadata": {},
     "output_type": "display_data"
    }
   ],
   "source": [
    "from sklearn.preprocessing import OrdinalEncoder\n",
    "\n",
    "# Drop categorical columns that will not be encoded\n",
    "label_X_train = X_train.drop(bad_label_cols, axis=1)\n",
    "label_X_valid = X_valid.drop(bad_label_cols, axis=1)\n",
    "\n",
    "# Apply ordinal encoder \n",
    "# Your code here\n",
    "ordinal_encoder = OrdinalEncoder()\n",
    "label_X_train[good_label_cols] = ordinal_encoder.fit_transform(X_train[good_label_cols])\n",
    "label_X_valid[good_label_cols] = ordinal_encoder.transform(X_valid[good_label_cols])\n",
    "    \n",
    "# Check your answer\n",
    "step_2.b.check()"
   ]
  },
  {
   "cell_type": "code",
   "execution_count": 14,
   "id": "70adc376",
   "metadata": {
    "execution": {
     "iopub.execute_input": "2021-12-31T04:36:50.224002Z",
     "iopub.status.busy": "2021-12-31T04:36:50.222769Z",
     "iopub.status.idle": "2021-12-31T04:36:50.225675Z",
     "shell.execute_reply": "2021-12-31T04:36:50.226211Z",
     "shell.execute_reply.started": "2021-12-31T04:13:51.450534Z"
    },
    "papermill": {
     "duration": 0.036247,
     "end_time": "2021-12-31T04:36:50.226372",
     "exception": false,
     "start_time": "2021-12-31T04:36:50.190125",
     "status": "completed"
    },
    "tags": []
   },
   "outputs": [],
   "source": [
    "# Lines below will give you a hint or solution code\n",
    "#step_2.b.hint()\n",
    "#step_2.b.solution()"
   ]
  },
  {
   "cell_type": "markdown",
   "id": "be0512c8",
   "metadata": {
    "papermill": {
     "duration": 0.029587,
     "end_time": "2021-12-31T04:36:50.285696",
     "exception": false,
     "start_time": "2021-12-31T04:36:50.256109",
     "status": "completed"
    },
    "tags": []
   },
   "source": [
    "Run the next code cell to get the MAE for this approach."
   ]
  },
  {
   "cell_type": "code",
   "execution_count": 15,
   "id": "f9425a01",
   "metadata": {
    "execution": {
     "iopub.execute_input": "2021-12-31T04:36:50.347711Z",
     "iopub.status.busy": "2021-12-31T04:36:50.347096Z",
     "iopub.status.idle": "2021-12-31T04:36:51.873011Z",
     "shell.execute_reply": "2021-12-31T04:36:51.873746Z",
     "shell.execute_reply.started": "2021-12-31T04:13:51.457032Z"
    },
    "papermill": {
     "duration": 1.558773,
     "end_time": "2021-12-31T04:36:51.873992",
     "exception": false,
     "start_time": "2021-12-31T04:36:50.315219",
     "status": "completed"
    },
    "tags": []
   },
   "outputs": [
    {
     "name": "stdout",
     "output_type": "stream",
     "text": [
      "MAE from Approach 2 (Ordinal Encoding):\n",
      "17098.01649543379\n"
     ]
    }
   ],
   "source": [
    "print(\"MAE from Approach 2 (Ordinal Encoding):\") \n",
    "print(score_dataset(label_X_train, label_X_valid, y_train, y_valid))"
   ]
  },
  {
   "cell_type": "markdown",
   "id": "df482b8e",
   "metadata": {
    "papermill": {
     "duration": 0.049081,
     "end_time": "2021-12-31T04:36:51.974447",
     "exception": false,
     "start_time": "2021-12-31T04:36:51.925366",
     "status": "completed"
    },
    "tags": []
   },
   "source": [
    "So far, you've tried two different approaches to dealing with categorical variables.  And, you've seen that encoding categorical data yields better results than removing columns from the dataset.\n",
    "\n",
    "Soon, you'll try one-hot encoding.  Before then, there's one additional topic we need to cover.  Begin by running the next code cell without changes.  "
   ]
  },
  {
   "cell_type": "code",
   "execution_count": 16,
   "id": "cbca25f3",
   "metadata": {
    "execution": {
     "iopub.execute_input": "2021-12-31T04:36:52.048449Z",
     "iopub.status.busy": "2021-12-31T04:36:52.047788Z",
     "iopub.status.idle": "2021-12-31T04:36:52.062084Z",
     "shell.execute_reply": "2021-12-31T04:36:52.062597Z",
     "shell.execute_reply.started": "2021-12-31T04:13:53.099524Z"
    },
    "papermill": {
     "duration": 0.05668,
     "end_time": "2021-12-31T04:36:52.062794",
     "exception": false,
     "start_time": "2021-12-31T04:36:52.006114",
     "status": "completed"
    },
    "tags": []
   },
   "outputs": [
    {
     "name": "stdout",
     "output_type": "stream",
     "text": [
      "{'MSZoning': 5, 'Street': 2, 'LotShape': 4, 'LandContour': 4, 'Utilities': 2, 'LotConfig': 5, 'LandSlope': 3, 'Neighborhood': 25, 'Condition1': 9, 'Condition2': 6, 'BldgType': 5, 'HouseStyle': 8, 'RoofStyle': 6, 'RoofMatl': 7, 'Exterior1st': 15, 'Exterior2nd': 16, 'ExterQual': 4, 'ExterCond': 5, 'Foundation': 6, 'Heating': 6, 'HeatingQC': 5, 'CentralAir': 2, 'KitchenQual': 4, 'Functional': 6, 'PavedDrive': 3, 'SaleType': 9, 'SaleCondition': 6}\n"
     ]
    }
   ],
   "source": [
    "# Get number of unique entries in each column with categorical data\n",
    "object_nunique = list(map(lambda col: X_train[col].nunique(), object_cols))\n",
    "d = dict(zip(object_cols, object_nunique))\n",
    "print(d)"
   ]
  },
  {
   "cell_type": "code",
   "execution_count": 17,
   "id": "688d9eec",
   "metadata": {
    "execution": {
     "iopub.execute_input": "2021-12-31T04:36:52.136021Z",
     "iopub.status.busy": "2021-12-31T04:36:52.132699Z",
     "iopub.status.idle": "2021-12-31T04:36:52.139596Z",
     "shell.execute_reply": "2021-12-31T04:36:52.140201Z",
     "shell.execute_reply.started": "2021-12-31T04:13:53.112315Z"
    },
    "papermill": {
     "duration": 0.046537,
     "end_time": "2021-12-31T04:36:52.140365",
     "exception": false,
     "start_time": "2021-12-31T04:36:52.093828",
     "status": "completed"
    },
    "tags": []
   },
   "outputs": [
    {
     "data": {
      "text/plain": [
       "[('Street', 2),\n",
       " ('Utilities', 2),\n",
       " ('CentralAir', 2),\n",
       " ('LandSlope', 3),\n",
       " ('PavedDrive', 3),\n",
       " ('LotShape', 4),\n",
       " ('LandContour', 4),\n",
       " ('ExterQual', 4),\n",
       " ('KitchenQual', 4),\n",
       " ('MSZoning', 5),\n",
       " ('LotConfig', 5),\n",
       " ('BldgType', 5),\n",
       " ('ExterCond', 5),\n",
       " ('HeatingQC', 5),\n",
       " ('Condition2', 6),\n",
       " ('RoofStyle', 6),\n",
       " ('Foundation', 6),\n",
       " ('Heating', 6),\n",
       " ('Functional', 6),\n",
       " ('SaleCondition', 6),\n",
       " ('RoofMatl', 7),\n",
       " ('HouseStyle', 8),\n",
       " ('Condition1', 9),\n",
       " ('SaleType', 9),\n",
       " ('Exterior1st', 15),\n",
       " ('Exterior2nd', 16),\n",
       " ('Neighborhood', 25)]"
      ]
     },
     "execution_count": 17,
     "metadata": {},
     "output_type": "execute_result"
    }
   ],
   "source": [
    "# Print number of unique entries by column, in ascending order\n",
    "sorted(d.items(), key=lambda x: x[1])"
   ]
  },
  {
   "cell_type": "markdown",
   "id": "f9f0a0cc",
   "metadata": {
    "papermill": {
     "duration": 0.036407,
     "end_time": "2021-12-31T04:36:52.218337",
     "exception": false,
     "start_time": "2021-12-31T04:36:52.181930",
     "status": "completed"
    },
    "tags": []
   },
   "source": [
    "# Step 3: Investigating cardinality\n",
    "\n",
    "### Part A\n",
    "\n",
    "The output above shows, for each column with categorical data, the number of unique values in the column.  For instance, the `'Street'` column in the training data has two unique values: `'Grvl'` and `'Pave'`, corresponding to a gravel road and a paved road, respectively.\n",
    "\n",
    "We refer to the number of unique entries of a categorical variable as the **cardinality** of that categorical variable.  For instance, the `'Street'` variable has cardinality 2.\n",
    "\n",
    "Use the output above to answer the questions below."
   ]
  },
  {
   "cell_type": "code",
   "execution_count": 18,
   "id": "29a71ea8",
   "metadata": {
    "execution": {
     "iopub.execute_input": "2021-12-31T04:36:52.289038Z",
     "iopub.status.busy": "2021-12-31T04:36:52.288166Z",
     "iopub.status.idle": "2021-12-31T04:36:52.295176Z",
     "shell.execute_reply": "2021-12-31T04:36:52.295977Z",
     "shell.execute_reply.started": "2021-12-31T04:13:53.123809Z"
    },
    "papermill": {
     "duration": 0.043724,
     "end_time": "2021-12-31T04:36:52.296193",
     "exception": false,
     "start_time": "2021-12-31T04:36:52.252469",
     "status": "completed"
    },
    "tags": []
   },
   "outputs": [
    {
     "data": {
      "application/javascript": [
       "parent.postMessage({\"jupyterEvent\": \"custom.exercise_interaction\", \"data\": {\"outcomeType\": 1, \"valueTowardsCompletion\": 0.5, \"interactionType\": 1, \"questionType\": 1, \"questionId\": \"3.1_CardinalityA\", \"learnToolsVersion\": \"0.3.4\", \"failureMessage\": \"\", \"exceptionClass\": \"\", \"trace\": \"\"}}, \"*\")"
      ],
      "text/plain": [
       "<IPython.core.display.Javascript object>"
      ]
     },
     "metadata": {},
     "output_type": "display_data"
    },
    {
     "data": {
      "text/markdown": [
       "<span style=\"color:#33cc33\">Correct</span>"
      ],
      "text/plain": [
       "Correct"
      ]
     },
     "metadata": {},
     "output_type": "display_data"
    }
   ],
   "source": [
    "# Fill in the line below: How many categorical variables in the training data\n",
    "# have cardinality greater than 10?\n",
    "high_cardinality_numcols = len(dict(filter(lambda x: x[1] > 10, d.items())))\n",
    "\n",
    "# Fill in the line below: How many columns are needed to one-hot encode the \n",
    "# 'Neighborhood' variable in the training data?\n",
    "num_cols_neighborhood = d['Neighborhood']\n",
    "\n",
    "# Check your answers\n",
    "step_3.a.check()"
   ]
  },
  {
   "cell_type": "code",
   "execution_count": 19,
   "id": "71b1a1cf",
   "metadata": {
    "execution": {
     "iopub.execute_input": "2021-12-31T04:36:52.374590Z",
     "iopub.status.busy": "2021-12-31T04:36:52.374028Z",
     "iopub.status.idle": "2021-12-31T04:36:52.376150Z",
     "shell.execute_reply": "2021-12-31T04:36:52.376682Z",
     "shell.execute_reply.started": "2021-12-31T04:13:53.139936Z"
    },
    "papermill": {
     "duration": 0.039873,
     "end_time": "2021-12-31T04:36:52.376859",
     "exception": false,
     "start_time": "2021-12-31T04:36:52.336986",
     "status": "completed"
    },
    "tags": []
   },
   "outputs": [],
   "source": [
    "# Lines below will give you a hint or solution code\n",
    "#step_3.a.hint()\n",
    "#step_3.a.solution()"
   ]
  },
  {
   "cell_type": "markdown",
   "id": "8f77f50f",
   "metadata": {
    "papermill": {
     "duration": 0.031293,
     "end_time": "2021-12-31T04:36:52.440354",
     "exception": false,
     "start_time": "2021-12-31T04:36:52.409061",
     "status": "completed"
    },
    "tags": []
   },
   "source": [
    "### Part B\n",
    "\n",
    "For large datasets with many rows, one-hot encoding can greatly expand the size of the dataset.  For this reason, we typically will only one-hot encode columns with relatively low cardinality.  Then, high cardinality columns can either be dropped from the dataset, or we can use ordinal encoding.\n",
    "\n",
    "As an example, consider a dataset with 10,000 rows, and containing one categorical column with 100 unique entries.  \n",
    "- If this column is replaced with the corresponding one-hot encoding, how many entries are added to the dataset?  \n",
    "- If we instead replace the column with the ordinal encoding, how many entries are added?  \n",
    "\n",
    "Use your answers to fill in the lines below."
   ]
  },
  {
   "cell_type": "code",
   "execution_count": 20,
   "id": "c9c3c1ba",
   "metadata": {
    "execution": {
     "iopub.execute_input": "2021-12-31T04:36:52.508754Z",
     "iopub.status.busy": "2021-12-31T04:36:52.507768Z",
     "iopub.status.idle": "2021-12-31T04:36:52.515192Z",
     "shell.execute_reply": "2021-12-31T04:36:52.515757Z",
     "shell.execute_reply.started": "2021-12-31T04:13:53.151244Z"
    },
    "papermill": {
     "duration": 0.044227,
     "end_time": "2021-12-31T04:36:52.515921",
     "exception": false,
     "start_time": "2021-12-31T04:36:52.471694",
     "status": "completed"
    },
    "tags": []
   },
   "outputs": [
    {
     "data": {
      "application/javascript": [
       "parent.postMessage({\"jupyterEvent\": \"custom.exercise_interaction\", \"data\": {\"outcomeType\": 1, \"valueTowardsCompletion\": 0.5, \"interactionType\": 1, \"questionType\": 1, \"questionId\": \"3.2_CardinalityB\", \"learnToolsVersion\": \"0.3.4\", \"failureMessage\": \"\", \"exceptionClass\": \"\", \"trace\": \"\"}}, \"*\")"
      ],
      "text/plain": [
       "<IPython.core.display.Javascript object>"
      ]
     },
     "metadata": {},
     "output_type": "display_data"
    },
    {
     "data": {
      "text/markdown": [
       "<span style=\"color:#33cc33\">Correct</span>"
      ],
      "text/plain": [
       "Correct"
      ]
     },
     "metadata": {},
     "output_type": "display_data"
    }
   ],
   "source": [
    "# Fill in the line below: How many entries are added to the dataset by \n",
    "# replacing the column with a one-hot encoding?\n",
    "OH_entries_added = 10000 * 100 - 10000\n",
    "\n",
    "# Fill in the line below: How many entries are added to the dataset by\n",
    "# replacing the column with an ordinal encoding?\n",
    "label_entries_added = 0\n",
    "\n",
    "# Check your answers\n",
    "step_3.b.check()"
   ]
  },
  {
   "cell_type": "code",
   "execution_count": 21,
   "id": "726aec84",
   "metadata": {
    "execution": {
     "iopub.execute_input": "2021-12-31T04:36:52.585892Z",
     "iopub.status.busy": "2021-12-31T04:36:52.584917Z",
     "iopub.status.idle": "2021-12-31T04:36:52.587193Z",
     "shell.execute_reply": "2021-12-31T04:36:52.586609Z",
     "shell.execute_reply.started": "2021-12-31T04:13:53.169980Z"
    },
    "papermill": {
     "duration": 0.039052,
     "end_time": "2021-12-31T04:36:52.587322",
     "exception": false,
     "start_time": "2021-12-31T04:36:52.548270",
     "status": "completed"
    },
    "tags": []
   },
   "outputs": [],
   "source": [
    "# Lines below will give you a hint or solution code\n",
    "#step_3.b.hint()\n",
    "#step_3.b.solution()"
   ]
  },
  {
   "cell_type": "markdown",
   "id": "ccd0fec2",
   "metadata": {
    "papermill": {
     "duration": 0.032192,
     "end_time": "2021-12-31T04:36:52.655419",
     "exception": false,
     "start_time": "2021-12-31T04:36:52.623227",
     "status": "completed"
    },
    "tags": []
   },
   "source": [
    "Next, you'll experiment with one-hot encoding.  But, instead of encoding all of the categorical variables in the dataset, you'll only create a one-hot encoding for columns with cardinality less than 10.\n",
    "\n",
    "Run the code cell below without changes to set `low_cardinality_cols` to a Python list containing the columns that will be one-hot encoded.  Likewise, `high_cardinality_cols` contains a list of categorical columns that will be dropped from the dataset."
   ]
  },
  {
   "cell_type": "code",
   "execution_count": 22,
   "id": "46d36369",
   "metadata": {
    "execution": {
     "iopub.execute_input": "2021-12-31T04:36:52.727091Z",
     "iopub.status.busy": "2021-12-31T04:36:52.725595Z",
     "iopub.status.idle": "2021-12-31T04:36:52.733495Z",
     "shell.execute_reply": "2021-12-31T04:36:52.734007Z",
     "shell.execute_reply.started": "2021-12-31T04:13:53.181675Z"
    },
    "papermill": {
     "duration": 0.046538,
     "end_time": "2021-12-31T04:36:52.734209",
     "exception": false,
     "start_time": "2021-12-31T04:36:52.687671",
     "status": "completed"
    },
    "tags": []
   },
   "outputs": [
    {
     "name": "stdout",
     "output_type": "stream",
     "text": [
      "Categorical columns that will be one-hot encoded: ['MSZoning', 'Street', 'LotShape', 'LandContour', 'Utilities', 'LotConfig', 'LandSlope', 'Condition1', 'Condition2', 'BldgType', 'HouseStyle', 'RoofStyle', 'RoofMatl', 'ExterQual', 'ExterCond', 'Foundation', 'Heating', 'HeatingQC', 'CentralAir', 'KitchenQual', 'Functional', 'PavedDrive', 'SaleType', 'SaleCondition']\n",
      "\n",
      "Categorical columns that will be dropped from the dataset: ['Exterior2nd', 'Neighborhood', 'Exterior1st']\n"
     ]
    }
   ],
   "source": [
    "# Columns that will be one-hot encoded\n",
    "low_cardinality_cols = [col for col in object_cols if X_train[col].nunique() < 10]\n",
    "\n",
    "# Columns that will be dropped from the dataset\n",
    "high_cardinality_cols = list(set(object_cols)-set(low_cardinality_cols))\n",
    "\n",
    "print('Categorical columns that will be one-hot encoded:', low_cardinality_cols)\n",
    "print('\\nCategorical columns that will be dropped from the dataset:', high_cardinality_cols)"
   ]
  },
  {
   "cell_type": "markdown",
   "id": "333a9418",
   "metadata": {
    "papermill": {
     "duration": 0.033057,
     "end_time": "2021-12-31T04:36:52.801314",
     "exception": false,
     "start_time": "2021-12-31T04:36:52.768257",
     "status": "completed"
    },
    "tags": []
   },
   "source": [
    "# Step 4: One-hot encoding\n",
    "\n",
    "Use the next code cell to one-hot encode the data in `X_train` and `X_valid`.  Set the preprocessed DataFrames to `OH_X_train` and `OH_X_valid`, respectively.  \n",
    "- The full list of categorical columns in the dataset can be found in the Python list `object_cols`.\n",
    "- You should only one-hot encode the categorical columns in `low_cardinality_cols`.  All other categorical columns should be dropped from the dataset. "
   ]
  },
  {
   "cell_type": "code",
   "execution_count": 23,
   "id": "43924196",
   "metadata": {
    "execution": {
     "iopub.execute_input": "2021-12-31T04:36:52.870798Z",
     "iopub.status.busy": "2021-12-31T04:36:52.870100Z",
     "iopub.status.idle": "2021-12-31T04:36:52.906405Z",
     "shell.execute_reply": "2021-12-31T04:36:52.905497Z",
     "shell.execute_reply.started": "2021-12-31T04:13:53.202363Z"
    },
    "papermill": {
     "duration": 0.072902,
     "end_time": "2021-12-31T04:36:52.906742",
     "exception": false,
     "start_time": "2021-12-31T04:36:52.833840",
     "status": "completed"
    },
    "tags": []
   },
   "outputs": [
    {
     "data": {
      "application/javascript": [
       "parent.postMessage({\"jupyterEvent\": \"custom.exercise_interaction\", \"data\": {\"outcomeType\": 1, \"valueTowardsCompletion\": 0.5, \"interactionType\": 1, \"questionType\": 2, \"questionId\": \"4_OneHot\", \"learnToolsVersion\": \"0.3.4\", \"failureMessage\": \"\", \"exceptionClass\": \"\", \"trace\": \"\"}}, \"*\")"
      ],
      "text/plain": [
       "<IPython.core.display.Javascript object>"
      ]
     },
     "metadata": {},
     "output_type": "display_data"
    },
    {
     "data": {
      "text/markdown": [
       "<span style=\"color:#33cc33\">Correct</span>"
      ],
      "text/plain": [
       "Correct"
      ]
     },
     "metadata": {},
     "output_type": "display_data"
    }
   ],
   "source": [
    "from sklearn.preprocessing import OneHotEncoder\n",
    "\n",
    "# Use as many lines of code as you need!\n",
    "\n",
    "# Apply one-hot encoder to each column with categorical data\n",
    "OH_encoder = OneHotEncoder(handle_unknown='ignore', sparse=False)\n",
    "OH_cols_train = pd.DataFrame(OH_encoder.fit_transform(X_train[low_cardinality_cols])) # Your code here\n",
    "OH_cols_valid = pd.DataFrame(OH_encoder.transform(X_valid[low_cardinality_cols])) # Your code here\n",
    "\n",
    "# One-hot encoding removed index; put it back\n",
    "OH_cols_train.index = X_train.index\n",
    "OH_cols_valid.index = X_valid.index\n",
    "\n",
    "# Remove categorical columns (will replace with one-hot encoding)\n",
    "num_X_train = X_train.drop(object_cols, axis=1)\n",
    "num_X_valid = X_valid.drop(object_cols, axis=1)\n",
    "\n",
    "# Add one-hot encoded columns to numerical features\n",
    "OH_X_train = pd.concat([num_X_train, OH_cols_train], axis=1)\n",
    "OH_X_valid = pd.concat([num_X_valid, OH_cols_valid], axis=1)\n",
    "\n",
    "\n",
    "# Check your answer\n",
    "step_4.check()"
   ]
  },
  {
   "cell_type": "code",
   "execution_count": 24,
   "id": "362b84d1",
   "metadata": {
    "execution": {
     "iopub.execute_input": "2021-12-31T04:36:52.981663Z",
     "iopub.status.busy": "2021-12-31T04:36:52.980865Z",
     "iopub.status.idle": "2021-12-31T04:36:52.983083Z",
     "shell.execute_reply": "2021-12-31T04:36:52.983680Z",
     "shell.execute_reply.started": "2021-12-31T04:13:53.255496Z"
    },
    "papermill": {
     "duration": 0.041065,
     "end_time": "2021-12-31T04:36:52.983860",
     "exception": false,
     "start_time": "2021-12-31T04:36:52.942795",
     "status": "completed"
    },
    "tags": []
   },
   "outputs": [],
   "source": [
    "# Lines below will give you a hint or solution code\n",
    "#step_4.hint()\n",
    "#step_4.solution()"
   ]
  },
  {
   "cell_type": "markdown",
   "id": "42c2ae8e",
   "metadata": {
    "papermill": {
     "duration": 0.03591,
     "end_time": "2021-12-31T04:36:53.054419",
     "exception": false,
     "start_time": "2021-12-31T04:36:53.018509",
     "status": "completed"
    },
    "tags": []
   },
   "source": [
    "Run the next code cell to get the MAE for this approach."
   ]
  },
  {
   "cell_type": "code",
   "execution_count": 25,
   "id": "74915dfe",
   "metadata": {
    "execution": {
     "iopub.execute_input": "2021-12-31T04:36:53.126409Z",
     "iopub.status.busy": "2021-12-31T04:36:53.125459Z",
     "iopub.status.idle": "2021-12-31T04:36:55.027266Z",
     "shell.execute_reply": "2021-12-31T04:36:55.026465Z",
     "shell.execute_reply.started": "2021-12-31T04:13:53.259853Z"
    },
    "papermill": {
     "duration": 1.939197,
     "end_time": "2021-12-31T04:36:55.027561",
     "exception": false,
     "start_time": "2021-12-31T04:36:53.088364",
     "status": "completed"
    },
    "tags": []
   },
   "outputs": [
    {
     "name": "stdout",
     "output_type": "stream",
     "text": [
      "MAE from Approach 3 (One-Hot Encoding):\n",
      "17525.345719178084\n"
     ]
    }
   ],
   "source": [
    "print(\"MAE from Approach 3 (One-Hot Encoding):\") \n",
    "print(score_dataset(OH_X_train, OH_X_valid, y_train, y_valid))"
   ]
  },
  {
   "cell_type": "markdown",
   "id": "0ca42745",
   "metadata": {
    "papermill": {
     "duration": 0.036386,
     "end_time": "2021-12-31T04:36:55.098983",
     "exception": false,
     "start_time": "2021-12-31T04:36:55.062597",
     "status": "completed"
    },
    "tags": []
   },
   "source": [
    "# Generate test predictions and submit your results\n",
    "\n",
    "After you complete Step 4, if you'd like to use what you've learned to submit your results to the leaderboard, you'll need to preprocess the test data before generating predictions.\n",
    "\n",
    "**This step is completely optional, and you do not need to submit results to the leaderboard to successfully complete the exercise.**\n",
    "\n",
    "Check out the previous exercise if you need help with remembering how to [join the competition](https://www.kaggle.com/c/home-data-for-ml-course) or save your results to CSV.  Once you have generated a file with your results, follow the instructions below:\n",
    "1. Begin by clicking on the **Save Version** button in the top right corner of the window.  This will generate a pop-up window.  \n",
    "2. Ensure that the **Save and Run All** option is selected, and then click on the **Save** button.\n",
    "3. This generates a window in the bottom left corner of the notebook.  After it has finished running, click on the number to the right of the **Save Version** button.  This pulls up a list of versions on the right of the screen.  Click on the ellipsis **(...)** to the right of the most recent version, and select **Open in Viewer**.  This brings you into view mode of the same page. You will need to scroll down to get back to these instructions.\n",
    "4. Click on the **Output** tab on the right of the screen.  Then, click on the file you would like to submit, and click on the **Submit** button to submit your results to the leaderboard.\n",
    "\n",
    "You have now successfully submitted to the competition!\n",
    "\n",
    "If you want to keep working to improve your performance, select the **Edit** button in the top right of the screen. Then you can change your code and repeat the process. There's a lot of room to improve, and you will climb up the leaderboard as you work.\n"
   ]
  },
  {
   "cell_type": "code",
   "execution_count": 26,
   "id": "3d77a46d",
   "metadata": {
    "execution": {
     "iopub.execute_input": "2021-12-31T04:36:55.175223Z",
     "iopub.status.busy": "2021-12-31T04:36:55.174584Z",
     "iopub.status.idle": "2021-12-31T04:36:55.180293Z",
     "shell.execute_reply": "2021-12-31T04:36:55.180784Z",
     "shell.execute_reply.started": "2021-12-31T04:13:55.219497Z"
    },
    "papermill": {
     "duration": 0.044393,
     "end_time": "2021-12-31T04:36:55.180957",
     "exception": false,
     "start_time": "2021-12-31T04:36:55.136564",
     "status": "completed"
    },
    "tags": []
   },
   "outputs": [
    {
     "data": {
      "text/plain": [
       "Index(['MSSubClass', 'MSZoning', 'LotArea', 'Street', 'LotShape',\n",
       "       'LandContour', 'Utilities', 'LotConfig', 'LandSlope', 'Neighborhood',\n",
       "       'Condition1', 'Condition2', 'BldgType', 'HouseStyle', 'OverallQual',\n",
       "       'OverallCond', 'YearBuilt', 'YearRemodAdd', 'RoofStyle', 'RoofMatl',\n",
       "       'Exterior1st', 'Exterior2nd', 'ExterQual', 'ExterCond', 'Foundation',\n",
       "       'BsmtFinSF1', 'BsmtFinSF2', 'BsmtUnfSF', 'TotalBsmtSF', 'Heating',\n",
       "       'HeatingQC', 'CentralAir', '1stFlrSF', '2ndFlrSF', 'LowQualFinSF',\n",
       "       'GrLivArea', 'BsmtFullBath', 'BsmtHalfBath', 'FullBath', 'HalfBath',\n",
       "       'BedroomAbvGr', 'KitchenAbvGr', 'KitchenQual', 'TotRmsAbvGrd',\n",
       "       'Functional', 'Fireplaces', 'GarageCars', 'GarageArea', 'PavedDrive',\n",
       "       'WoodDeckSF', 'OpenPorchSF', 'EnclosedPorch', '3SsnPorch',\n",
       "       'ScreenPorch', 'PoolArea', 'MiscVal', 'MoSold', 'YrSold', 'SaleType',\n",
       "       'SaleCondition'],\n",
       "      dtype='object')"
      ]
     },
     "execution_count": 26,
     "metadata": {},
     "output_type": "execute_result"
    }
   ],
   "source": [
    "X_test.columns"
   ]
  },
  {
   "cell_type": "code",
   "execution_count": 27,
   "id": "b01b9b1c",
   "metadata": {
    "execution": {
     "iopub.execute_input": "2021-12-31T04:36:55.252388Z",
     "iopub.status.busy": "2021-12-31T04:36:55.251793Z",
     "iopub.status.idle": "2021-12-31T04:36:55.298295Z",
     "shell.execute_reply": "2021-12-31T04:36:55.298764Z",
     "shell.execute_reply.started": "2021-12-31T04:27:18.438431Z"
    },
    "papermill": {
     "duration": 0.083807,
     "end_time": "2021-12-31T04:36:55.298951",
     "exception": false,
     "start_time": "2021-12-31T04:36:55.215144",
     "status": "completed"
    },
    "tags": []
   },
   "outputs": [],
   "source": [
    "# Impute missing values\n",
    "X_test = X_test.apply(lambda x:x.fillna(x.value_counts().index[0]))"
   ]
  },
  {
   "cell_type": "code",
   "execution_count": 28,
   "id": "60c6ceff",
   "metadata": {
    "execution": {
     "iopub.execute_input": "2021-12-31T04:36:55.387785Z",
     "iopub.status.busy": "2021-12-31T04:36:55.379476Z",
     "iopub.status.idle": "2021-12-31T04:36:55.395136Z",
     "shell.execute_reply": "2021-12-31T04:36:55.394589Z",
     "shell.execute_reply.started": "2021-12-31T04:28:28.771644Z"
    },
    "papermill": {
     "duration": 0.061936,
     "end_time": "2021-12-31T04:36:55.395270",
     "exception": false,
     "start_time": "2021-12-31T04:36:55.333334",
     "status": "completed"
    },
    "tags": []
   },
   "outputs": [],
   "source": [
    "# (Optional)\n",
    "OH_cols_test = pd.DataFrame(OH_encoder.transform(X_test[low_cardinality_cols]))\n",
    "\n",
    "# One-hot encoding removed index; put it back\n",
    "OH_cols_test.index = X_test.index\n",
    "\n",
    "# Remove categorical columns (will replace with one-hot encoding)\n",
    "num_X_test = X_test.drop(object_cols, axis=1)\n",
    "\n",
    "# Add one-hot encoded columns to numerical features\n",
    "OH_X_test = pd.concat([num_X_test, OH_cols_test], axis=1)"
   ]
  },
  {
   "cell_type": "code",
   "execution_count": 29,
   "id": "5c9a0d31",
   "metadata": {
    "execution": {
     "iopub.execute_input": "2021-12-31T04:36:55.471913Z",
     "iopub.status.busy": "2021-12-31T04:36:55.471167Z",
     "iopub.status.idle": "2021-12-31T04:36:57.370118Z",
     "shell.execute_reply": "2021-12-31T04:36:57.369590Z",
     "shell.execute_reply.started": "2021-12-31T04:28:49.387301Z"
    },
    "papermill": {
     "duration": 1.940797,
     "end_time": "2021-12-31T04:36:57.370265",
     "exception": false,
     "start_time": "2021-12-31T04:36:55.429468",
     "status": "completed"
    },
    "tags": []
   },
   "outputs": [],
   "source": [
    "model = RandomForestRegressor(n_estimators=100, random_state=0)\n",
    "model.fit(OH_X_train, y_train)\n",
    "preds_test = model.predict(OH_X_test)"
   ]
  },
  {
   "cell_type": "code",
   "execution_count": 30,
   "id": "ec5146fc",
   "metadata": {
    "execution": {
     "iopub.execute_input": "2021-12-31T04:36:57.446357Z",
     "iopub.status.busy": "2021-12-31T04:36:57.445774Z",
     "iopub.status.idle": "2021-12-31T04:36:57.455962Z",
     "shell.execute_reply": "2021-12-31T04:36:57.456456Z",
     "shell.execute_reply.started": "2021-12-31T04:31:49.378522Z"
    },
    "papermill": {
     "duration": 0.051496,
     "end_time": "2021-12-31T04:36:57.456628",
     "exception": false,
     "start_time": "2021-12-31T04:36:57.405132",
     "status": "completed"
    },
    "tags": []
   },
   "outputs": [],
   "source": [
    "# Save test predictions to file\n",
    "output = pd.DataFrame({'Id': X_test.index,\n",
    "                       'SalePrice': preds_test})\n",
    "output.to_csv('submission.csv', index=False)"
   ]
  },
  {
   "cell_type": "markdown",
   "id": "bf4a58fa",
   "metadata": {
    "papermill": {
     "duration": 0.047206,
     "end_time": "2021-12-31T04:36:57.549127",
     "exception": false,
     "start_time": "2021-12-31T04:36:57.501921",
     "status": "completed"
    },
    "tags": []
   },
   "source": [
    "# Keep going\n",
    "\n",
    "With missing value handling and categorical encoding, your modeling process is getting complex. This complexity gets worse when you want to save your model to use in the future. The key to managing this complexity is something called **pipelines**. \n",
    "\n",
    "**[Learn to use pipelines](https://www.kaggle.com/alexisbcook/pipelines)** to preprocess datasets with categorical variables, missing values and any other messiness your data throws at you."
   ]
  },
  {
   "cell_type": "markdown",
   "id": "5cce0c95",
   "metadata": {
    "papermill": {
     "duration": 0.040877,
     "end_time": "2021-12-31T04:36:57.640408",
     "exception": false,
     "start_time": "2021-12-31T04:36:57.599531",
     "status": "completed"
    },
    "tags": []
   },
   "source": [
    "---\n",
    "\n",
    "\n",
    "\n",
    "\n",
    "*Have questions or comments? Visit the [course discussion forum](https://www.kaggle.com/learn/intermediate-machine-learning/discussion) to chat with other learners.*"
   ]
  }
 ],
 "metadata": {
  "kernelspec": {
   "display_name": "Python 3",
   "language": "python",
   "name": "python3"
  },
  "language_info": {
   "codemirror_mode": {
    "name": "ipython",
    "version": 3
   },
   "file_extension": ".py",
   "mimetype": "text/x-python",
   "name": "python",
   "nbconvert_exporter": "python",
   "pygments_lexer": "ipython3",
   "version": "3.7.12"
  },
  "papermill": {
   "default_parameters": {},
   "duration": 21.192985,
   "end_time": "2021-12-31T04:36:58.391818",
   "environment_variables": {},
   "exception": null,
   "input_path": "__notebook__.ipynb",
   "output_path": "__notebook__.ipynb",
   "parameters": {},
   "start_time": "2021-12-31T04:36:37.198833",
   "version": "2.3.3"
  }
 },
 "nbformat": 4,
 "nbformat_minor": 5
}

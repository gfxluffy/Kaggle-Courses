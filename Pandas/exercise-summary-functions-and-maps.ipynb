{
 "cells": [
  {
   "cell_type": "markdown",
   "id": "ef6b1868",
   "metadata": {
    "papermill": {
     "duration": 0.019857,
     "end_time": "2021-12-01T19:25:44.808112",
     "exception": false,
     "start_time": "2021-12-01T19:25:44.788255",
     "status": "completed"
    },
    "tags": []
   },
   "source": [
    "**This notebook is an exercise in the [Pandas](https://www.kaggle.com/learn/pandas) course.  You can reference the tutorial at [this link](https://www.kaggle.com/residentmario/summary-functions-and-maps).**\n",
    "\n",
    "---\n"
   ]
  },
  {
   "cell_type": "markdown",
   "id": "c57e740a",
   "metadata": {
    "papermill": {
     "duration": 0.017501,
     "end_time": "2021-12-01T19:25:44.843801",
     "exception": false,
     "start_time": "2021-12-01T19:25:44.826300",
     "status": "completed"
    },
    "tags": []
   },
   "source": [
    "# Introduction\n",
    "\n",
    "Now you are ready to get a deeper understanding of your data.\n",
    "\n",
    "Run the following cell to load your data and some utility functions (including code to check your answers)."
   ]
  },
  {
   "cell_type": "code",
   "execution_count": 1,
   "id": "f70e9555",
   "metadata": {
    "execution": {
     "iopub.execute_input": "2021-12-01T19:25:44.890343Z",
     "iopub.status.busy": "2021-12-01T19:25:44.889414Z",
     "iopub.status.idle": "2021-12-01T19:25:52.900207Z",
     "shell.execute_reply": "2021-12-01T19:25:52.900786Z",
     "shell.execute_reply.started": "2021-12-01T18:34:03.963378Z"
    },
    "papermill": {
     "duration": 8.037471,
     "end_time": "2021-12-01T19:25:52.901090",
     "exception": false,
     "start_time": "2021-12-01T19:25:44.863619",
     "status": "completed"
    },
    "tags": []
   },
   "outputs": [
    {
     "name": "stdout",
     "output_type": "stream",
     "text": [
      "Setup complete.\n"
     ]
    },
    {
     "data": {
      "text/html": [
       "<div>\n",
       "<style scoped>\n",
       "    .dataframe tbody tr th:only-of-type {\n",
       "        vertical-align: middle;\n",
       "    }\n",
       "\n",
       "    .dataframe tbody tr th {\n",
       "        vertical-align: top;\n",
       "    }\n",
       "\n",
       "    .dataframe thead th {\n",
       "        text-align: right;\n",
       "    }\n",
       "</style>\n",
       "<table border=\"1\" class=\"dataframe\">\n",
       "  <thead>\n",
       "    <tr style=\"text-align: right;\">\n",
       "      <th></th>\n",
       "      <th>country</th>\n",
       "      <th>description</th>\n",
       "      <th>designation</th>\n",
       "      <th>points</th>\n",
       "      <th>price</th>\n",
       "      <th>province</th>\n",
       "      <th>region_1</th>\n",
       "      <th>region_2</th>\n",
       "      <th>taster_name</th>\n",
       "      <th>taster_twitter_handle</th>\n",
       "      <th>title</th>\n",
       "      <th>variety</th>\n",
       "      <th>winery</th>\n",
       "    </tr>\n",
       "  </thead>\n",
       "  <tbody>\n",
       "    <tr>\n",
       "      <th>0</th>\n",
       "      <td>Italy</td>\n",
       "      <td>Aromas include tropical fruit, broom, brimston...</td>\n",
       "      <td>Vulkà Bianco</td>\n",
       "      <td>87</td>\n",
       "      <td>NaN</td>\n",
       "      <td>Sicily &amp; Sardinia</td>\n",
       "      <td>Etna</td>\n",
       "      <td>NaN</td>\n",
       "      <td>Kerin O’Keefe</td>\n",
       "      <td>@kerinokeefe</td>\n",
       "      <td>Nicosia 2013 Vulkà Bianco  (Etna)</td>\n",
       "      <td>White Blend</td>\n",
       "      <td>Nicosia</td>\n",
       "    </tr>\n",
       "    <tr>\n",
       "      <th>1</th>\n",
       "      <td>Portugal</td>\n",
       "      <td>This is ripe and fruity, a wine that is smooth...</td>\n",
       "      <td>Avidagos</td>\n",
       "      <td>87</td>\n",
       "      <td>15.0</td>\n",
       "      <td>Douro</td>\n",
       "      <td>NaN</td>\n",
       "      <td>NaN</td>\n",
       "      <td>Roger Voss</td>\n",
       "      <td>@vossroger</td>\n",
       "      <td>Quinta dos Avidagos 2011 Avidagos Red (Douro)</td>\n",
       "      <td>Portuguese Red</td>\n",
       "      <td>Quinta dos Avidagos</td>\n",
       "    </tr>\n",
       "    <tr>\n",
       "      <th>2</th>\n",
       "      <td>US</td>\n",
       "      <td>Tart and snappy, the flavors of lime flesh and...</td>\n",
       "      <td>NaN</td>\n",
       "      <td>87</td>\n",
       "      <td>14.0</td>\n",
       "      <td>Oregon</td>\n",
       "      <td>Willamette Valley</td>\n",
       "      <td>Willamette Valley</td>\n",
       "      <td>Paul Gregutt</td>\n",
       "      <td>@paulgwine</td>\n",
       "      <td>Rainstorm 2013 Pinot Gris (Willamette Valley)</td>\n",
       "      <td>Pinot Gris</td>\n",
       "      <td>Rainstorm</td>\n",
       "    </tr>\n",
       "    <tr>\n",
       "      <th>3</th>\n",
       "      <td>US</td>\n",
       "      <td>Pineapple rind, lemon pith and orange blossom ...</td>\n",
       "      <td>Reserve Late Harvest</td>\n",
       "      <td>87</td>\n",
       "      <td>13.0</td>\n",
       "      <td>Michigan</td>\n",
       "      <td>Lake Michigan Shore</td>\n",
       "      <td>NaN</td>\n",
       "      <td>Alexander Peartree</td>\n",
       "      <td>NaN</td>\n",
       "      <td>St. Julian 2013 Reserve Late Harvest Riesling ...</td>\n",
       "      <td>Riesling</td>\n",
       "      <td>St. Julian</td>\n",
       "    </tr>\n",
       "    <tr>\n",
       "      <th>4</th>\n",
       "      <td>US</td>\n",
       "      <td>Much like the regular bottling from 2012, this...</td>\n",
       "      <td>Vintner's Reserve Wild Child Block</td>\n",
       "      <td>87</td>\n",
       "      <td>65.0</td>\n",
       "      <td>Oregon</td>\n",
       "      <td>Willamette Valley</td>\n",
       "      <td>Willamette Valley</td>\n",
       "      <td>Paul Gregutt</td>\n",
       "      <td>@paulgwine</td>\n",
       "      <td>Sweet Cheeks 2012 Vintner's Reserve Wild Child...</td>\n",
       "      <td>Pinot Noir</td>\n",
       "      <td>Sweet Cheeks</td>\n",
       "    </tr>\n",
       "  </tbody>\n",
       "</table>\n",
       "</div>"
      ],
      "text/plain": [
       "    country                                        description  \\\n",
       "0     Italy  Aromas include tropical fruit, broom, brimston...   \n",
       "1  Portugal  This is ripe and fruity, a wine that is smooth...   \n",
       "2        US  Tart and snappy, the flavors of lime flesh and...   \n",
       "3        US  Pineapple rind, lemon pith and orange blossom ...   \n",
       "4        US  Much like the regular bottling from 2012, this...   \n",
       "\n",
       "                          designation  points  price           province  \\\n",
       "0                        Vulkà Bianco      87    NaN  Sicily & Sardinia   \n",
       "1                            Avidagos      87   15.0              Douro   \n",
       "2                                 NaN      87   14.0             Oregon   \n",
       "3                Reserve Late Harvest      87   13.0           Michigan   \n",
       "4  Vintner's Reserve Wild Child Block      87   65.0             Oregon   \n",
       "\n",
       "              region_1           region_2         taster_name  \\\n",
       "0                 Etna                NaN       Kerin O’Keefe   \n",
       "1                  NaN                NaN          Roger Voss   \n",
       "2    Willamette Valley  Willamette Valley        Paul Gregutt   \n",
       "3  Lake Michigan Shore                NaN  Alexander Peartree   \n",
       "4    Willamette Valley  Willamette Valley        Paul Gregutt   \n",
       "\n",
       "  taster_twitter_handle                                              title  \\\n",
       "0          @kerinokeefe                  Nicosia 2013 Vulkà Bianco  (Etna)   \n",
       "1            @vossroger      Quinta dos Avidagos 2011 Avidagos Red (Douro)   \n",
       "2           @paulgwine       Rainstorm 2013 Pinot Gris (Willamette Valley)   \n",
       "3                   NaN  St. Julian 2013 Reserve Late Harvest Riesling ...   \n",
       "4           @paulgwine   Sweet Cheeks 2012 Vintner's Reserve Wild Child...   \n",
       "\n",
       "          variety               winery  \n",
       "0     White Blend              Nicosia  \n",
       "1  Portuguese Red  Quinta dos Avidagos  \n",
       "2      Pinot Gris            Rainstorm  \n",
       "3        Riesling           St. Julian  \n",
       "4      Pinot Noir         Sweet Cheeks  "
      ]
     },
     "execution_count": 1,
     "metadata": {},
     "output_type": "execute_result"
    }
   ],
   "source": [
    "import pandas as pd\n",
    "pd.set_option(\"display.max_rows\", 5)\n",
    "reviews = pd.read_csv(\"../input/wine-reviews/winemag-data-130k-v2.csv\", index_col=0)\n",
    "\n",
    "from learntools.core import binder; binder.bind(globals())\n",
    "from learntools.pandas.summary_functions_and_maps import *\n",
    "print(\"Setup complete.\")\n",
    "\n",
    "reviews.head()"
   ]
  },
  {
   "cell_type": "markdown",
   "id": "d6b1153f",
   "metadata": {
    "papermill": {
     "duration": 0.019523,
     "end_time": "2021-12-01T19:25:52.940163",
     "exception": false,
     "start_time": "2021-12-01T19:25:52.920640",
     "status": "completed"
    },
    "tags": []
   },
   "source": [
    "# Exercises"
   ]
  },
  {
   "cell_type": "markdown",
   "id": "8b1921ad",
   "metadata": {
    "papermill": {
     "duration": 0.018571,
     "end_time": "2021-12-01T19:25:52.978336",
     "exception": false,
     "start_time": "2021-12-01T19:25:52.959765",
     "status": "completed"
    },
    "tags": []
   },
   "source": [
    "## 1.\n",
    "\n",
    "What is the median of the `points` column in the `reviews` DataFrame?"
   ]
  },
  {
   "cell_type": "code",
   "execution_count": 2,
   "id": "a38fed38",
   "metadata": {
    "execution": {
     "iopub.execute_input": "2021-12-01T19:25:53.022906Z",
     "iopub.status.busy": "2021-12-01T19:25:53.021783Z",
     "iopub.status.idle": "2021-12-01T19:25:53.028356Z",
     "shell.execute_reply": "2021-12-01T19:25:53.028917Z",
     "shell.execute_reply.started": "2021-12-01T18:35:34.797305Z"
    },
    "papermill": {
     "duration": 0.03164,
     "end_time": "2021-12-01T19:25:53.029076",
     "exception": false,
     "start_time": "2021-12-01T19:25:52.997436",
     "status": "completed"
    },
    "tags": []
   },
   "outputs": [
    {
     "data": {
      "application/javascript": [
       "parent.postMessage({\"jupyterEvent\": \"custom.exercise_interaction\", \"data\": {\"outcomeType\": 1, \"valueTowardsCompletion\": 0.14285714285714285, \"interactionType\": 1, \"questionType\": 1, \"questionId\": \"1_MedianPoints\", \"learnToolsVersion\": \"0.3.4\", \"failureMessage\": \"\", \"exceptionClass\": \"\", \"trace\": \"\"}}, \"*\")"
      ],
      "text/plain": [
       "<IPython.core.display.Javascript object>"
      ]
     },
     "metadata": {},
     "output_type": "display_data"
    },
    {
     "data": {
      "text/markdown": [
       "<span style=\"color:#33cc33\">Correct</span>"
      ],
      "text/plain": [
       "Correct"
      ]
     },
     "metadata": {},
     "output_type": "display_data"
    }
   ],
   "source": [
    "median_points = reviews.points.median()\n",
    "\n",
    "# Check your answer\n",
    "q1.check()"
   ]
  },
  {
   "cell_type": "code",
   "execution_count": 3,
   "id": "b1f9476c",
   "metadata": {
    "execution": {
     "iopub.execute_input": "2021-12-01T19:25:53.073455Z",
     "iopub.status.busy": "2021-12-01T19:25:53.072698Z",
     "iopub.status.idle": "2021-12-01T19:25:53.075387Z",
     "shell.execute_reply": "2021-12-01T19:25:53.074893Z"
    },
    "papermill": {
     "duration": 0.026416,
     "end_time": "2021-12-01T19:25:53.075521",
     "exception": false,
     "start_time": "2021-12-01T19:25:53.049105",
     "status": "completed"
    },
    "tags": []
   },
   "outputs": [],
   "source": [
    "#q1.hint()\n",
    "#q1.solution()"
   ]
  },
  {
   "cell_type": "markdown",
   "id": "3ea96a94",
   "metadata": {
    "papermill": {
     "duration": 0.019508,
     "end_time": "2021-12-01T19:25:53.115007",
     "exception": false,
     "start_time": "2021-12-01T19:25:53.095499",
     "status": "completed"
    },
    "tags": []
   },
   "source": [
    "## 2. \n",
    "What countries are represented in the dataset? (Your answer should not include any duplicates.)"
   ]
  },
  {
   "cell_type": "code",
   "execution_count": 4,
   "id": "874ac4da",
   "metadata": {
    "execution": {
     "iopub.execute_input": "2021-12-01T19:25:53.157844Z",
     "iopub.status.busy": "2021-12-01T19:25:53.157217Z",
     "iopub.status.idle": "2021-12-01T19:25:53.176768Z",
     "shell.execute_reply": "2021-12-01T19:25:53.177345Z",
     "shell.execute_reply.started": "2021-12-01T18:35:45.612413Z"
    },
    "papermill": {
     "duration": 0.042606,
     "end_time": "2021-12-01T19:25:53.177509",
     "exception": false,
     "start_time": "2021-12-01T19:25:53.134903",
     "status": "completed"
    },
    "tags": []
   },
   "outputs": [
    {
     "data": {
      "application/javascript": [
       "parent.postMessage({\"jupyterEvent\": \"custom.exercise_interaction\", \"data\": {\"outcomeType\": 1, \"valueTowardsCompletion\": 0.14285714285714285, \"interactionType\": 1, \"questionType\": 2, \"questionId\": \"2_UniqueCountries\", \"learnToolsVersion\": \"0.3.4\", \"failureMessage\": \"\", \"exceptionClass\": \"\", \"trace\": \"\"}}, \"*\")"
      ],
      "text/plain": [
       "<IPython.core.display.Javascript object>"
      ]
     },
     "metadata": {},
     "output_type": "display_data"
    },
    {
     "data": {
      "text/markdown": [
       "<span style=\"color:#33cc33\">Correct</span>"
      ],
      "text/plain": [
       "Correct"
      ]
     },
     "metadata": {},
     "output_type": "display_data"
    }
   ],
   "source": [
    "countries = reviews.country.unique()\n",
    "\n",
    "# Check your answer\n",
    "q2.check()"
   ]
  },
  {
   "cell_type": "code",
   "execution_count": 5,
   "id": "0f31b249",
   "metadata": {
    "execution": {
     "iopub.execute_input": "2021-12-01T19:25:53.221962Z",
     "iopub.status.busy": "2021-12-01T19:25:53.221359Z",
     "iopub.status.idle": "2021-12-01T19:25:53.224028Z",
     "shell.execute_reply": "2021-12-01T19:25:53.224656Z"
    },
    "papermill": {
     "duration": 0.026473,
     "end_time": "2021-12-01T19:25:53.224833",
     "exception": false,
     "start_time": "2021-12-01T19:25:53.198360",
     "status": "completed"
    },
    "tags": []
   },
   "outputs": [],
   "source": [
    "#q2.hint()\n",
    "#q2.solution()"
   ]
  },
  {
   "cell_type": "markdown",
   "id": "2c57eb47",
   "metadata": {
    "papermill": {
     "duration": 0.020562,
     "end_time": "2021-12-01T19:25:53.266500",
     "exception": false,
     "start_time": "2021-12-01T19:25:53.245938",
     "status": "completed"
    },
    "tags": []
   },
   "source": [
    "## 3.\n",
    "How often does each country appear in the dataset? Create a Series `reviews_per_country` mapping countries to the count of reviews of wines from that country."
   ]
  },
  {
   "cell_type": "code",
   "execution_count": 6,
   "id": "639f77c6",
   "metadata": {
    "execution": {
     "iopub.execute_input": "2021-12-01T19:25:53.311358Z",
     "iopub.status.busy": "2021-12-01T19:25:53.310767Z",
     "iopub.status.idle": "2021-12-01T19:25:53.335691Z",
     "shell.execute_reply": "2021-12-01T19:25:53.336216Z",
     "shell.execute_reply.started": "2021-12-01T18:35:57.521699Z"
    },
    "papermill": {
     "duration": 0.048966,
     "end_time": "2021-12-01T19:25:53.336387",
     "exception": false,
     "start_time": "2021-12-01T19:25:53.287421",
     "status": "completed"
    },
    "tags": []
   },
   "outputs": [
    {
     "data": {
      "application/javascript": [
       "parent.postMessage({\"jupyterEvent\": \"custom.exercise_interaction\", \"data\": {\"outcomeType\": 1, \"valueTowardsCompletion\": 0.14285714285714285, \"interactionType\": 1, \"questionType\": 1, \"questionId\": \"3_ReviewsPerCountry\", \"learnToolsVersion\": \"0.3.4\", \"failureMessage\": \"\", \"exceptionClass\": \"\", \"trace\": \"\"}}, \"*\")"
      ],
      "text/plain": [
       "<IPython.core.display.Javascript object>"
      ]
     },
     "metadata": {},
     "output_type": "display_data"
    },
    {
     "data": {
      "text/markdown": [
       "<span style=\"color:#33cc33\">Correct</span>"
      ],
      "text/plain": [
       "Correct"
      ]
     },
     "metadata": {},
     "output_type": "display_data"
    }
   ],
   "source": [
    "reviews_per_country = reviews.country.value_counts()\n",
    "\n",
    "# Check your answer\n",
    "q3.check()"
   ]
  },
  {
   "cell_type": "code",
   "execution_count": 7,
   "id": "68b75d64",
   "metadata": {
    "execution": {
     "iopub.execute_input": "2021-12-01T19:25:53.383423Z",
     "iopub.status.busy": "2021-12-01T19:25:53.382796Z",
     "iopub.status.idle": "2021-12-01T19:25:53.385147Z",
     "shell.execute_reply": "2021-12-01T19:25:53.385638Z"
    },
    "papermill": {
     "duration": 0.027436,
     "end_time": "2021-12-01T19:25:53.385787",
     "exception": false,
     "start_time": "2021-12-01T19:25:53.358351",
     "status": "completed"
    },
    "tags": []
   },
   "outputs": [],
   "source": [
    "#q3.hint()\n",
    "#q3.solution()"
   ]
  },
  {
   "cell_type": "markdown",
   "id": "001b6e14",
   "metadata": {
    "papermill": {
     "duration": 0.021408,
     "end_time": "2021-12-01T19:25:53.429356",
     "exception": false,
     "start_time": "2021-12-01T19:25:53.407948",
     "status": "completed"
    },
    "tags": []
   },
   "source": [
    "## 4.\n",
    "Create variable `centered_price` containing a version of the `price` column with the mean price subtracted.\n",
    "\n",
    "(Note: this 'centering' transformation is a common preprocessing step before applying various machine learning algorithms.) "
   ]
  },
  {
   "cell_type": "code",
   "execution_count": 8,
   "id": "51348a53",
   "metadata": {
    "execution": {
     "iopub.execute_input": "2021-12-01T19:25:53.481728Z",
     "iopub.status.busy": "2021-12-01T19:25:53.481074Z",
     "iopub.status.idle": "2021-12-01T19:26:32.297741Z",
     "shell.execute_reply": "2021-12-01T19:26:32.297211Z",
     "shell.execute_reply.started": "2021-12-01T18:37:01.144888Z"
    },
    "papermill": {
     "duration": 38.846614,
     "end_time": "2021-12-01T19:26:32.297882",
     "exception": false,
     "start_time": "2021-12-01T19:25:53.451268",
     "status": "completed"
    },
    "tags": []
   },
   "outputs": [
    {
     "data": {
      "application/javascript": [
       "parent.postMessage({\"jupyterEvent\": \"custom.exercise_interaction\", \"data\": {\"outcomeType\": 1, \"valueTowardsCompletion\": 0.14285714285714285, \"interactionType\": 1, \"questionType\": 1, \"questionId\": \"4_CenteredPrice\", \"learnToolsVersion\": \"0.3.4\", \"failureMessage\": \"\", \"exceptionClass\": \"\", \"trace\": \"\"}}, \"*\")"
      ],
      "text/plain": [
       "<IPython.core.display.Javascript object>"
      ]
     },
     "metadata": {},
     "output_type": "display_data"
    },
    {
     "data": {
      "text/markdown": [
       "<span style=\"color:#33cc33\">Correct</span>"
      ],
      "text/plain": [
       "Correct"
      ]
     },
     "metadata": {},
     "output_type": "display_data"
    }
   ],
   "source": [
    "centered_price = reviews.price.map(lambda p: p - reviews.price.mean())\n",
    "\n",
    "# Check your answer\n",
    "q4.check()"
   ]
  },
  {
   "cell_type": "code",
   "execution_count": 9,
   "id": "70e7fe68",
   "metadata": {
    "execution": {
     "iopub.execute_input": "2021-12-01T19:26:32.348412Z",
     "iopub.status.busy": "2021-12-01T19:26:32.347787Z",
     "iopub.status.idle": "2021-12-01T19:26:32.350735Z",
     "shell.execute_reply": "2021-12-01T19:26:32.350249Z"
    },
    "papermill": {
     "duration": 0.029986,
     "end_time": "2021-12-01T19:26:32.350879",
     "exception": false,
     "start_time": "2021-12-01T19:26:32.320893",
     "status": "completed"
    },
    "tags": []
   },
   "outputs": [],
   "source": [
    "#q4.hint()\n",
    "#q4.solution()"
   ]
  },
  {
   "cell_type": "markdown",
   "id": "f549e0b5",
   "metadata": {
    "papermill": {
     "duration": 0.023401,
     "end_time": "2021-12-01T19:26:32.397900",
     "exception": false,
     "start_time": "2021-12-01T19:26:32.374499",
     "status": "completed"
    },
    "tags": []
   },
   "source": [
    "## 5.\n",
    "I'm an economical wine buyer. Which wine is the \"best bargain\"? Create a variable `bargain_wine` with the title of the wine with the highest points-to-price ratio in the dataset."
   ]
  },
  {
   "cell_type": "code",
   "execution_count": 10,
   "id": "996009ed",
   "metadata": {
    "execution": {
     "iopub.execute_input": "2021-12-01T19:26:32.447799Z",
     "iopub.status.busy": "2021-12-01T19:26:32.447175Z",
     "iopub.status.idle": "2021-12-01T19:26:32.458686Z",
     "shell.execute_reply": "2021-12-01T19:26:32.459261Z",
     "shell.execute_reply.started": "2021-12-01T18:51:38.299352Z"
    },
    "papermill": {
     "duration": 0.038028,
     "end_time": "2021-12-01T19:26:32.459435",
     "exception": false,
     "start_time": "2021-12-01T19:26:32.421407",
     "status": "completed"
    },
    "tags": []
   },
   "outputs": [
    {
     "data": {
      "application/javascript": [
       "parent.postMessage({\"jupyterEvent\": \"custom.exercise_interaction\", \"data\": {\"outcomeType\": 1, \"valueTowardsCompletion\": 0.14285714285714285, \"interactionType\": 1, \"questionType\": 2, \"questionId\": \"5_BargainWine\", \"learnToolsVersion\": \"0.3.4\", \"failureMessage\": \"\", \"exceptionClass\": \"\", \"trace\": \"\"}}, \"*\")"
      ],
      "text/plain": [
       "<IPython.core.display.Javascript object>"
      ]
     },
     "metadata": {},
     "output_type": "display_data"
    },
    {
     "data": {
      "text/markdown": [
       "<span style=\"color:#33cc33\">Correct</span>"
      ],
      "text/plain": [
       "Correct"
      ]
     },
     "metadata": {},
     "output_type": "display_data"
    }
   ],
   "source": [
    "bargain_wine = reviews.loc[(reviews.points / reviews.price).idxmax(), 'title'] # idxmax returns index of first occurence of max\n",
    "\n",
    "# Check your answer\n",
    "q5.check()"
   ]
  },
  {
   "cell_type": "code",
   "execution_count": 11,
   "id": "c7fca7db",
   "metadata": {
    "execution": {
     "iopub.execute_input": "2021-12-01T19:26:32.512487Z",
     "iopub.status.busy": "2021-12-01T19:26:32.511831Z",
     "iopub.status.idle": "2021-12-01T19:26:32.513975Z",
     "shell.execute_reply": "2021-12-01T19:26:32.514528Z",
     "shell.execute_reply.started": "2021-12-01T18:48:55.314339Z"
    },
    "papermill": {
     "duration": 0.030944,
     "end_time": "2021-12-01T19:26:32.514711",
     "exception": false,
     "start_time": "2021-12-01T19:26:32.483767",
     "status": "completed"
    },
    "tags": []
   },
   "outputs": [],
   "source": [
    "#q5.hint()\n",
    "#q5.solution()"
   ]
  },
  {
   "cell_type": "markdown",
   "id": "b76d6d0a",
   "metadata": {
    "papermill": {
     "duration": 0.023935,
     "end_time": "2021-12-01T19:26:32.563058",
     "exception": false,
     "start_time": "2021-12-01T19:26:32.539123",
     "status": "completed"
    },
    "tags": []
   },
   "source": [
    "## 6.\n",
    "There are only so many words you can use when describing a bottle of wine. Is a wine more likely to be \"tropical\" or \"fruity\"? Create a Series `descriptor_counts` counting how many times each of these two words appears in the `description` column in the dataset."
   ]
  },
  {
   "cell_type": "code",
   "execution_count": 12,
   "id": "6b28d117",
   "metadata": {
    "execution": {
     "iopub.execute_input": "2021-12-01T19:26:32.615367Z",
     "iopub.status.busy": "2021-12-01T19:26:32.614743Z",
     "iopub.status.idle": "2021-12-01T19:26:32.771292Z",
     "shell.execute_reply": "2021-12-01T19:26:32.771752Z",
     "shell.execute_reply.started": "2021-12-01T19:10:56.626111Z"
    },
    "papermill": {
     "duration": 0.184572,
     "end_time": "2021-12-01T19:26:32.771930",
     "exception": false,
     "start_time": "2021-12-01T19:26:32.587358",
     "status": "completed"
    },
    "tags": []
   },
   "outputs": [
    {
     "data": {
      "application/javascript": [
       "parent.postMessage({\"jupyterEvent\": \"custom.exercise_interaction\", \"data\": {\"outcomeType\": 1, \"valueTowardsCompletion\": 0.14285714285714285, \"interactionType\": 1, \"questionType\": 1, \"questionId\": \"6_DescriptorCounts\", \"learnToolsVersion\": \"0.3.4\", \"failureMessage\": \"\", \"exceptionClass\": \"\", \"trace\": \"\"}}, \"*\")"
      ],
      "text/plain": [
       "<IPython.core.display.Javascript object>"
      ]
     },
     "metadata": {},
     "output_type": "display_data"
    },
    {
     "data": {
      "text/markdown": [
       "<span style=\"color:#33cc33\">Correct</span>"
      ],
      "text/plain": [
       "Correct"
      ]
     },
     "metadata": {},
     "output_type": "display_data"
    }
   ],
   "source": [
    "tropical = reviews.description.map(lambda desc: 'tropical' in desc).sum()\n",
    "fruity = reviews.description.map(lambda desc: 'fruity' in desc).sum()\n",
    "\n",
    "descriptor_counts = pd.Series([tropical, fruity], index=['tropical', 'fruity'])\n",
    "\n",
    "# Check your answer\n",
    "q6.check()"
   ]
  },
  {
   "cell_type": "code",
   "execution_count": 13,
   "id": "19a482e5",
   "metadata": {
    "execution": {
     "iopub.execute_input": "2021-12-01T19:26:32.829534Z",
     "iopub.status.busy": "2021-12-01T19:26:32.828893Z",
     "iopub.status.idle": "2021-12-01T19:26:32.831588Z",
     "shell.execute_reply": "2021-12-01T19:26:32.831083Z",
     "shell.execute_reply.started": "2021-12-01T19:11:09.271116Z"
    },
    "papermill": {
     "duration": 0.032731,
     "end_time": "2021-12-01T19:26:32.831744",
     "exception": false,
     "start_time": "2021-12-01T19:26:32.799013",
     "status": "completed"
    },
    "tags": []
   },
   "outputs": [],
   "source": [
    "#q6.hint()\n",
    "#q6.solution()"
   ]
  },
  {
   "cell_type": "markdown",
   "id": "2cbb774e",
   "metadata": {
    "papermill": {
     "duration": 0.026171,
     "end_time": "2021-12-01T19:26:32.883192",
     "exception": false,
     "start_time": "2021-12-01T19:26:32.857021",
     "status": "completed"
    },
    "tags": []
   },
   "source": [
    "## 7.\n",
    "We'd like to host these wine reviews on our website, but a rating system ranging from 80 to 100 points is too hard to understand - we'd like to translate them into simple star ratings. A score of 95 or higher counts as 3 stars, a score of at least 85 but less than 95 is 2 stars. Any other score is 1 star.\n",
    "\n",
    "Also, the Canadian Vintners Association bought a lot of ads on the site, so any wines from Canada should automatically get 3 stars, regardless of points.\n",
    "\n",
    "Create a series `star_ratings` with the number of stars corresponding to each review in the dataset."
   ]
  },
  {
   "cell_type": "code",
   "execution_count": 14,
   "id": "c3a437a9",
   "metadata": {
    "execution": {
     "iopub.execute_input": "2021-12-01T19:26:32.939892Z",
     "iopub.status.busy": "2021-12-01T19:26:32.939207Z",
     "iopub.status.idle": "2021-12-01T19:26:38.964322Z",
     "shell.execute_reply": "2021-12-01T19:26:38.963826Z",
     "shell.execute_reply.started": "2021-12-01T19:25:09.443967Z"
    },
    "papermill": {
     "duration": 6.055964,
     "end_time": "2021-12-01T19:26:38.964467",
     "exception": false,
     "start_time": "2021-12-01T19:26:32.908503",
     "status": "completed"
    },
    "tags": []
   },
   "outputs": [
    {
     "data": {
      "application/javascript": [
       "parent.postMessage({\"jupyterEvent\": \"custom.exercise_interaction\", \"data\": {\"outcomeType\": 1, \"valueTowardsCompletion\": 0.14285714285714285, \"interactionType\": 1, \"questionType\": 1, \"questionId\": \"7_StarRatings\", \"learnToolsVersion\": \"0.3.4\", \"failureMessage\": \"\", \"exceptionClass\": \"\", \"trace\": \"\"}}, \"*\")"
      ],
      "text/plain": [
       "<IPython.core.display.Javascript object>"
      ]
     },
     "metadata": {},
     "output_type": "display_data"
    },
    {
     "data": {
      "text/markdown": [
       "<span style=\"color:#33cc33\">Correct</span>"
      ],
      "text/plain": [
       "Correct"
      ]
     },
     "metadata": {},
     "output_type": "display_data"
    }
   ],
   "source": [
    "def star(row):\n",
    "    if row.points >= 95 or row.country == 'Canada':\n",
    "        return 3\n",
    "    elif row.points >= 85 and row.points < 95:\n",
    "        return 2\n",
    "    else:\n",
    "        return 1\n",
    "\n",
    "star_ratings = reviews.apply(star, axis='columns')\n",
    "\n",
    "# Check your answer\n",
    "q7.check()"
   ]
  },
  {
   "cell_type": "code",
   "execution_count": 15,
   "id": "46824d75",
   "metadata": {
    "execution": {
     "iopub.execute_input": "2021-12-01T19:26:39.020290Z",
     "iopub.status.busy": "2021-12-01T19:26:39.019652Z",
     "iopub.status.idle": "2021-12-01T19:26:39.022232Z",
     "shell.execute_reply": "2021-12-01T19:26:39.022721Z",
     "shell.execute_reply.started": "2021-12-01T19:23:41.944986Z"
    },
    "papermill": {
     "duration": 0.032096,
     "end_time": "2021-12-01T19:26:39.022886",
     "exception": false,
     "start_time": "2021-12-01T19:26:38.990790",
     "status": "completed"
    },
    "tags": []
   },
   "outputs": [],
   "source": [
    "#q7.hint()\n",
    "#q7.solution()"
   ]
  },
  {
   "cell_type": "markdown",
   "id": "6fef2ac6",
   "metadata": {
    "papermill": {
     "duration": 0.026183,
     "end_time": "2021-12-01T19:26:39.075594",
     "exception": false,
     "start_time": "2021-12-01T19:26:39.049411",
     "status": "completed"
    },
    "tags": []
   },
   "source": [
    "# Keep going\n",
    "Continue to **[grouping and sorting](https://www.kaggle.com/residentmario/grouping-and-sorting)**."
   ]
  },
  {
   "cell_type": "markdown",
   "id": "57a9d28e",
   "metadata": {
    "papermill": {
     "duration": 0.026002,
     "end_time": "2021-12-01T19:26:39.128753",
     "exception": false,
     "start_time": "2021-12-01T19:26:39.102751",
     "status": "completed"
    },
    "tags": []
   },
   "source": [
    "---\n",
    "\n",
    "\n",
    "\n",
    "\n",
    "*Have questions or comments? Visit the [course discussion forum](https://www.kaggle.com/learn/pandas/discussion) to chat with other learners.*"
   ]
  }
 ],
 "metadata": {
  "kernelspec": {
   "display_name": "Python 3",
   "language": "python",
   "name": "python3"
  },
  "language_info": {
   "codemirror_mode": {
    "name": "ipython",
    "version": 3
   },
   "file_extension": ".py",
   "mimetype": "text/x-python",
   "name": "python",
   "nbconvert_exporter": "python",
   "pygments_lexer": "ipython3",
   "version": "3.7.10"
  },
  "papermill": {
   "default_parameters": {},
   "duration": 63.982326,
   "end_time": "2021-12-01T19:26:39.775342",
   "environment_variables": {},
   "exception": null,
   "input_path": "__notebook__.ipynb",
   "output_path": "__notebook__.ipynb",
   "parameters": {},
   "start_time": "2021-12-01T19:25:35.793016",
   "version": "2.3.3"
  }
 },
 "nbformat": 4,
 "nbformat_minor": 5
}
